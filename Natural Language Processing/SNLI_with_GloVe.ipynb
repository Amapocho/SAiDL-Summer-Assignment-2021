{
  "nbformat": 4,
  "nbformat_minor": 0,
  "metadata": {
    "kernelspec": {
      "language": "python",
      "display_name": "Python 3",
      "name": "python3"
    },
    "language_info": {
      "name": "python",
      "version": "3.7.10",
      "mimetype": "text/x-python",
      "codemirror_mode": {
        "name": "ipython",
        "version": 3
      },
      "pygments_lexer": "ipython3",
      "nbconvert_exporter": "python",
      "file_extension": ".py"
    },
    "colab": {
      "name": "SNLI_with_GloVe.ipynb",
      "provenance": [],
      "collapsed_sections": []
    }
  },
  "cells": [
    {
      "cell_type": "markdown",
      "metadata": {
        "id": "B-jAbBEdZiLQ"
      },
      "source": [
        "#Inference on SNLI with GloVe Embeddings + BiLSTM"
      ]
    },
    {
      "cell_type": "markdown",
      "metadata": {
        "id": "J1wv7uqRaXeg"
      },
      "source": [
        "### Import libraries"
      ]
    },
    {
      "cell_type": "code",
      "metadata": {
        "_uuid": "8f2839f25d086af736a60e9eeb907d3b93b6e0e5",
        "_cell_guid": "b1076dfc-b9ad-4769-8c92-a6c4dae69d19",
        "execution": {
          "iopub.status.busy": "2021-08-04T08:58:57.800559Z",
          "iopub.execute_input": "2021-08-04T08:58:57.800888Z",
          "iopub.status.idle": "2021-08-04T08:58:57.807010Z",
          "shell.execute_reply.started": "2021-08-04T08:58:57.800856Z",
          "shell.execute_reply": "2021-08-04T08:58:57.805935Z"
        },
        "trusted": true,
        "id": "hy23b63cZg0t"
      },
      "source": [
        "import torch\n",
        "import torch.nn as nn\n",
        "import torch.nn.functional as F\n",
        "import torch.optim as optim\n",
        "\n",
        "from torchtext import data\n",
        "from torchtext import datasets\n",
        "\n",
        "import random\n",
        "import numpy as np\n",
        "\n",
        "import time\n",
        "\n",
        "import matplotlib.pyplot as plt"
      ],
      "execution_count": null,
      "outputs": []
    },
    {
      "cell_type": "code",
      "metadata": {
        "execution": {
          "iopub.status.busy": "2021-08-04T08:21:16.975373Z",
          "iopub.execute_input": "2021-08-04T08:21:16.975806Z",
          "iopub.status.idle": "2021-08-04T08:21:30.097336Z",
          "shell.execute_reply.started": "2021-08-04T08:21:16.975762Z",
          "shell.execute_reply": "2021-08-04T08:21:30.096171Z"
        },
        "trusted": true,
        "id": "r9fwTmXnZg0v",
        "outputId": "9ec3ea0a-209b-403c-d3cf-3577eb09c29a"
      },
      "source": [
        "!python -m spacy download en"
      ],
      "execution_count": null,
      "outputs": [
        {
          "output_type": "stream",
          "text": [
            "Collecting en_core_web_sm==2.3.1\n",
            "  Downloading https://github.com/explosion/spacy-models/releases/download/en_core_web_sm-2.3.1/en_core_web_sm-2.3.1.tar.gz (12.0 MB)\n",
            "\u001b[K     |████████████████████████████████| 12.0 MB 8.6 MB/s eta 0:00:01\n",
            "\u001b[?25hRequirement already satisfied: spacy<2.4.0,>=2.3.0 in /opt/conda/lib/python3.7/site-packages (from en_core_web_sm==2.3.1) (2.3.7)\n",
            "Requirement already satisfied: plac<1.2.0,>=0.9.6 in /opt/conda/lib/python3.7/site-packages (from spacy<2.4.0,>=2.3.0->en_core_web_sm==2.3.1) (1.1.3)\n",
            "Requirement already satisfied: numpy>=1.15.0 in /opt/conda/lib/python3.7/site-packages (from spacy<2.4.0,>=2.3.0->en_core_web_sm==2.3.1) (1.19.5)\n",
            "Requirement already satisfied: thinc<7.5.0,>=7.4.1 in /opt/conda/lib/python3.7/site-packages (from spacy<2.4.0,>=2.3.0->en_core_web_sm==2.3.1) (7.4.5)\n",
            "Requirement already satisfied: wasabi<1.1.0,>=0.4.0 in /opt/conda/lib/python3.7/site-packages (from spacy<2.4.0,>=2.3.0->en_core_web_sm==2.3.1) (0.8.2)\n",
            "Requirement already satisfied: murmurhash<1.1.0,>=0.28.0 in /opt/conda/lib/python3.7/site-packages (from spacy<2.4.0,>=2.3.0->en_core_web_sm==2.3.1) (1.0.5)\n",
            "Requirement already satisfied: preshed<3.1.0,>=3.0.2 in /opt/conda/lib/python3.7/site-packages (from spacy<2.4.0,>=2.3.0->en_core_web_sm==2.3.1) (3.0.5)\n",
            "Requirement already satisfied: catalogue<1.1.0,>=0.0.7 in /opt/conda/lib/python3.7/site-packages (from spacy<2.4.0,>=2.3.0->en_core_web_sm==2.3.1) (1.0.0)\n",
            "Requirement already satisfied: setuptools in /opt/conda/lib/python3.7/site-packages (from spacy<2.4.0,>=2.3.0->en_core_web_sm==2.3.1) (49.6.0.post20210108)\n",
            "Requirement already satisfied: blis<0.8.0,>=0.4.0 in /opt/conda/lib/python3.7/site-packages (from spacy<2.4.0,>=2.3.0->en_core_web_sm==2.3.1) (0.7.4)\n",
            "Requirement already satisfied: tqdm<5.0.0,>=4.38.0 in /opt/conda/lib/python3.7/site-packages (from spacy<2.4.0,>=2.3.0->en_core_web_sm==2.3.1) (4.61.1)\n",
            "Requirement already satisfied: srsly<1.1.0,>=1.0.2 in /opt/conda/lib/python3.7/site-packages (from spacy<2.4.0,>=2.3.0->en_core_web_sm==2.3.1) (1.0.5)\n",
            "Requirement already satisfied: requests<3.0.0,>=2.13.0 in /opt/conda/lib/python3.7/site-packages (from spacy<2.4.0,>=2.3.0->en_core_web_sm==2.3.1) (2.25.1)\n",
            "Requirement already satisfied: cymem<2.1.0,>=2.0.2 in /opt/conda/lib/python3.7/site-packages (from spacy<2.4.0,>=2.3.0->en_core_web_sm==2.3.1) (2.0.5)\n",
            "Requirement already satisfied: importlib-metadata>=0.20 in /opt/conda/lib/python3.7/site-packages (from catalogue<1.1.0,>=0.0.7->spacy<2.4.0,>=2.3.0->en_core_web_sm==2.3.1) (3.4.0)\n",
            "Requirement already satisfied: typing-extensions>=3.6.4 in /opt/conda/lib/python3.7/site-packages (from importlib-metadata>=0.20->catalogue<1.1.0,>=0.0.7->spacy<2.4.0,>=2.3.0->en_core_web_sm==2.3.1) (3.7.4.3)\n",
            "Requirement already satisfied: zipp>=0.5 in /opt/conda/lib/python3.7/site-packages (from importlib-metadata>=0.20->catalogue<1.1.0,>=0.0.7->spacy<2.4.0,>=2.3.0->en_core_web_sm==2.3.1) (3.4.1)\n",
            "Requirement already satisfied: idna<3,>=2.5 in /opt/conda/lib/python3.7/site-packages (from requests<3.0.0,>=2.13.0->spacy<2.4.0,>=2.3.0->en_core_web_sm==2.3.1) (2.10)\n",
            "Requirement already satisfied: chardet<5,>=3.0.2 in /opt/conda/lib/python3.7/site-packages (from requests<3.0.0,>=2.13.0->spacy<2.4.0,>=2.3.0->en_core_web_sm==2.3.1) (4.0.0)\n",
            "Requirement already satisfied: certifi>=2017.4.17 in /opt/conda/lib/python3.7/site-packages (from requests<3.0.0,>=2.13.0->spacy<2.4.0,>=2.3.0->en_core_web_sm==2.3.1) (2021.5.30)\n",
            "Requirement already satisfied: urllib3<1.27,>=1.21.1 in /opt/conda/lib/python3.7/site-packages (from requests<3.0.0,>=2.13.0->spacy<2.4.0,>=2.3.0->en_core_web_sm==2.3.1) (1.26.5)\n",
            "\u001b[33mWARNING: Running pip as root will break packages and permissions. You should install packages reliably by using venv: https://pip.pypa.io/warnings/venv\u001b[0m\n",
            "\u001b[38;5;2m✔ Download and installation successful\u001b[0m\n",
            "You can now load the model via spacy.load('en_core_web_sm')\n",
            "\u001b[38;5;2m✔ Linking successful\u001b[0m\n",
            "/opt/conda/lib/python3.7/site-packages/en_core_web_sm -->\n",
            "/opt/conda/lib/python3.7/site-packages/spacy/data/en\n",
            "You can now load the model via spacy.load('en')\n"
          ],
          "name": "stdout"
        }
      ]
    },
    {
      "cell_type": "markdown",
      "metadata": {
        "id": "ZX0_XXrUamTd"
      },
      "source": [
        "### Set random seed"
      ]
    },
    {
      "cell_type": "code",
      "metadata": {
        "execution": {
          "iopub.status.busy": "2021-08-04T08:21:14.157804Z",
          "iopub.execute_input": "2021-08-04T08:21:14.158202Z",
          "iopub.status.idle": "2021-08-04T08:21:14.163391Z",
          "shell.execute_reply.started": "2021-08-04T08:21:14.158167Z",
          "shell.execute_reply": "2021-08-04T08:21:14.162368Z"
        },
        "trusted": true,
        "id": "0hF8v0IwZg0v"
      },
      "source": [
        "SEED = 1234\n",
        "\n",
        "random.seed(SEED)\n",
        "np.random.seed(SEED)\n",
        "torch.manual_seed(SEED)\n",
        "torch.backends.cudnn.deterministic = True"
      ],
      "execution_count": null,
      "outputs": []
    },
    {
      "cell_type": "markdown",
      "metadata": {
        "id": "S1CZtQnWaoYq"
      },
      "source": [
        "### Import data"
      ]
    },
    {
      "cell_type": "code",
      "metadata": {
        "execution": {
          "iopub.status.busy": "2021-08-04T08:21:30.099447Z",
          "iopub.execute_input": "2021-08-04T08:21:30.099856Z",
          "iopub.status.idle": "2021-08-04T08:21:31.036872Z",
          "shell.execute_reply.started": "2021-08-04T08:21:30.099806Z",
          "shell.execute_reply": "2021-08-04T08:21:31.035998Z"
        },
        "trusted": true,
        "id": "e9Pzx7w3Zg0w",
        "outputId": "bb6c5877-e2d3-47a3-b25e-31f592c850f1"
      },
      "source": [
        "TEXT = data.Field(tokenize = 'spacy', lower = True)\n",
        "LABEL = data.LabelField()"
      ],
      "execution_count": null,
      "outputs": [
        {
          "output_type": "stream",
          "text": [
            "/opt/conda/lib/python3.7/site-packages/torchtext/data/field.py:150: UserWarning: Field class will be retired soon and moved to torchtext.legacy. Please see the most recent release notes for further information.\n",
            "  warnings.warn('{} class will be retired soon and moved to torchtext.legacy. Please see the most recent release notes for further information.'.format(self.__class__.__name__), UserWarning)\n"
          ],
          "name": "stderr"
        }
      ]
    },
    {
      "cell_type": "code",
      "metadata": {
        "execution": {
          "iopub.status.busy": "2021-08-04T08:21:31.039438Z",
          "iopub.execute_input": "2021-08-04T08:21:31.039977Z",
          "iopub.status.idle": "2021-08-04T08:22:42.895981Z",
          "shell.execute_reply.started": "2021-08-04T08:21:31.039936Z",
          "shell.execute_reply": "2021-08-04T08:22:42.895109Z"
        },
        "trusted": true,
        "id": "2qGlt_ZJZg0x"
      },
      "source": [
        "train_data, valid_data, test_data = datasets.SNLI.splits(TEXT, LABEL)"
      ],
      "execution_count": null,
      "outputs": []
    },
    {
      "cell_type": "code",
      "metadata": {
        "execution": {
          "iopub.status.busy": "2021-08-04T08:22:42.897454Z",
          "iopub.execute_input": "2021-08-04T08:22:42.897792Z",
          "iopub.status.idle": "2021-08-04T08:22:42.905946Z",
          "shell.execute_reply.started": "2021-08-04T08:22:42.897755Z",
          "shell.execute_reply": "2021-08-04T08:22:42.905008Z"
        },
        "trusted": true,
        "id": "TvFhfBXlZg0x",
        "outputId": "eb4e698e-d8c3-4d54-cacb-5c7f181ba18d"
      },
      "source": [
        "print(f\"Number of training examples: {len(train_data)}\")\n",
        "print(f\"Number of validation examples: {len(valid_data)}\")\n",
        "print(f\"Number of testing examples: {len(test_data)}\")"
      ],
      "execution_count": null,
      "outputs": [
        {
          "output_type": "stream",
          "text": [
            "Number of training examples: 549367\n",
            "Number of validation examples: 9842\n",
            "Number of testing examples: 9824\n"
          ],
          "name": "stdout"
        }
      ]
    },
    {
      "cell_type": "code",
      "metadata": {
        "execution": {
          "iopub.status.busy": "2021-08-04T08:22:49.812539Z",
          "iopub.execute_input": "2021-08-04T08:22:49.812873Z",
          "iopub.status.idle": "2021-08-04T08:22:49.846145Z",
          "shell.execute_reply.started": "2021-08-04T08:22:49.812839Z",
          "shell.execute_reply": "2021-08-04T08:22:49.845173Z"
        },
        "trusted": true,
        "id": "h_YccT0WZg0x"
      },
      "source": [
        "\n",
        "BATCH_SIZE = 512\n",
        "\n",
        "device = torch.device('cuda' if torch.cuda.is_available() else 'cpu')\n",
        "\n",
        "train_iterator, valid_iterator, test_iterator = data.BucketIterator.splits(\n",
        "    (train_data, valid_data, test_data), \n",
        "    batch_size = BATCH_SIZE,\n",
        "    device = device)"
      ],
      "execution_count": null,
      "outputs": []
    },
    {
      "cell_type": "markdown",
      "metadata": {
        "id": "vaQ1h0dAaxHx"
      },
      "source": [
        "### Build vocabulary"
      ]
    },
    {
      "cell_type": "code",
      "metadata": {
        "execution": {
          "iopub.status.busy": "2021-08-04T08:22:42.907313Z",
          "iopub.execute_input": "2021-08-04T08:22:42.907672Z",
          "iopub.status.idle": "2021-08-04T08:22:49.811184Z",
          "shell.execute_reply.started": "2021-08-04T08:22:42.907636Z",
          "shell.execute_reply": "2021-08-04T08:22:49.810298Z"
        },
        "trusted": true,
        "id": "m2dfglAGZg0x"
      },
      "source": [
        "\n",
        "MIN_FREQ = 2\n",
        "\n",
        "TEXT.build_vocab(train_data, \n",
        "                 min_freq = MIN_FREQ,\n",
        "                 vectors = \"glove.6B.300d\",\n",
        "                 unk_init = torch.Tensor.normal_)\n",
        "\n",
        "LABEL.build_vocab(train_data)"
      ],
      "execution_count": null,
      "outputs": []
    },
    {
      "cell_type": "markdown",
      "metadata": {
        "id": "O5Fa9HTTazK-"
      },
      "source": [
        "Frame the model"
      ]
    },
    {
      "cell_type": "code",
      "metadata": {
        "execution": {
          "iopub.status.busy": "2021-08-04T08:22:49.847630Z",
          "iopub.execute_input": "2021-08-04T08:22:49.848121Z",
          "iopub.status.idle": "2021-08-04T08:22:49.864243Z",
          "shell.execute_reply.started": "2021-08-04T08:22:49.848086Z",
          "shell.execute_reply": "2021-08-04T08:22:49.863463Z"
        },
        "trusted": true,
        "id": "mGHQicIwZg0y"
      },
      "source": [
        "class Model(nn.Module):\n",
        "    def __init__(self, \n",
        "                 input_dim, \n",
        "                 embedding_dim,\n",
        "                 hidden_dim,\n",
        "                 n_lstm_layers,\n",
        "                 output_dim, \n",
        "                 dropout, \n",
        "                 pad_idx):\n",
        "        \n",
        "        super().__init__()\n",
        "                                \n",
        "        self.embedding = nn.Embedding(input_dim, embedding_dim, padding_idx = pad_idx)\n",
        "        \n",
        "        self.translation = nn.Linear(embedding_dim, hidden_dim)\n",
        "        \n",
        "        self.lstm = nn.LSTM(hidden_dim, \n",
        "                            hidden_dim, \n",
        "                            num_layers = n_lstm_layers, \n",
        "                            bidirectional = True, \n",
        "                            dropout=dropout)\n",
        "        \n",
        "        com_dim = hidden_dim * 2\n",
        "\n",
        "        self.dense1 = nn.Linear(com_dim * 2, com_dim * 4)\n",
        "        self.dense2 = nn.Linear(com_dim * 4, com_dim * 8)\n",
        "        self.dense3 = nn.Linear(com_dim * 8, com_dim * 4)\n",
        "        self.dense4 = nn.Linear(com_dim * 4, com_dim * 2)\n",
        "        \n",
        "        self.out = nn.Linear(com_dim * 2, output_dim)\n",
        "        \n",
        "        self.dropout = nn.Dropout(dropout)\n",
        "        \n",
        "    def forward(self, prem, hypo):\n",
        "\n",
        "        prem_seq_len, batch_size = prem.shape\n",
        "        hypo_seq_len, _ = hypo.shape\n",
        "        \n",
        "        #prem = [prem sent len, batch size]\n",
        "        #hypo = [hypo sent len, batch size]\n",
        "        \n",
        "        embedded_prem = self.embedding(prem)\n",
        "        embedded_hypo = self.embedding(hypo)\n",
        "        \n",
        "        #embedded_prem = [prem sent len, batch size, embedding dim]\n",
        "        #embedded_hypo = [hypo sent len, batch size, embedding dim]\n",
        "        \n",
        "        translated_prem = F.relu(self.translation(embedded_prem))\n",
        "        translated_hypo = F.relu(self.translation(embedded_hypo))\n",
        "        \n",
        "        #translated_prem = [prem sent len, batch size, hidden dim]\n",
        "        #translated_hypo = [hypo sent len, batch size, hidden dim]\n",
        "        \n",
        "        outputs_prem, (hidden_prem, cell_prem) = self.lstm(translated_prem)\n",
        "        outputs_hypo, (hidden_hypo, cell_hypo) = self.lstm(translated_hypo)\n",
        "\n",
        "        #outputs_x = [sent len, batch size, n directions * hid dim]\n",
        "        #hidden_x = [n layers * n directions, batch size, hid dim]\n",
        "        #cell_x = [n layers * n directions, batch size, hid dim]\n",
        "        \n",
        "        hidden_prem = torch.cat((hidden_prem[-1], hidden_prem[-2]), dim=-1)\n",
        "        hidden_hypo = torch.cat((hidden_hypo[-1], hidden_hypo[-2]), dim=-1)\n",
        "        \n",
        "        #hidden_x = [batch size, fc dim]\n",
        "\n",
        "        hidden = torch.cat((hidden_prem, hidden_hypo), dim=1)\n",
        "\n",
        "        #hidden = [batch size, fc dim * 2]\n",
        "            \n",
        "        \n",
        "        hidden = self.dense1(hidden)\n",
        "        hidden = F.relu(hidden)\n",
        "        hidden = self.dropout(hidden)\n",
        "        hidden = self.dense2(hidden)\n",
        "        hidden = F.relu(hidden)\n",
        "        hidden = self.dropout(hidden)\n",
        "        hidden = self.dense3(hidden)\n",
        "        hidden = F.relu(hidden)\n",
        "        hidden = self.dropout(hidden)\n",
        "        hidden = self.dense4(hidden)\n",
        "        hidden = F.relu(hidden)\n",
        "        hidden = self.dropout(hidden)\n",
        "        \n",
        "        prediction = self.out(hidden)\n",
        "        \n",
        "        #prediction = [batch size, output dim]\n",
        "        \n",
        "        return prediction"
      ],
      "execution_count": null,
      "outputs": []
    },
    {
      "cell_type": "code",
      "metadata": {
        "execution": {
          "iopub.status.busy": "2021-08-04T08:22:49.867122Z",
          "iopub.execute_input": "2021-08-04T08:22:49.867543Z",
          "iopub.status.idle": "2021-08-04T08:22:50.220602Z",
          "shell.execute_reply.started": "2021-08-04T08:22:49.867474Z",
          "shell.execute_reply": "2021-08-04T08:22:50.219616Z"
        },
        "trusted": true,
        "id": "hs9AniVfZg0z"
      },
      "source": [
        "INPUT_DIM = len(TEXT.vocab)\n",
        "EMBEDDING_DIM = 300\n",
        "HIDDEN_DIM = 300\n",
        "N_LSTM_LAYERS = 2\n",
        "OUTPUT_DIM = len(LABEL.vocab)\n",
        "DROPOUT = 0.25\n",
        "PAD_IDX = TEXT.vocab.stoi[TEXT.pad_token]\n",
        "\n",
        "model = Model(INPUT_DIM,\n",
        "              EMBEDDING_DIM,\n",
        "              HIDDEN_DIM,\n",
        "              N_LSTM_LAYERS,\n",
        "              OUTPUT_DIM,\n",
        "              DROPOUT,\n",
        "              PAD_IDX).to(device) #Send model to cuda"
      ],
      "execution_count": null,
      "outputs": []
    },
    {
      "cell_type": "markdown",
      "metadata": {
        "id": "gjw_IzzQa_CP"
      },
      "source": [
        "### Import embeddings and freeze training"
      ]
    },
    {
      "cell_type": "code",
      "metadata": {
        "execution": {
          "iopub.status.busy": "2021-08-04T08:22:50.222523Z",
          "iopub.execute_input": "2021-08-04T08:22:50.222893Z",
          "iopub.status.idle": "2021-08-04T08:22:50.228368Z",
          "shell.execute_reply.started": "2021-08-04T08:22:50.222853Z",
          "shell.execute_reply": "2021-08-04T08:22:50.227509Z"
        },
        "trusted": true,
        "id": "BS5KYGYkZg0z",
        "outputId": "06911b64-38e2-4fa3-f455-a22a7eeaaec0"
      },
      "source": [
        "def count_parameters(model):\n",
        "    return sum(p.numel() for p in model.parameters() if p.requires_grad)\n",
        "\n",
        "print(f'The model has {count_parameters(model):,} trainable parameters')"
      ],
      "execution_count": null,
      "outputs": [
        {
          "output_type": "stream",
          "text": [
            "The model has 39,584,103 trainable parameters\n"
          ],
          "name": "stdout"
        }
      ]
    },
    {
      "cell_type": "code",
      "metadata": {
        "execution": {
          "iopub.status.busy": "2021-08-04T08:22:50.229892Z",
          "iopub.execute_input": "2021-08-04T08:22:50.230434Z",
          "iopub.status.idle": "2021-08-04T08:22:50.243636Z",
          "shell.execute_reply.started": "2021-08-04T08:22:50.230351Z",
          "shell.execute_reply": "2021-08-04T08:22:50.242710Z"
        },
        "trusted": true,
        "id": "ZlPIBmzmZg0z",
        "outputId": "a5576d38-f556-41fc-80ce-7c82b5337165"
      },
      "source": [
        "pretrained_embeddings = TEXT.vocab.vectors\n",
        "\n",
        "print(pretrained_embeddings.shape)"
      ],
      "execution_count": null,
      "outputs": [
        {
          "output_type": "stream",
          "text": [
            "torch.Size([23566, 300])\n"
          ],
          "name": "stdout"
        }
      ]
    },
    {
      "cell_type": "code",
      "metadata": {
        "execution": {
          "iopub.status.busy": "2021-08-04T08:22:50.245286Z",
          "iopub.execute_input": "2021-08-04T08:22:50.245744Z",
          "iopub.status.idle": "2021-08-04T08:22:50.265373Z",
          "shell.execute_reply.started": "2021-08-04T08:22:50.245664Z",
          "shell.execute_reply": "2021-08-04T08:22:50.264579Z"
        },
        "trusted": true,
        "id": "8dWDo-AqZg00",
        "outputId": "bce712a0-3ace-4539-ba7b-3ead75bd757d"
      },
      "source": [
        "\n",
        "model.embedding.weight.data.copy_(pretrained_embeddings)"
      ],
      "execution_count": null,
      "outputs": [
        {
          "output_type": "execute_result",
          "data": {
            "text/plain": [
              "tensor([[-0.1117, -0.4966,  0.1631,  ..., -1.4447,  0.8402, -0.8668],\n",
              "        [ 0.1032, -1.6268,  0.5729,  ...,  0.3180, -0.1626, -0.0417],\n",
              "        [-0.2971,  0.0940, -0.0967,  ...,  0.0597, -0.2285,  0.2960],\n",
              "        ...,\n",
              "        [-0.2149,  0.0846, -0.2949,  ...,  0.2379,  0.4804, -0.3348],\n",
              "        [-0.2983, -0.2664, -0.0631,  ..., -0.1577,  1.0438, -0.6433],\n",
              "        [ 0.3580, -0.0304,  0.3355,  ...,  0.0703, -0.5158,  0.1819]],\n",
              "       device='cuda:0')"
            ]
          },
          "metadata": {
            "tags": []
          },
          "execution_count": 36
        }
      ]
    },
    {
      "cell_type": "code",
      "metadata": {
        "execution": {
          "iopub.status.busy": "2021-08-04T08:22:50.266633Z",
          "iopub.execute_input": "2021-08-04T08:22:50.266974Z",
          "iopub.status.idle": "2021-08-04T08:22:50.276420Z",
          "shell.execute_reply.started": "2021-08-04T08:22:50.266929Z",
          "shell.execute_reply": "2021-08-04T08:22:50.275387Z"
        },
        "trusted": true,
        "id": "JSXtWO5IZg00",
        "outputId": "be335ca5-eadf-4791-b69d-9ad5726ac72c"
      },
      "source": [
        "model.embedding.weight.data[PAD_IDX] = torch.zeros(EMBEDDING_DIM)\n",
        "\n",
        "print(model.embedding.weight.data)"
      ],
      "execution_count": null,
      "outputs": [
        {
          "output_type": "stream",
          "text": [
            "tensor([[-0.1117, -0.4966,  0.1631,  ..., -1.4447,  0.8402, -0.8668],\n",
            "        [ 0.0000,  0.0000,  0.0000,  ...,  0.0000,  0.0000,  0.0000],\n",
            "        [-0.2971,  0.0940, -0.0967,  ...,  0.0597, -0.2285,  0.2960],\n",
            "        ...,\n",
            "        [-0.2149,  0.0846, -0.2949,  ...,  0.2379,  0.4804, -0.3348],\n",
            "        [-0.2983, -0.2664, -0.0631,  ..., -0.1577,  1.0438, -0.6433],\n",
            "        [ 0.3580, -0.0304,  0.3355,  ...,  0.0703, -0.5158,  0.1819]],\n",
            "       device='cuda:0')\n"
          ],
          "name": "stdout"
        }
      ]
    },
    {
      "cell_type": "code",
      "metadata": {
        "execution": {
          "iopub.status.busy": "2021-08-04T08:22:50.278162Z",
          "iopub.execute_input": "2021-08-04T08:22:50.278441Z",
          "iopub.status.idle": "2021-08-04T08:22:50.282771Z",
          "shell.execute_reply.started": "2021-08-04T08:22:50.278410Z",
          "shell.execute_reply": "2021-08-04T08:22:50.281876Z"
        },
        "trusted": true,
        "id": "l39c_uoNZg00"
      },
      "source": [
        "model.embedding.weight.requires_grad = False"
      ],
      "execution_count": null,
      "outputs": []
    },
    {
      "cell_type": "code",
      "metadata": {
        "execution": {
          "iopub.status.busy": "2021-08-04T08:22:50.284432Z",
          "iopub.execute_input": "2021-08-04T08:22:50.285125Z",
          "iopub.status.idle": "2021-08-04T08:22:50.293379Z",
          "shell.execute_reply.started": "2021-08-04T08:22:50.285087Z",
          "shell.execute_reply": "2021-08-04T08:22:50.292427Z"
        },
        "trusted": true,
        "id": "v83qhTTtZg01",
        "outputId": "59ad649b-11b9-426a-ec24-d0ff637366ed"
      },
      "source": [
        "\n",
        "def count_parameters(model):\n",
        "    return sum(p.numel() for p in model.parameters() if p.requires_grad)\n",
        "\n",
        "print(f'The model has {count_parameters(model):,} trainable parameters')"
      ],
      "execution_count": null,
      "outputs": [
        {
          "output_type": "stream",
          "text": [
            "The model has 32,514,303 trainable parameters\n"
          ],
          "name": "stdout"
        }
      ]
    },
    {
      "cell_type": "markdown",
      "metadata": {
        "id": "KDWTJH-kbDuh"
      },
      "source": [
        "### Train the model"
      ]
    },
    {
      "cell_type": "code",
      "metadata": {
        "execution": {
          "iopub.status.busy": "2021-08-04T08:22:50.294686Z",
          "iopub.execute_input": "2021-08-04T08:22:50.295122Z",
          "iopub.status.idle": "2021-08-04T08:22:50.303051Z",
          "shell.execute_reply.started": "2021-08-04T08:22:50.295088Z",
          "shell.execute_reply": "2021-08-04T08:22:50.302266Z"
        },
        "trusted": true,
        "id": "yfDepr7DZg01"
      },
      "source": [
        "optimizer = optim.Adam(model.parameters())\n",
        "criterion = nn.CrossEntropyLoss().to(device)"
      ],
      "execution_count": null,
      "outputs": []
    },
    {
      "cell_type": "code",
      "metadata": {
        "execution": {
          "iopub.status.busy": "2021-08-04T08:22:50.305090Z",
          "iopub.execute_input": "2021-08-04T08:22:50.305725Z",
          "iopub.status.idle": "2021-08-04T08:22:50.312956Z",
          "shell.execute_reply.started": "2021-08-04T08:22:50.305688Z",
          "shell.execute_reply": "2021-08-04T08:22:50.312106Z"
        },
        "trusted": true,
        "id": "Gl1oUlLPZg01"
      },
      "source": [
        "def categorical_accuracy(preds, y):\n",
        "    \n",
        "    max_preds = preds.argmax(dim = 1, keepdim = True) # get the index of the max probability\n",
        "    correct = max_preds.squeeze(1).eq(y)\n",
        "    correct = correct.to('cpu')\n",
        "    y = y.to('cpu')\n",
        "    return correct.sum() / torch.FloatTensor([y.shape[0]])"
      ],
      "execution_count": null,
      "outputs": []
    },
    {
      "cell_type": "code",
      "metadata": {
        "execution": {
          "iopub.status.busy": "2021-08-04T08:22:50.314266Z",
          "iopub.execute_input": "2021-08-04T08:22:50.314846Z",
          "iopub.status.idle": "2021-08-04T08:22:50.323382Z",
          "shell.execute_reply.started": "2021-08-04T08:22:50.314809Z",
          "shell.execute_reply": "2021-08-04T08:22:50.322622Z"
        },
        "trusted": true,
        "id": "43PZ5-UDZg01"
      },
      "source": [
        "def train(model, iterator, optimizer, criterion):\n",
        "    \n",
        "    epoch_loss = 0\n",
        "    epoch_acc = 0\n",
        "    \n",
        "    model.train()\n",
        "    \n",
        "    for batch in iterator:\n",
        "        \n",
        "        prem = batch.premise\n",
        "        hypo = batch.hypothesis\n",
        "        labels = batch.label\n",
        "        \n",
        "        optimizer.zero_grad()\n",
        "        \n",
        "        #prem = [prem sent len, batch size]\n",
        "        #hypo = [hypo sent len, batch size]\n",
        "        \n",
        "        predictions = model(prem, hypo)\n",
        "        \n",
        "        #predictions = [batch size, output dim]\n",
        "        #labels = [batch size]\n",
        "        \n",
        "        loss = criterion(predictions, labels)\n",
        "                \n",
        "        acc = categorical_accuracy(predictions, labels)\n",
        "        \n",
        "        loss.backward()\n",
        "        \n",
        "        optimizer.step()\n",
        "        \n",
        "        epoch_loss += loss.item()\n",
        "        epoch_acc += acc.item()\n",
        "        \n",
        "    return epoch_loss / len(iterator), epoch_acc / len(iterator)"
      ],
      "execution_count": null,
      "outputs": []
    },
    {
      "cell_type": "code",
      "metadata": {
        "execution": {
          "iopub.status.busy": "2021-08-04T08:22:50.324784Z",
          "iopub.execute_input": "2021-08-04T08:22:50.325163Z",
          "iopub.status.idle": "2021-08-04T08:22:50.336924Z",
          "shell.execute_reply.started": "2021-08-04T08:22:50.325127Z",
          "shell.execute_reply": "2021-08-04T08:22:50.336079Z"
        },
        "trusted": true,
        "id": "8Cai7JkrZg01"
      },
      "source": [
        "def evaluate(model, iterator, criterion):\n",
        "    \n",
        "    epoch_loss = 0\n",
        "    epoch_acc = 0\n",
        "    \n",
        "    model.eval()\n",
        "    \n",
        "    with torch.no_grad():\n",
        "    \n",
        "        for batch in iterator:\n",
        "\n",
        "            prem = batch.premise\n",
        "            hypo = batch.hypothesis\n",
        "            labels = batch.label\n",
        "                        \n",
        "            predictions = model(prem, hypo)\n",
        "            \n",
        "            loss = criterion(predictions, labels)\n",
        "                \n",
        "            acc = categorical_accuracy(predictions, labels)\n",
        "            \n",
        "            epoch_loss += loss.item()\n",
        "            epoch_acc += acc.item()\n",
        "        \n",
        "    return epoch_loss / len(iterator), epoch_acc / len(iterator)"
      ],
      "execution_count": null,
      "outputs": []
    },
    {
      "cell_type": "code",
      "metadata": {
        "execution": {
          "iopub.status.busy": "2021-08-04T08:22:50.337976Z",
          "iopub.execute_input": "2021-08-04T08:22:50.338492Z",
          "iopub.status.idle": "2021-08-04T08:22:50.346249Z",
          "shell.execute_reply.started": "2021-08-04T08:22:50.338449Z",
          "shell.execute_reply": "2021-08-04T08:22:50.345412Z"
        },
        "trusted": true,
        "id": "gl4iIE8FZg02"
      },
      "source": [
        "\n",
        "def epoch_time(start_time, end_time):\n",
        "    elapsed_time = end_time - start_time\n",
        "    elapsed_mins = int(elapsed_time / 60)\n",
        "    elapsed_secs = int(elapsed_time - (elapsed_mins * 60))\n",
        "    return elapsed_mins, elapsed_secs"
      ],
      "execution_count": null,
      "outputs": []
    },
    {
      "cell_type": "code",
      "metadata": {
        "execution": {
          "iopub.status.busy": "2021-08-04T08:22:50.349669Z",
          "iopub.execute_input": "2021-08-04T08:22:50.349936Z",
          "iopub.status.idle": "2021-08-04T08:56:32.197745Z",
          "shell.execute_reply.started": "2021-08-04T08:22:50.349911Z",
          "shell.execute_reply": "2021-08-04T08:56:32.196870Z"
        },
        "trusted": true,
        "id": "QC-l2c4lZg02",
        "outputId": "d0a53747-7725-4183-d315-109706548773"
      },
      "source": [
        "N_EPOCHS = 10\n",
        "tr_loss = []\n",
        "vl_loss = []\n",
        "tr_acc = []\n",
        "vl_acc = []\n",
        "best_valid_loss = float('inf')\n",
        "\n",
        "for epoch in range(N_EPOCHS):\n",
        "\n",
        "    start_time = time.time()\n",
        "    \n",
        "    train_loss, train_acc = train(model, train_iterator, optimizer, criterion)\n",
        "    valid_loss, valid_acc = evaluate(model, valid_iterator, criterion)\n",
        "    \n",
        "    tr_loss.append(train_loss)\n",
        "    vl_loss.append(valid_loss)\n",
        "    tr_acc.append(train_acc)\n",
        "    vl_acc.append(valid_acc)\n",
        "    \n",
        "    end_time = time.time()\n",
        "\n",
        "    epoch_mins, epoch_secs = epoch_time(start_time, end_time)\n",
        "    \n",
        "    if valid_loss < best_valid_loss:\n",
        "        best_valid_loss = valid_loss\n",
        "        torch.save(model.state_dict(), 'tut1-model.pt')\n",
        "    \n",
        "    print(f'Epoch: {epoch+1:02} | Epoch Time: {epoch_mins}m {epoch_secs}s')\n",
        "    print(f'\\tTrain Loss: {train_loss:.3f} | Train Acc: {train_acc*100:.2f}%')\n",
        "    print(f'\\t Val. Loss: {valid_loss:.3f} |  Val. Acc: {valid_acc*100:.2f}%')"
      ],
      "execution_count": null,
      "outputs": [
        {
          "output_type": "stream",
          "text": [
            "Epoch: 01 | Epoch Time: 3m 21s\n",
            "\tTrain Loss: 0.795 | Train Acc: 64.09%\n",
            "\t Val. Loss: 0.683 |  Val. Acc: 71.57%\n",
            "Epoch: 02 | Epoch Time: 3m 21s\n",
            "\tTrain Loss: 0.641 | Train Acc: 73.39%\n",
            "\t Val. Loss: 0.605 |  Val. Acc: 74.84%\n",
            "Epoch: 03 | Epoch Time: 3m 21s\n",
            "\tTrain Loss: 0.582 | Train Acc: 76.43%\n",
            "\t Val. Loss: 0.556 |  Val. Acc: 77.20%\n",
            "Epoch: 04 | Epoch Time: 3m 24s\n",
            "\tTrain Loss: 0.539 | Train Acc: 78.45%\n",
            "\t Val. Loss: 0.533 |  Val. Acc: 78.36%\n",
            "Epoch: 05 | Epoch Time: 3m 21s\n",
            "\tTrain Loss: 0.507 | Train Acc: 79.94%\n",
            "\t Val. Loss: 0.519 |  Val. Acc: 78.83%\n",
            "Epoch: 06 | Epoch Time: 3m 21s\n",
            "\tTrain Loss: 0.480 | Train Acc: 81.14%\n",
            "\t Val. Loss: 0.503 |  Val. Acc: 80.13%\n",
            "Epoch: 07 | Epoch Time: 3m 22s\n",
            "\tTrain Loss: 0.453 | Train Acc: 82.32%\n",
            "\t Val. Loss: 0.497 |  Val. Acc: 80.76%\n",
            "Epoch: 08 | Epoch Time: 3m 21s\n",
            "\tTrain Loss: 0.427 | Train Acc: 83.43%\n",
            "\t Val. Loss: 0.499 |  Val. Acc: 80.79%\n",
            "Epoch: 09 | Epoch Time: 3m 21s\n",
            "\tTrain Loss: 0.402 | Train Acc: 84.52%\n",
            "\t Val. Loss: 0.490 |  Val. Acc: 81.30%\n",
            "Epoch: 10 | Epoch Time: 3m 21s\n",
            "\tTrain Loss: 0.376 | Train Acc: 85.57%\n",
            "\t Val. Loss: 0.507 |  Val. Acc: 81.24%\n"
          ],
          "name": "stdout"
        }
      ]
    },
    {
      "cell_type": "code",
      "metadata": {
        "execution": {
          "iopub.status.busy": "2021-08-04T08:56:32.199609Z",
          "iopub.execute_input": "2021-08-04T08:56:32.199870Z",
          "iopub.status.idle": "2021-08-04T08:56:32.999618Z",
          "shell.execute_reply.started": "2021-08-04T08:56:32.199842Z",
          "shell.execute_reply": "2021-08-04T08:56:32.998576Z"
        },
        "trusted": true,
        "id": "J0XuZoaxZg02",
        "outputId": "6a8d595a-6258-4253-9fa6-759ff5b037b4"
      },
      "source": [
        "\n",
        "model.load_state_dict(torch.load('tut1-model.pt'))\n",
        "\n",
        "test_loss, test_acc = evaluate(model, test_iterator, criterion)\n",
        "\n",
        "print(f'Test Loss: {test_loss:.3f} |  Test Acc: {test_acc*100:.2f}%')"
      ],
      "execution_count": null,
      "outputs": [
        {
          "output_type": "stream",
          "text": [
            "Test Loss: 0.502 |  Test Acc: 80.37%\n"
          ],
          "name": "stdout"
        }
      ]
    },
    {
      "cell_type": "code",
      "metadata": {
        "execution": {
          "iopub.status.busy": "2021-08-04T09:00:58.422553Z",
          "iopub.execute_input": "2021-08-04T09:00:58.422895Z",
          "iopub.status.idle": "2021-08-04T09:00:58.567713Z",
          "shell.execute_reply.started": "2021-08-04T09:00:58.422866Z",
          "shell.execute_reply": "2021-08-04T09:00:58.566839Z"
        },
        "trusted": true,
        "id": "bYbI0BBUZg02",
        "outputId": "b40f9373-51c8-49f7-fa66-7c00f6e25fd5"
      },
      "source": [
        "plt.plot(tr_loss, label = \"Training loss\")\n",
        "plt.plot(vl_loss, label = \"Validation loss\")\n",
        "plt.legend()\n",
        "plt.show()"
      ],
      "execution_count": null,
      "outputs": [
        {
          "output_type": "display_data",
          "data": {
            "text/plain": [
              "<Figure size 432x288 with 1 Axes>"
            ],
            "image/png": "[encoded data removed]"
          },
          "metadata": {
            "tags": [],
            "needs_background": "light"
          }
        }
      ]
    },
    {
      "cell_type": "code",
      "metadata": {
        "execution": {
          "iopub.status.busy": "2021-08-04T09:00:46.035762Z",
          "iopub.execute_input": "2021-08-04T09:00:46.036110Z",
          "iopub.status.idle": "2021-08-04T09:00:46.167333Z",
          "shell.execute_reply.started": "2021-08-04T09:00:46.036077Z",
          "shell.execute_reply": "2021-08-04T09:00:46.166346Z"
        },
        "trusted": true,
        "id": "9Pzxdn9dZg03",
        "outputId": "944a6bf2-d6b5-4975-c99d-f478f2fce07b"
      },
      "source": [
        "plt.plot(tr_acc, label = \"Training accuracy\")\n",
        "plt.plot(vl_acc, label = \"Validation accuracy\")\n",
        "plt.legend()\n",
        "plt.show()"
      ],
      "execution_count": null,
      "outputs": [
        {
          "output_type": "display_data",
          "data": {
            "text/plain": [
              "<Figure size 432x288 with 1 Axes>"
            ],
            "image/png": "[encoded data removed]"
          },
          "metadata": {
            "tags": [],
            "needs_background": "light"
          }
        }
      ]
    }
  ]
}