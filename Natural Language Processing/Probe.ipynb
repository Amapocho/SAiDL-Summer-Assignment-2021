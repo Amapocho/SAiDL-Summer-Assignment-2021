{
  "nbformat": 4,
  "nbformat_minor": 0,
  "metadata": {
    "kernelspec": {
      "language": "python",
      "display_name": "Python 3",
      "name": "python3"
    },
    "language_info": {
      "name": "python",
      "version": "3.7.10",
      "mimetype": "text/x-python",
      "codemirror_mode": {
        "name": "ipython",
        "version": 3
      },
      "pygments_lexer": "ipython3",
      "nbconvert_exporter": "python",
      "file_extension": ".py"
    },
    "colab": {
      "name": "Probe.ipynb",
      "provenance": [],
      "collapsed_sections": []
    }
  },
  "cells": [
    {
      "cell_type": "markdown",
      "metadata": {
        "id": "AIfjr2L4kApN"
      },
      "source": [
        "#Probing"
      ]
    },
    {
      "cell_type": "markdown",
      "metadata": {
        "id": "ZmRAD_8dkEAi"
      },
      "source": [
        "## Import libraries"
      ]
    },
    {
      "cell_type": "code",
      "metadata": {
        "execution": {
          "iopub.status.busy": "2021-08-13T22:16:21.580041Z",
          "iopub.execute_input": "2021-08-13T22:16:21.580567Z",
          "iopub.status.idle": "2021-08-13T22:16:25.162156Z",
          "shell.execute_reply.started": "2021-08-13T22:16:21.580475Z",
          "shell.execute_reply": "2021-08-13T22:16:25.160463Z"
        },
        "trusted": true,
        "id": "57hWDXMMj_aF"
      },
      "source": [
        "import numpy as np\n",
        "import pandas as pd\n",
        "import torch\n",
        "import torch.nn as nn\n",
        "import torch.nn.functional as F\n",
        "\n",
        "import spacy\n",
        "import re\n",
        "import string\n",
        "import time\n",
        "\n",
        "import nltk\n",
        "from nltk import Tree\n",
        "\n",
        "from collections import Counter\n",
        "from torch.utils.data import Dataset, DataLoader\n",
        "import matplotlib.pyplot as plt"
      ],
      "execution_count": null,
      "outputs": []
    },
    {
      "cell_type": "code",
      "metadata": {
        "execution": {
          "iopub.status.busy": "2021-08-13T22:16:25.177901Z",
          "iopub.execute_input": "2021-08-13T22:16:25.178274Z",
          "iopub.status.idle": "2021-08-13T22:16:37.438795Z",
          "shell.execute_reply.started": "2021-08-13T22:16:25.178240Z",
          "shell.execute_reply": "2021-08-13T22:16:37.437778Z"
        },
        "trusted": true,
        "id": "c0gYaE5Nj_aK",
        "outputId": "45e6ca55-a8b4-4528-da80-50a1f8e62b2a"
      },
      "source": [
        "!python -m spacy download en"
      ],
      "execution_count": null,
      "outputs": [
        {
          "output_type": "stream",
          "text": [
            "Collecting en_core_web_sm==2.3.1\n",
            "  Downloading https://github.com/explosion/spacy-models/releases/download/en_core_web_sm-2.3.1/en_core_web_sm-2.3.1.tar.gz (12.0 MB)\n",
            "\u001b[K     |████████████████████████████████| 12.0 MB 6.9 MB/s eta 0:00:01    |████▎                           | 1.6 MB 6.9 MB/s eta 0:00:02\n",
            "\u001b[?25hRequirement already satisfied: spacy<2.4.0,>=2.3.0 in /opt/conda/lib/python3.7/site-packages (from en_core_web_sm==2.3.1) (2.3.7)\n",
            "Requirement already satisfied: preshed<3.1.0,>=3.0.2 in /opt/conda/lib/python3.7/site-packages (from spacy<2.4.0,>=2.3.0->en_core_web_sm==2.3.1) (3.0.5)\n",
            "Requirement already satisfied: setuptools in /opt/conda/lib/python3.7/site-packages (from spacy<2.4.0,>=2.3.0->en_core_web_sm==2.3.1) (49.6.0.post20210108)\n",
            "Requirement already satisfied: wasabi<1.1.0,>=0.4.0 in /opt/conda/lib/python3.7/site-packages (from spacy<2.4.0,>=2.3.0->en_core_web_sm==2.3.1) (0.8.2)\n",
            "Requirement already satisfied: murmurhash<1.1.0,>=0.28.0 in /opt/conda/lib/python3.7/site-packages (from spacy<2.4.0,>=2.3.0->en_core_web_sm==2.3.1) (1.0.5)\n",
            "Requirement already satisfied: numpy>=1.15.0 in /opt/conda/lib/python3.7/site-packages (from spacy<2.4.0,>=2.3.0->en_core_web_sm==2.3.1) (1.19.5)\n",
            "Requirement already satisfied: thinc<7.5.0,>=7.4.1 in /opt/conda/lib/python3.7/site-packages (from spacy<2.4.0,>=2.3.0->en_core_web_sm==2.3.1) (7.4.5)\n",
            "Requirement already satisfied: srsly<1.1.0,>=1.0.2 in /opt/conda/lib/python3.7/site-packages (from spacy<2.4.0,>=2.3.0->en_core_web_sm==2.3.1) (1.0.5)\n",
            "Requirement already satisfied: blis<0.8.0,>=0.4.0 in /opt/conda/lib/python3.7/site-packages (from spacy<2.4.0,>=2.3.0->en_core_web_sm==2.3.1) (0.7.4)\n",
            "Requirement already satisfied: tqdm<5.0.0,>=4.38.0 in /opt/conda/lib/python3.7/site-packages (from spacy<2.4.0,>=2.3.0->en_core_web_sm==2.3.1) (4.61.1)\n",
            "Requirement already satisfied: requests<3.0.0,>=2.13.0 in /opt/conda/lib/python3.7/site-packages (from spacy<2.4.0,>=2.3.0->en_core_web_sm==2.3.1) (2.25.1)\n",
            "Requirement already satisfied: catalogue<1.1.0,>=0.0.7 in /opt/conda/lib/python3.7/site-packages (from spacy<2.4.0,>=2.3.0->en_core_web_sm==2.3.1) (1.0.0)\n",
            "Requirement already satisfied: cymem<2.1.0,>=2.0.2 in /opt/conda/lib/python3.7/site-packages (from spacy<2.4.0,>=2.3.0->en_core_web_sm==2.3.1) (2.0.5)\n",
            "Requirement already satisfied: plac<1.2.0,>=0.9.6 in /opt/conda/lib/python3.7/site-packages (from spacy<2.4.0,>=2.3.0->en_core_web_sm==2.3.1) (1.1.3)\n",
            "Requirement already satisfied: importlib-metadata>=0.20 in /opt/conda/lib/python3.7/site-packages (from catalogue<1.1.0,>=0.0.7->spacy<2.4.0,>=2.3.0->en_core_web_sm==2.3.1) (3.4.0)\n",
            "Requirement already satisfied: typing-extensions>=3.6.4 in /opt/conda/lib/python3.7/site-packages (from importlib-metadata>=0.20->catalogue<1.1.0,>=0.0.7->spacy<2.4.0,>=2.3.0->en_core_web_sm==2.3.1) (3.7.4.3)\n",
            "Requirement already satisfied: zipp>=0.5 in /opt/conda/lib/python3.7/site-packages (from importlib-metadata>=0.20->catalogue<1.1.0,>=0.0.7->spacy<2.4.0,>=2.3.0->en_core_web_sm==2.3.1) (3.4.1)\n",
            "Requirement already satisfied: chardet<5,>=3.0.2 in /opt/conda/lib/python3.7/site-packages (from requests<3.0.0,>=2.13.0->spacy<2.4.0,>=2.3.0->en_core_web_sm==2.3.1) (4.0.0)\n",
            "Requirement already satisfied: certifi>=2017.4.17 in /opt/conda/lib/python3.7/site-packages (from requests<3.0.0,>=2.13.0->spacy<2.4.0,>=2.3.0->en_core_web_sm==2.3.1) (2021.5.30)\n",
            "Requirement already satisfied: idna<3,>=2.5 in /opt/conda/lib/python3.7/site-packages (from requests<3.0.0,>=2.13.0->spacy<2.4.0,>=2.3.0->en_core_web_sm==2.3.1) (2.10)\n",
            "Requirement already satisfied: urllib3<1.27,>=1.21.1 in /opt/conda/lib/python3.7/site-packages (from requests<3.0.0,>=2.13.0->spacy<2.4.0,>=2.3.0->en_core_web_sm==2.3.1) (1.26.5)\n",
            "\u001b[33mWARNING: Running pip as root will break packages and permissions. You should install packages reliably by using venv: https://pip.pypa.io/warnings/venv\u001b[0m\n",
            "\u001b[38;5;2m✔ Download and installation successful\u001b[0m\n",
            "You can now load the model via spacy.load('en_core_web_sm')\n",
            "\u001b[38;5;2m✔ Linking successful\u001b[0m\n",
            "/opt/conda/lib/python3.7/site-packages/en_core_web_sm -->\n",
            "/opt/conda/lib/python3.7/site-packages/spacy/data/en\n",
            "You can now load the model via spacy.load('en')\n"
          ],
          "name": "stdout"
        }
      ]
    },
    {
      "cell_type": "markdown",
      "metadata": {
        "id": "3VfP5OULm5uB"
      },
      "source": [
        "## Set random seed"
      ]
    },
    {
      "cell_type": "code",
      "metadata": {
        "execution": {
          "iopub.status.busy": "2021-08-13T22:16:25.164471Z",
          "iopub.execute_input": "2021-08-13T22:16:25.165102Z",
          "iopub.status.idle": "2021-08-13T22:16:25.176007Z",
          "shell.execute_reply.started": "2021-08-13T22:16:25.165024Z",
          "shell.execute_reply": "2021-08-13T22:16:25.174155Z"
        },
        "trusted": true,
        "id": "Q04sjGmoj_aJ"
      },
      "source": [
        "SEED = 1\n",
        "\n",
        "np.random.seed(SEED)\n",
        "torch.manual_seed(SEED)\n",
        "torch.backends.cudnn.deterministic = True"
      ],
      "execution_count": null,
      "outputs": []
    },
    {
      "cell_type": "markdown",
      "metadata": {
        "id": "0obJjCbWnBfJ"
      },
      "source": [
        "## Preprocess data"
      ]
    },
    {
      "cell_type": "markdown",
      "metadata": {
        "id": "H7AxJZtdnE-X"
      },
      "source": [
        "### Import data"
      ]
    },
    {
      "cell_type": "code",
      "metadata": {
        "execution": {
          "iopub.status.busy": "2021-08-13T22:16:37.442597Z",
          "iopub.execute_input": "2021-08-13T22:16:37.442886Z",
          "iopub.status.idle": "2021-08-13T22:16:46.162047Z",
          "shell.execute_reply.started": "2021-08-13T22:16:37.442857Z",
          "shell.execute_reply": "2021-08-13T22:16:46.161053Z"
        },
        "trusted": true,
        "id": "_PbQRs7ej_aM"
      },
      "source": [
        "tr = pd.read_csv('../input/stanford-natural-language-inference-corpus/snli_1.0_train.csv')\n",
        "test = pd.read_csv('../input/stanford-natural-language-inference-corpus/snli_1.0_test.csv')\n",
        "valid = pd.read_csv('../input/stanford-natural-language-inference-corpus/snli_1.0_dev.csv')"
      ],
      "execution_count": null,
      "outputs": []
    },
    {
      "cell_type": "markdown",
      "metadata": {
        "id": "M_SouWbYnIVh"
      },
      "source": [
        "### Remove null data points"
      ]
    },
    {
      "cell_type": "code",
      "metadata": {
        "execution": {
          "iopub.status.busy": "2021-08-13T22:16:46.163532Z",
          "iopub.execute_input": "2021-08-13T22:16:46.163917Z",
          "iopub.status.idle": "2021-08-13T22:16:46.881181Z",
          "shell.execute_reply.started": "2021-08-13T22:16:46.163878Z",
          "shell.execute_reply": "2021-08-13T22:16:46.880064Z"
        },
        "trusted": true,
        "id": "OOcHLranj_aN",
        "outputId": "549cfc95-ceaf-4c15-b53d-a07ce1f9e753"
      },
      "source": [
        "tr.isnull().sum()"
      ],
      "execution_count": null,
      "outputs": [
        {
          "output_type": "execute_result",
          "data": {
            "text/plain": [
              "gold_label                     0\n",
              "sentence1_binary_parse         0\n",
              "sentence2_binary_parse         6\n",
              "sentence1_parse                0\n",
              "sentence2_parse                0\n",
              "sentence1                      0\n",
              "sentence2                      6\n",
              "captionID                      0\n",
              "pairID                         0\n",
              "label1                         0\n",
              "label2                    510782\n",
              "label3                    510757\n",
              "label4                    510769\n",
              "label5                    513238\n",
              "dtype: int64"
            ]
          },
          "metadata": {
            "tags": []
          },
          "execution_count": 5
        }
      ]
    },
    {
      "cell_type": "code",
      "metadata": {
        "execution": {
          "iopub.status.busy": "2021-08-13T22:16:46.882508Z",
          "iopub.execute_input": "2021-08-13T22:16:46.882873Z",
          "iopub.status.idle": "2021-08-13T22:16:47.509067Z",
          "shell.execute_reply.started": "2021-08-13T22:16:46.882830Z",
          "shell.execute_reply": "2021-08-13T22:16:47.508182Z"
        },
        "trusted": true,
        "id": "k6YyVzBRj_aN"
      },
      "source": [
        "tr = tr.dropna(subset = ['sentence2'])\n",
        "tr = tr[tr[\"gold_label\"] != \"-\"]\n",
        "test = test[test[\"gold_label\"] != \"-\"]\n",
        "valid = valid[valid[\"gold_label\"] != \"-\"]"
      ],
      "execution_count": null,
      "outputs": []
    },
    {
      "cell_type": "code",
      "metadata": {
        "execution": {
          "iopub.status.busy": "2021-08-13T22:16:47.514238Z",
          "iopub.execute_input": "2021-08-13T22:16:47.517219Z",
          "iopub.status.idle": "2021-08-13T22:16:48.734036Z",
          "shell.execute_reply.started": "2021-08-13T22:16:47.517176Z",
          "shell.execute_reply": "2021-08-13T22:16:48.733198Z"
        },
        "trusted": true,
        "id": "IfcMjAlTj_aO",
        "outputId": "e0f8e245-f6a5-447d-c0e9-290acce6fef5"
      },
      "source": [
        "tr.isnull().sum()"
      ],
      "execution_count": null,
      "outputs": [
        {
          "output_type": "execute_result",
          "data": {
            "text/plain": [
              "gold_label                     0\n",
              "sentence1_binary_parse         0\n",
              "sentence2_binary_parse         0\n",
              "sentence1_parse                0\n",
              "sentence2_parse                0\n",
              "sentence1                      0\n",
              "sentence2                      0\n",
              "captionID                      0\n",
              "pairID                         0\n",
              "label1                         0\n",
              "label2                    510769\n",
              "label3                    510740\n",
              "label4                    510753\n",
              "label5                    512937\n",
              "dtype: int64"
            ]
          },
          "metadata": {
            "tags": []
          },
          "execution_count": 7
        }
      ]
    },
    {
      "cell_type": "markdown",
      "metadata": {
        "id": "rVhWd_pUnNRm"
      },
      "source": [
        "### Train tokenizer"
      ]
    },
    {
      "cell_type": "code",
      "metadata": {
        "execution": {
          "iopub.status.busy": "2021-08-13T22:16:48.737018Z",
          "iopub.execute_input": "2021-08-13T22:16:48.737404Z",
          "iopub.status.idle": "2021-08-13T22:16:49.944686Z",
          "shell.execute_reply.started": "2021-08-13T22:16:48.737375Z",
          "shell.execute_reply": "2021-08-13T22:16:49.943549Z"
        },
        "trusted": true,
        "id": "_Ffj0iWNj_aP"
      },
      "source": [
        "tok = spacy.load('en')\n",
        "def tokenize (text):\n",
        "    text = re.sub(r\"[^\\x00-\\x7F]+\", \" \", text)\n",
        "    regex = re.compile('[' + re.escape(string.punctuation) + '0-9\\\\r\\\\t\\\\n]') # remove punctuation and numbers\n",
        "    nopunct = regex.sub(\" \", text.lower())\n",
        "    return [token.text for token in tok.tokenizer(nopunct)]"
      ],
      "execution_count": null,
      "outputs": []
    },
    {
      "cell_type": "code",
      "metadata": {
        "execution": {
          "iopub.status.busy": "2021-08-13T22:16:49.947059Z",
          "iopub.execute_input": "2021-08-13T22:16:49.947513Z",
          "iopub.status.idle": "2021-08-13T22:18:44.759362Z",
          "shell.execute_reply.started": "2021-08-13T22:16:49.947469Z",
          "shell.execute_reply": "2021-08-13T22:18:44.758495Z"
        },
        "trusted": true,
        "id": "cA6NqFVcj_aQ"
      },
      "source": [
        "counts = Counter()\n",
        "for index, row in tr.iterrows():\n",
        "    counts.update(tokenize(row['sentence1']+row['sentence2']))"
      ],
      "execution_count": null,
      "outputs": []
    },
    {
      "cell_type": "code",
      "metadata": {
        "execution": {
          "iopub.status.busy": "2021-08-13T22:18:44.760588Z",
          "iopub.execute_input": "2021-08-13T22:18:44.760923Z",
          "iopub.status.idle": "2021-08-13T22:18:44.783534Z",
          "shell.execute_reply.started": "2021-08-13T22:18:44.760890Z",
          "shell.execute_reply": "2021-08-13T22:18:44.782602Z"
        },
        "trusted": true,
        "id": "dB2Xm-m0j_aR",
        "outputId": "828a0dd3-111e-455e-9945-bfe9c669b3ff"
      },
      "source": [
        "print(\"num_words before:\",len(counts.keys()))\n",
        "for word in list(counts):\n",
        "    if counts[word] < 2:\n",
        "        del counts[word]\n",
        "print(\"num_words after:\",len(counts.keys()))"
      ],
      "execution_count": null,
      "outputs": [
        {
          "output_type": "stream",
          "text": [
            "num_words before: 38910\n",
            "num_words after: 26602\n"
          ],
          "name": "stdout"
        }
      ]
    },
    {
      "cell_type": "code",
      "metadata": {
        "execution": {
          "iopub.status.busy": "2021-08-13T22:18:44.784815Z",
          "iopub.execute_input": "2021-08-13T22:18:44.785166Z",
          "iopub.status.idle": "2021-08-13T22:18:44.802611Z",
          "shell.execute_reply.started": "2021-08-13T22:18:44.785131Z",
          "shell.execute_reply": "2021-08-13T22:18:44.801708Z"
        },
        "trusted": true,
        "id": "1dwcqBG9j_aS"
      },
      "source": [
        "vocab2index = {\"\":0, \"UNK\":1}\n",
        "words = [\"\", \"UNK\"]\n",
        "for word in counts:\n",
        "    vocab2index[word] = len(words)\n",
        "    words.append(word)"
      ],
      "execution_count": null,
      "outputs": []
    },
    {
      "cell_type": "code",
      "metadata": {
        "execution": {
          "iopub.status.busy": "2021-08-13T22:18:44.803828Z",
          "iopub.execute_input": "2021-08-13T22:18:44.804458Z",
          "iopub.status.idle": "2021-08-13T22:18:44.812458Z",
          "shell.execute_reply.started": "2021-08-13T22:18:44.804357Z",
          "shell.execute_reply": "2021-08-13T22:18:44.811597Z"
        },
        "trusted": true,
        "id": "JwsXHewNj_aS"
      },
      "source": [
        "def encode_sentence(text, vocab2index, N=80):\n",
        "    tokenized = tokenize(text)\n",
        "    encoded = np.zeros(N, dtype=int)\n",
        "    enc1 = np.array([vocab2index.get(word, vocab2index[\"UNK\"]) for word in tokenized])\n",
        "    length = min(N, len(enc1))\n",
        "    encoded[:length] = enc1[:length]\n",
        "    return encoded, length"
      ],
      "execution_count": null,
      "outputs": []
    },
    {
      "cell_type": "code",
      "metadata": {
        "execution": {
          "iopub.status.busy": "2021-08-13T22:18:44.880463Z",
          "iopub.execute_input": "2021-08-13T22:18:44.880806Z",
          "iopub.status.idle": "2021-08-13T22:18:44.889657Z",
          "shell.execute_reply.started": "2021-08-13T22:18:44.880771Z",
          "shell.execute_reply": "2021-08-13T22:18:44.888674Z"
        },
        "trusted": true,
        "id": "hEKZjZWKj_aU",
        "outputId": "2daf23cb-1a00-464e-c3c2-2bfcf0befda8"
      },
      "source": [
        "vocab_size = len(words)\n",
        "vocab_size"
      ],
      "execution_count": null,
      "outputs": [
        {
          "output_type": "execute_result",
          "data": {
            "text/plain": [
              "26604"
            ]
          },
          "metadata": {
            "tags": []
          },
          "execution_count": 15
        }
      ]
    },
    {
      "cell_type": "markdown",
      "metadata": {
        "id": "ejuZX7i7pKwj"
      },
      "source": [
        "### Process and then encode over the parsed sentence"
      ]
    },
    {
      "cell_type": "markdown",
      "metadata": {
        "id": "BkfgcxIVpUck"
      },
      "source": [
        "#### Iterate over the parsed tree to extract words and POS tags"
      ]
    },
    {
      "cell_type": "code",
      "metadata": {
        "execution": {
          "iopub.status.busy": "2021-08-13T22:18:52.830892Z",
          "iopub.execute_input": "2021-08-13T22:18:52.831251Z",
          "iopub.status.idle": "2021-08-13T22:18:52.838106Z",
          "shell.execute_reply.started": "2021-08-13T22:18:52.831216Z",
          "shell.execute_reply": "2021-08-13T22:18:52.837101Z"
        },
        "trusted": true,
        "id": "CvejuzfOj_aW"
      },
      "source": [
        "def encode_parse(tree,tag,word):\n",
        "    for subtree in tree:\n",
        "        if (type(subtree) == nltk.tree.Tree):\n",
        "            encode_parse(subtree,tag,word)\n",
        "        else:\n",
        "            enc = (str(tree))\n",
        "            pos = int(enc.find(' '))\n",
        "            tag.append(enc[1:pos])\n",
        "            word.append(str(subtree))"
      ],
      "execution_count": null,
      "outputs": []
    },
    {
      "cell_type": "code",
      "metadata": {
        "execution": {
          "iopub.status.busy": "2021-08-13T22:18:52.839698Z",
          "iopub.execute_input": "2021-08-13T22:18:52.840070Z",
          "iopub.status.idle": "2021-08-13T22:21:29.242138Z",
          "shell.execute_reply.started": "2021-08-13T22:18:52.840033Z",
          "shell.execute_reply": "2021-08-13T22:21:29.241265Z"
        },
        "trusted": true,
        "id": "3DdS3rpYj_aW"
      },
      "source": [
        "tags_train=[]\n",
        "words2_train=[]\n",
        "for parse in tr['sentence1_parse']:\n",
        "    tree = Tree.fromstring(parse)\n",
        "    tag = []\n",
        "    word = []\n",
        "    encode_parse(tree,tag,word)\n",
        "    tag.pop()\n",
        "    word.pop()\n",
        "    tags_train.append(tag)\n",
        "    words2_train.append(word)\n",
        "for parse in tr['sentence2_parse']:\n",
        "    tree = Tree.fromstring(parse)\n",
        "    tag = []\n",
        "    word = []\n",
        "    encode_parse(tree,tag,word)\n",
        "    tag.pop()\n",
        "    word.pop()\n",
        "    tags_train.append(tag)\n",
        "    words2_train.append(word)"
      ],
      "execution_count": null,
      "outputs": []
    },
    {
      "cell_type": "code",
      "metadata": {
        "execution": {
          "iopub.status.busy": "2021-08-13T22:21:29.243565Z",
          "iopub.execute_input": "2021-08-13T22:21:29.243937Z",
          "iopub.status.idle": "2021-08-13T22:21:32.002772Z",
          "shell.execute_reply.started": "2021-08-13T22:21:29.243894Z",
          "shell.execute_reply": "2021-08-13T22:21:32.001588Z"
        },
        "trusted": true,
        "id": "bvqeGY48j_aW"
      },
      "source": [
        "tags_test=[]\n",
        "words2_test=[]\n",
        "for parse in test['sentence1_parse']:\n",
        "    tree = Tree.fromstring(parse)\n",
        "    tag = []\n",
        "    word = []\n",
        "    encode_parse(tree,tag,word)\n",
        "    tag.pop()\n",
        "    word.pop()\n",
        "    tags_test.append(tag)\n",
        "    words2_test.append(word)\n",
        "for parse in test['sentence2_parse']:\n",
        "    tree = Tree.fromstring(parse)\n",
        "    tag = []\n",
        "    word = []\n",
        "    encode_parse(tree,tag,word)\n",
        "    tag.pop()\n",
        "    word.pop()\n",
        "    tags_test.append(tag)\n",
        "    words2_test.append(word)"
      ],
      "execution_count": null,
      "outputs": []
    },
    {
      "cell_type": "code",
      "metadata": {
        "execution": {
          "iopub.status.busy": "2021-08-13T22:21:32.007716Z",
          "iopub.execute_input": "2021-08-13T22:21:32.008033Z",
          "iopub.status.idle": "2021-08-13T22:22:34.804205Z",
          "shell.execute_reply.started": "2021-08-13T22:21:32.007998Z",
          "shell.execute_reply": "2021-08-13T22:22:34.803357Z"
        },
        "trusted": true,
        "id": "1z2FgsTIj_aX"
      },
      "source": [
        "tags_valid=[]\n",
        "words2_valid=[]\n",
        "for parse in valid['sentence1_parse']:\n",
        "    tree = Tree.fromstring(parse)\n",
        "    tag = []\n",
        "    word = []\n",
        "    encode_parse(tree,tag,word)\n",
        "    tag.pop()\n",
        "    word.pop()\n",
        "    tags_valid.append(tag)\n",
        "    words2_valid.append(word)\n",
        "for parse in tr['sentence2_parse']:\n",
        "    tree = Tree.fromstring(parse)\n",
        "    tag = []\n",
        "    word = []\n",
        "    encode_parse(tree,tag,word)\n",
        "    tag.pop()\n",
        "    word.pop()\n",
        "    tags_valid.append(tag)\n",
        "    words2_valid.append(word)"
      ],
      "execution_count": null,
      "outputs": []
    },
    {
      "cell_type": "markdown",
      "metadata": {
        "id": "oOCT-Oemph09"
      },
      "source": [
        "#### Check length of words and tags"
      ]
    },
    {
      "cell_type": "code",
      "metadata": {
        "execution": {
          "iopub.status.busy": "2021-08-13T22:22:34.806429Z",
          "iopub.execute_input": "2021-08-13T22:22:34.806780Z",
          "iopub.status.idle": "2021-08-13T22:22:35.195099Z",
          "shell.execute_reply.started": "2021-08-13T22:22:34.806745Z",
          "shell.execute_reply": "2021-08-13T22:22:35.194204Z"
        },
        "trusted": true,
        "id": "DB9ZC5EMj_aX",
        "outputId": "18367a14-bd19-4a8d-f389-993e82447fb3"
      },
      "source": [
        "s=0\n",
        "for i in tags_train:\n",
        "    s+=len(i)\n",
        "print (\"Train =\", s)\n",
        "\n",
        "s=0\n",
        "for i in tags_test:\n",
        "    s+=len(i)\n",
        "print (\"Test =\", s)\n",
        "\n",
        "s=0\n",
        "for i in tags_valid:\n",
        "    s+=len(i)\n",
        "print (\"Valid =\", s)"
      ],
      "execution_count": null,
      "outputs": [
        {
          "output_type": "stream",
          "text": [
            "Train = 11142026\n",
            "Test = 210937\n",
            "Valid = 4123538\n"
          ],
          "name": "stdout"
        }
      ]
    },
    {
      "cell_type": "code",
      "metadata": {
        "execution": {
          "iopub.status.busy": "2021-08-13T22:22:35.196396Z",
          "iopub.execute_input": "2021-08-13T22:22:35.196892Z",
          "iopub.status.idle": "2021-08-13T22:22:35.558348Z",
          "shell.execute_reply.started": "2021-08-13T22:22:35.196854Z",
          "shell.execute_reply": "2021-08-13T22:22:35.557461Z"
        },
        "trusted": true,
        "id": "5e3UF00mj_aX",
        "outputId": "77707734-4f57-4f8a-c5ec-49a7d225444f"
      },
      "source": [
        "s=0\n",
        "for i in words2_train:\n",
        "    s+=len(i)\n",
        "print (\"Train =\", s)\n",
        "\n",
        "s=0\n",
        "for i in words2_test:\n",
        "    s+=len(i)\n",
        "print (\"Train =\", s)\n",
        "\n",
        "s=0\n",
        "for i in words2_valid:\n",
        "    s+=len(i)\n",
        "print (\"Train =\", s)"
      ],
      "execution_count": null,
      "outputs": [
        {
          "output_type": "stream",
          "text": [
            "Train = 11142026\n",
            "Train = 210937\n",
            "Train = 4123538\n"
          ],
          "name": "stdout"
        }
      ]
    },
    {
      "cell_type": "markdown",
      "metadata": {
        "id": "FDH7uk58pmMj"
      },
      "source": [
        "#### Join words and tags into strings and put them in dataframes"
      ]
    },
    {
      "cell_type": "code",
      "metadata": {
        "execution": {
          "iopub.status.busy": "2021-08-13T22:22:35.559581Z",
          "iopub.execute_input": "2021-08-13T22:22:35.560059Z",
          "iopub.status.idle": "2021-08-13T22:22:36.345051Z",
          "shell.execute_reply.started": "2021-08-13T22:22:35.560021Z",
          "shell.execute_reply": "2021-08-13T22:22:36.344204Z"
        },
        "trusted": true,
        "id": "CW40xXcFj_aY"
      },
      "source": [
        "sentence_train = [' '.join(i) for i in words2_train]\n",
        "sentence_test = [' '.join(i) for i in words2_test]\n",
        "sentence_valid = [' '.join(i) for i in words2_valid]"
      ],
      "execution_count": null,
      "outputs": []
    },
    {
      "cell_type": "code",
      "metadata": {
        "execution": {
          "iopub.status.busy": "2021-08-13T22:22:36.346367Z",
          "iopub.execute_input": "2021-08-13T22:22:36.346717Z",
          "iopub.status.idle": "2021-08-13T22:22:37.148380Z",
          "shell.execute_reply.started": "2021-08-13T22:22:36.346684Z",
          "shell.execute_reply": "2021-08-13T22:22:37.147437Z"
        },
        "trusted": true,
        "id": "sCdIiGTgj_aY"
      },
      "source": [
        "tag_string_train = [' '.join(i) for i in tags_train]\n",
        "tag_string_test = [' '.join(i) for i in tags_test]\n",
        "tag_string_valid = [' '.join(i) for i in tags_valid]"
      ],
      "execution_count": null,
      "outputs": []
    },
    {
      "cell_type": "code",
      "metadata": {
        "execution": {
          "iopub.status.busy": "2021-08-13T22:22:37.149892Z",
          "iopub.execute_input": "2021-08-13T22:22:37.150280Z",
          "iopub.status.idle": "2021-08-13T22:22:37.296600Z",
          "shell.execute_reply.started": "2021-08-13T22:22:37.150239Z",
          "shell.execute_reply": "2021-08-13T22:22:37.295601Z"
        },
        "trusted": true,
        "id": "7eH7FkW8j_aY"
      },
      "source": [
        "train_probe = pd.DataFrame(sentence_train, columns =['Sentence'])\n",
        "test_probe = pd.DataFrame(sentence_test, columns =['Sentence'])\n",
        "valid_probe = pd.DataFrame(sentence_valid, columns =['Sentence'])"
      ],
      "execution_count": null,
      "outputs": []
    },
    {
      "cell_type": "code",
      "metadata": {
        "execution": {
          "iopub.status.busy": "2021-08-13T22:22:37.297955Z",
          "iopub.execute_input": "2021-08-13T22:22:37.298390Z",
          "iopub.status.idle": "2021-08-13T22:22:37.371596Z",
          "shell.execute_reply.started": "2021-08-13T22:22:37.298352Z",
          "shell.execute_reply": "2021-08-13T22:22:37.370487Z"
        },
        "trusted": true,
        "id": "IcLKPnHqj_aY",
        "outputId": "a6c01268-356d-4f79-f674-e25bf147fcc4"
      },
      "source": [
        "train_probe.head()"
      ],
      "execution_count": null,
      "outputs": [
        {
          "output_type": "execute_result",
          "data": {
            "text/plain": [
              "                                            Sentence\n",
              "0  A person on a horse jumps over a broken down a...\n",
              "1  A person on a horse jumps over a broken down a...\n",
              "2  A person on a horse jumps over a broken down a...\n",
              "3                     Children smiling and waving at\n",
              "4                     Children smiling and waving at"
            ],
            "text/html": [
              "<div>\n",
              "<style scoped>\n",
              "    .dataframe tbody tr th:only-of-type {\n",
              "        vertical-align: middle;\n",
              "    }\n",
              "\n",
              "    .dataframe tbody tr th {\n",
              "        vertical-align: top;\n",
              "    }\n",
              "\n",
              "    .dataframe thead th {\n",
              "        text-align: right;\n",
              "    }\n",
              "</style>\n",
              "<table border=\"1\" class=\"dataframe\">\n",
              "  <thead>\n",
              "    <tr style=\"text-align: right;\">\n",
              "      <th></th>\n",
              "      <th>Sentence</th>\n",
              "    </tr>\n",
              "  </thead>\n",
              "  <tbody>\n",
              "    <tr>\n",
              "      <th>0</th>\n",
              "      <td>A person on a horse jumps over a broken down a...</td>\n",
              "    </tr>\n",
              "    <tr>\n",
              "      <th>1</th>\n",
              "      <td>A person on a horse jumps over a broken down a...</td>\n",
              "    </tr>\n",
              "    <tr>\n",
              "      <th>2</th>\n",
              "      <td>A person on a horse jumps over a broken down a...</td>\n",
              "    </tr>\n",
              "    <tr>\n",
              "      <th>3</th>\n",
              "      <td>Children smiling and waving at</td>\n",
              "    </tr>\n",
              "    <tr>\n",
              "      <th>4</th>\n",
              "      <td>Children smiling and waving at</td>\n",
              "    </tr>\n",
              "  </tbody>\n",
              "</table>\n",
              "</div>"
            ]
          },
          "metadata": {
            "tags": []
          },
          "execution_count": 29
        }
      ]
    },
    {
      "cell_type": "markdown",
      "metadata": {
        "id": "E39hl0TbsQCA"
      },
      "source": [
        "#### Tokenize words using previously trained tokenizer"
      ]
    },
    {
      "cell_type": "code",
      "metadata": {
        "execution": {
          "iopub.status.busy": "2021-08-13T22:22:37.373183Z",
          "iopub.execute_input": "2021-08-13T22:22:37.373601Z",
          "iopub.status.idle": "2021-08-13T22:24:25.000950Z",
          "shell.execute_reply.started": "2021-08-13T22:22:37.373553Z",
          "shell.execute_reply": "2021-08-13T22:24:24.999736Z"
        },
        "trusted": true,
        "id": "xbrphaeHj_aZ",
        "outputId": "3ebcbe6f-7a3f-4cae-8f3f-99d9b8fbeba8"
      },
      "source": [
        "train_probe['enc'] = train_probe['Sentence'].apply(lambda x: np.array(encode_sentence(x,vocab2index )))\n",
        "test_probe['enc'] = test_probe['Sentence'].apply(lambda x: np.array(encode_sentence(x,vocab2index )))\n",
        "valid_probe['enc'] = valid_probe['Sentence'].apply(lambda x: np.array(encode_sentence(x,vocab2index )))"
      ],
      "execution_count": null,
      "outputs": [
        {
          "output_type": "stream",
          "text": [
            "/opt/conda/lib/python3.7/site-packages/ipykernel_launcher.py:1: VisibleDeprecationWarning: Creating an ndarray from ragged nested sequences (which is a list-or-tuple of lists-or-tuples-or ndarrays with different lengths or shapes) is deprecated. If you meant to do this, you must specify 'dtype=object' when creating the ndarray\n",
            "  \"\"\"Entry point for launching an IPython kernel.\n",
            "/opt/conda/lib/python3.7/site-packages/ipykernel_launcher.py:2: VisibleDeprecationWarning: Creating an ndarray from ragged nested sequences (which is a list-or-tuple of lists-or-tuples-or ndarrays with different lengths or shapes) is deprecated. If you meant to do this, you must specify 'dtype=object' when creating the ndarray\n",
            "  \n",
            "/opt/conda/lib/python3.7/site-packages/ipykernel_launcher.py:3: VisibleDeprecationWarning: Creating an ndarray from ragged nested sequences (which is a list-or-tuple of lists-or-tuples-or ndarrays with different lengths or shapes) is deprecated. If you meant to do this, you must specify 'dtype=object' when creating the ndarray\n",
            "  This is separate from the ipykernel package so we can avoid doing imports until\n"
          ],
          "name": "stderr"
        }
      ]
    },
    {
      "cell_type": "markdown",
      "metadata": {
        "id": "aJKy4LuEsXIS"
      },
      "source": [
        "#### Train tokenizer and tokenize tags"
      ]
    },
    {
      "cell_type": "code",
      "metadata": {
        "execution": {
          "iopub.status.busy": "2021-08-13T22:24:25.002488Z",
          "iopub.execute_input": "2021-08-13T22:24:25.002869Z",
          "iopub.status.idle": "2021-08-13T22:24:25.149144Z",
          "shell.execute_reply.started": "2021-08-13T22:24:25.002830Z",
          "shell.execute_reply": "2021-08-13T22:24:25.148244Z"
        },
        "trusted": true,
        "id": "s7f_X5ifj_aZ"
      },
      "source": [
        "train_probe['tags'] = tag_string_train\n",
        "test_probe['tags'] = tag_string_test\n",
        "valid_probe['tags'] = tag_string_valid"
      ],
      "execution_count": null,
      "outputs": []
    },
    {
      "cell_type": "code",
      "metadata": {
        "execution": {
          "iopub.status.busy": "2021-08-13T22:24:25.150450Z",
          "iopub.execute_input": "2021-08-13T22:24:25.150840Z",
          "iopub.status.idle": "2021-08-13T22:29:01.321211Z",
          "shell.execute_reply.started": "2021-08-13T22:24:25.150797Z",
          "shell.execute_reply": "2021-08-13T22:29:01.320362Z"
        },
        "trusted": true,
        "id": "_RSio5Vrj_aZ"
      },
      "source": [
        "countstag = Counter()\n",
        "for index, row in train_probe.iterrows():\n",
        "    countstag.update(tokenize(row['tags']))"
      ],
      "execution_count": null,
      "outputs": []
    },
    {
      "cell_type": "code",
      "metadata": {
        "execution": {
          "iopub.status.busy": "2021-08-13T22:29:01.322706Z",
          "iopub.execute_input": "2021-08-13T22:29:01.323030Z",
          "iopub.status.idle": "2021-08-13T22:29:01.328013Z",
          "shell.execute_reply.started": "2021-08-13T22:29:01.322998Z",
          "shell.execute_reply": "2021-08-13T22:29:01.327124Z"
        },
        "trusted": true,
        "id": "cuLm8htvj_aZ"
      },
      "source": [
        "vocab2indextag = {\"\":0, \"UNK\":1}\n",
        "wordstag = [\"\", \"UNK\"]\n",
        "for word in countstag:\n",
        "    vocab2indextag[word] = len(wordstag)\n",
        "    wordstag.append(word)"
      ],
      "execution_count": null,
      "outputs": []
    },
    {
      "cell_type": "code",
      "metadata": {
        "execution": {
          "iopub.status.busy": "2021-08-13T22:55:44.188170Z",
          "iopub.execute_input": "2021-08-13T22:55:44.188500Z",
          "iopub.status.idle": "2021-08-13T22:55:44.194285Z",
          "shell.execute_reply.started": "2021-08-13T22:55:44.188471Z",
          "shell.execute_reply": "2021-08-13T22:55:44.193109Z"
        },
        "trusted": true,
        "id": "UeWmm4rij_ac",
        "outputId": "0b377bb3-e21c-4c80-e806-16efdc1ac92f"
      },
      "source": [
        "tag_length = len(wordstag)\n",
        "tag_length"
      ],
      "execution_count": null,
      "outputs": [
        {
          "output_type": "execute_result",
          "data": {
            "text/plain": [
              "45"
            ]
          },
          "metadata": {
            "tags": []
          },
          "execution_count": 72
        }
      ]
    },
    {
      "cell_type": "code",
      "metadata": {
        "execution": {
          "iopub.status.busy": "2021-08-13T22:29:01.329138Z",
          "iopub.execute_input": "2021-08-13T22:29:01.329604Z",
          "iopub.status.idle": "2021-08-13T22:33:26.549083Z",
          "shell.execute_reply.started": "2021-08-13T22:29:01.329570Z",
          "shell.execute_reply": "2021-08-13T22:33:26.548240Z"
        },
        "trusted": true,
        "id": "R63NAQ57j_aa",
        "outputId": "4b8cded2-52ee-4ab6-9bf2-88dd2dbcbf6b"
      },
      "source": [
        "train_probe['tag_enc'] = train_probe['tags'].apply(lambda x: np.array(encode_sentence(x,vocab2indextag )))\n",
        "test_probe['tag_enc'] = test_probe['tags'].apply(lambda x: np.array(encode_sentence(x,vocab2indextag )))\n",
        "valid_probe['tag_enc'] = valid_probe['tags'].apply(lambda x: np.array(encode_sentence(x,vocab2indextag )))"
      ],
      "execution_count": null,
      "outputs": [
        {
          "output_type": "stream",
          "text": [
            "/opt/conda/lib/python3.7/site-packages/ipykernel_launcher.py:1: VisibleDeprecationWarning: Creating an ndarray from ragged nested sequences (which is a list-or-tuple of lists-or-tuples-or ndarrays with different lengths or shapes) is deprecated. If you meant to do this, you must specify 'dtype=object' when creating the ndarray\n",
            "  \"\"\"Entry point for launching an IPython kernel.\n",
            "/opt/conda/lib/python3.7/site-packages/ipykernel_launcher.py:2: VisibleDeprecationWarning: Creating an ndarray from ragged nested sequences (which is a list-or-tuple of lists-or-tuples-or ndarrays with different lengths or shapes) is deprecated. If you meant to do this, you must specify 'dtype=object' when creating the ndarray\n",
            "  \n",
            "/opt/conda/lib/python3.7/site-packages/ipykernel_launcher.py:3: VisibleDeprecationWarning: Creating an ndarray from ragged nested sequences (which is a list-or-tuple of lists-or-tuples-or ndarrays with different lengths or shapes) is deprecated. If you meant to do this, you must specify 'dtype=object' when creating the ndarray\n",
            "  This is separate from the ipykernel package so we can avoid doing imports until\n"
          ],
          "name": "stderr"
        }
      ]
    },
    {
      "cell_type": "code",
      "metadata": {
        "execution": {
          "iopub.status.busy": "2021-08-13T22:33:26.550477Z",
          "iopub.execute_input": "2021-08-13T22:33:26.550798Z",
          "iopub.status.idle": "2021-08-13T22:33:26.581223Z",
          "shell.execute_reply.started": "2021-08-13T22:33:26.550765Z",
          "shell.execute_reply": "2021-08-13T22:33:26.580192Z"
        },
        "trusted": true,
        "id": "mHF2nX4Nj_aa",
        "outputId": "e271762f-03bb-482e-c9cd-6bb7b26bf223"
      },
      "source": [
        "train_probe.head()"
      ],
      "execution_count": null,
      "outputs": [
        {
          "output_type": "execute_result",
          "data": {
            "text/plain": [
              "                                            Sentence  \\\n",
              "0  A person on a horse jumps over a broken down a...   \n",
              "1  A person on a horse jumps over a broken down a...   \n",
              "2  A person on a horse jumps over a broken down a...   \n",
              "3                     Children smiling and waving at   \n",
              "4                     Children smiling and waving at   \n",
              "\n",
              "                                                 enc  \\\n",
              "0  [[2, 3, 4, 2, 5, 6, 7, 2, 8, 9, 10, 0, 0, 0, 0...   \n",
              "1  [[2, 3, 4, 2, 5, 6, 7, 2, 8, 9, 10, 0, 0, 0, 0...   \n",
              "2  [[2, 3, 4, 2, 5, 6, 7, 2, 8, 9, 10, 0, 0, 0, 0...   \n",
              "3  [[23, 24, 25, 26, 16, 0, 0, 0, 0, 0, 0, 0, 0, ...   \n",
              "4  [[23, 24, 25, 26, 16, 0, 0, 0, 0, 0, 0, 0, 0, ...   \n",
              "\n",
              "                                tags  \\\n",
              "0  DT NN IN DT NN VBZ IN DT JJ JJ NN   \n",
              "1  DT NN IN DT NN VBZ IN DT JJ JJ NN   \n",
              "2  DT NN IN DT NN VBZ IN DT JJ JJ NN   \n",
              "3                  NNP VBG CC VBG IN   \n",
              "4                  NNP VBG CC VBG IN   \n",
              "\n",
              "                                             tag_enc  \n",
              "0  [[2, 3, 4, 2, 3, 5, 4, 2, 6, 6, 3, 0, 0, 0, 0,...  \n",
              "1  [[2, 3, 4, 2, 3, 5, 4, 2, 6, 6, 3, 0, 0, 0, 0,...  \n",
              "2  [[2, 3, 4, 2, 3, 5, 4, 2, 6, 6, 3, 0, 0, 0, 0,...  \n",
              "3  [[7, 8, 9, 8, 4, 0, 0, 0, 0, 0, 0, 0, 0, 0, 0,...  \n",
              "4  [[7, 8, 9, 8, 4, 0, 0, 0, 0, 0, 0, 0, 0, 0, 0,...  "
            ],
            "text/html": [
              "<div>\n",
              "<style scoped>\n",
              "    .dataframe tbody tr th:only-of-type {\n",
              "        vertical-align: middle;\n",
              "    }\n",
              "\n",
              "    .dataframe tbody tr th {\n",
              "        vertical-align: top;\n",
              "    }\n",
              "\n",
              "    .dataframe thead th {\n",
              "        text-align: right;\n",
              "    }\n",
              "</style>\n",
              "<table border=\"1\" class=\"dataframe\">\n",
              "  <thead>\n",
              "    <tr style=\"text-align: right;\">\n",
              "      <th></th>\n",
              "      <th>Sentence</th>\n",
              "      <th>enc</th>\n",
              "      <th>tags</th>\n",
              "      <th>tag_enc</th>\n",
              "    </tr>\n",
              "  </thead>\n",
              "  <tbody>\n",
              "    <tr>\n",
              "      <th>0</th>\n",
              "      <td>A person on a horse jumps over a broken down a...</td>\n",
              "      <td>[[2, 3, 4, 2, 5, 6, 7, 2, 8, 9, 10, 0, 0, 0, 0...</td>\n",
              "      <td>DT NN IN DT NN VBZ IN DT JJ JJ NN</td>\n",
              "      <td>[[2, 3, 4, 2, 3, 5, 4, 2, 6, 6, 3, 0, 0, 0, 0,...</td>\n",
              "    </tr>\n",
              "    <tr>\n",
              "      <th>1</th>\n",
              "      <td>A person on a horse jumps over a broken down a...</td>\n",
              "      <td>[[2, 3, 4, 2, 5, 6, 7, 2, 8, 9, 10, 0, 0, 0, 0...</td>\n",
              "      <td>DT NN IN DT NN VBZ IN DT JJ JJ NN</td>\n",
              "      <td>[[2, 3, 4, 2, 3, 5, 4, 2, 6, 6, 3, 0, 0, 0, 0,...</td>\n",
              "    </tr>\n",
              "    <tr>\n",
              "      <th>2</th>\n",
              "      <td>A person on a horse jumps over a broken down a...</td>\n",
              "      <td>[[2, 3, 4, 2, 5, 6, 7, 2, 8, 9, 10, 0, 0, 0, 0...</td>\n",
              "      <td>DT NN IN DT NN VBZ IN DT JJ JJ NN</td>\n",
              "      <td>[[2, 3, 4, 2, 3, 5, 4, 2, 6, 6, 3, 0, 0, 0, 0,...</td>\n",
              "    </tr>\n",
              "    <tr>\n",
              "      <th>3</th>\n",
              "      <td>Children smiling and waving at</td>\n",
              "      <td>[[23, 24, 25, 26, 16, 0, 0, 0, 0, 0, 0, 0, 0, ...</td>\n",
              "      <td>NNP VBG CC VBG IN</td>\n",
              "      <td>[[7, 8, 9, 8, 4, 0, 0, 0, 0, 0, 0, 0, 0, 0, 0,...</td>\n",
              "    </tr>\n",
              "    <tr>\n",
              "      <th>4</th>\n",
              "      <td>Children smiling and waving at</td>\n",
              "      <td>[[23, 24, 25, 26, 16, 0, 0, 0, 0, 0, 0, 0, 0, ...</td>\n",
              "      <td>NNP VBG CC VBG IN</td>\n",
              "      <td>[[7, 8, 9, 8, 4, 0, 0, 0, 0, 0, 0, 0, 0, 0, 0,...</td>\n",
              "    </tr>\n",
              "  </tbody>\n",
              "</table>\n",
              "</div>"
            ]
          },
          "metadata": {
            "tags": []
          },
          "execution_count": 35
        }
      ]
    },
    {
      "cell_type": "code",
      "metadata": {
        "execution": {
          "iopub.status.busy": "2021-08-13T22:33:26.582575Z",
          "iopub.execute_input": "2021-08-13T22:33:26.582936Z",
          "iopub.status.idle": "2021-08-13T22:33:27.217642Z",
          "shell.execute_reply.started": "2021-08-13T22:33:26.582895Z",
          "shell.execute_reply": "2021-08-13T22:33:27.216681Z"
        },
        "trusted": true,
        "id": "l689qh0Ij_aa"
      },
      "source": [
        "tag_enc_train = []\n",
        "for i in train_probe['tag_enc']:\n",
        "    tag_enc_train.append(i[0])\n",
        "    \n",
        "tag_enc_test = []\n",
        "for i in test_probe['tag_enc']:\n",
        "    tag_enc_test.append(i[0])\n",
        "    \n",
        "tag_enc_valid = []\n",
        "for i in valid_probe['tag_enc']:\n",
        "    tag_enc_valid.append(i[0])"
      ],
      "execution_count": null,
      "outputs": []
    },
    {
      "cell_type": "markdown",
      "metadata": {
        "id": "17Q67gcSsgqd"
      },
      "source": [
        "## Prepare Datasets and load them into Dataloaders"
      ]
    },
    {
      "cell_type": "code",
      "metadata": {
        "execution": {
          "iopub.status.busy": "2021-08-13T22:33:27.220398Z",
          "iopub.execute_input": "2021-08-13T22:33:27.220762Z",
          "iopub.status.idle": "2021-08-13T22:33:27.228241Z",
          "shell.execute_reply.started": "2021-08-13T22:33:27.220720Z",
          "shell.execute_reply": "2021-08-13T22:33:27.227192Z"
        },
        "trusted": true,
        "id": "giXJKlejj_aa"
      },
      "source": [
        "class ProbeDataset(Dataset):\n",
        "    def __init__(self, X1, Y):\n",
        "        self.X1 = X1\n",
        "        self.y = Y\n",
        "        \n",
        "    def __len__(self):\n",
        "        return len(self.y)\n",
        "    \n",
        "    def __getitem__(self, idx):\n",
        "        return torch.from_numpy(self.X1[idx][0].astype(np.int32)), self.y[idx]"
      ],
      "execution_count": null,
      "outputs": []
    },
    {
      "cell_type": "code",
      "metadata": {
        "execution": {
          "iopub.status.busy": "2021-08-13T22:33:27.229926Z",
          "iopub.execute_input": "2021-08-13T22:33:27.230445Z",
          "iopub.status.idle": "2021-08-13T22:33:27.238588Z",
          "shell.execute_reply.started": "2021-08-13T22:33:27.230409Z",
          "shell.execute_reply": "2021-08-13T22:33:27.237705Z"
        },
        "trusted": true,
        "id": "T6jOfwrdj_aa"
      },
      "source": [
        "train_probe_ds = ProbeDataset(train_probe['enc'],tag_enc_train)\n",
        "test_probe_ds = ProbeDataset(test_probe['enc'],tag_enc_test)\n",
        "valid_probe_ds = ProbeDataset(valid_probe['enc'],tag_enc_valid)"
      ],
      "execution_count": null,
      "outputs": []
    },
    {
      "cell_type": "code",
      "metadata": {
        "execution": {
          "iopub.status.busy": "2021-08-13T22:33:27.239995Z",
          "iopub.execute_input": "2021-08-13T22:33:27.240527Z",
          "iopub.status.idle": "2021-08-13T22:33:27.296040Z",
          "shell.execute_reply.started": "2021-08-13T22:33:27.240486Z",
          "shell.execute_reply": "2021-08-13T22:33:27.295118Z"
        },
        "trusted": true,
        "id": "QE-ox6w0j_ab",
        "outputId": "bffaf52c-bb8c-480b-fe9f-793f0abba9c4"
      },
      "source": [
        "len(test_probe)"
      ],
      "execution_count": null,
      "outputs": [
        {
          "output_type": "execute_result",
          "data": {
            "text/plain": [
              "19648"
            ]
          },
          "metadata": {
            "tags": []
          },
          "execution_count": 39
        }
      ]
    },
    {
      "cell_type": "code",
      "metadata": {
        "execution": {
          "iopub.status.busy": "2021-08-13T22:33:27.297710Z",
          "iopub.execute_input": "2021-08-13T22:33:27.298140Z",
          "iopub.status.idle": "2021-08-13T22:33:27.305139Z",
          "shell.execute_reply.started": "2021-08-13T22:33:27.298064Z",
          "shell.execute_reply": "2021-08-13T22:33:27.304035Z"
        },
        "trusted": true,
        "id": "fwyT-QMAj_ab"
      },
      "source": [
        "train_probe_dl = DataLoader(train_probe_ds, batch_size=2048*4, shuffle=True)\n",
        "test_probe_dl = DataLoader(test_probe_ds, batch_size=2048*4, shuffle=True)\n",
        "valid_probe_dl = DataLoader(valid_probe_ds, batch_size=2048*4, shuffle=True)"
      ],
      "execution_count": null,
      "outputs": []
    },
    {
      "cell_type": "markdown",
      "metadata": {
        "id": "De_NiNE2s7xN"
      },
      "source": [
        "## Activate GPU"
      ]
    },
    {
      "cell_type": "code",
      "metadata": {
        "execution": {
          "iopub.status.busy": "2021-08-13T22:18:44.813982Z",
          "iopub.execute_input": "2021-08-13T22:18:44.814388Z",
          "iopub.status.idle": "2021-08-13T22:18:44.824820Z",
          "shell.execute_reply.started": "2021-08-13T22:18:44.814352Z",
          "shell.execute_reply": "2021-08-13T22:18:44.823614Z"
        },
        "trusted": true,
        "id": "PE91ZPONj_aT"
      },
      "source": [
        "def get_default_device():\n",
        "    \"\"\"Pick GPU if available, else CPU\"\"\"\n",
        "    if torch.cuda.is_available():\n",
        "        return torch.device('cuda')\n",
        "    else:\n",
        "        return torch.device('cpu')\n",
        "    \n",
        "def to_device(data, device):\n",
        "    \"\"\"Move tensor(s) to chosen device\"\"\"\n",
        "    if isinstance(data, (list,tuple)):\n",
        "        return [to_device(x, device) for x in data]\n",
        "    return data.to(device, non_blocking=True)\n",
        "\n",
        "class DeviceDataLoader():\n",
        "    \"\"\"Wrap a dataloader to move data to a device\"\"\"\n",
        "    def __init__(self, dl, device):\n",
        "        self.dl = dl\n",
        "        self.device = device\n",
        "        \n",
        "    def __iter__(self):\n",
        "        \"\"\"Yield a batch of data after moving it to device\"\"\"\n",
        "        for b in self.dl: \n",
        "            yield to_device(b, self.device)\n",
        "\n",
        "    def __len__(self):\n",
        "        \"\"\"Number of batches\"\"\"\n",
        "        return len(self.dl)"
      ],
      "execution_count": null,
      "outputs": []
    },
    {
      "cell_type": "code",
      "metadata": {
        "execution": {
          "iopub.status.busy": "2021-08-13T22:18:44.826008Z",
          "iopub.execute_input": "2021-08-13T22:18:44.826399Z",
          "iopub.status.idle": "2021-08-13T22:18:44.879183Z",
          "shell.execute_reply.started": "2021-08-13T22:18:44.826364Z",
          "shell.execute_reply": "2021-08-13T22:18:44.878162Z"
        },
        "trusted": true,
        "id": "WnuFjgTzj_aT",
        "outputId": "f188782a-d93a-4a95-edc1-0a9ad4f90e49"
      },
      "source": [
        "device = get_default_device()\n",
        "print(device)"
      ],
      "execution_count": null,
      "outputs": [
        {
          "output_type": "stream",
          "text": [
            "cuda\n"
          ],
          "name": "stdout"
        }
      ]
    },
    {
      "cell_type": "markdown",
      "metadata": {
        "id": "blLJI0zGs-rb"
      },
      "source": [
        "### Move Dataloaders to GPU"
      ]
    },
    {
      "cell_type": "code",
      "metadata": {
        "execution": {
          "iopub.status.busy": "2021-08-13T22:55:43.739619Z",
          "iopub.execute_input": "2021-08-13T22:55:43.739930Z",
          "iopub.status.idle": "2021-08-13T22:55:43.745216Z",
          "shell.execute_reply.started": "2021-08-13T22:55:43.739883Z",
          "shell.execute_reply": "2021-08-13T22:55:43.744236Z"
        },
        "trusted": true,
        "id": "QuXuUvtUj_ac"
      },
      "source": [
        "train_probe_dl = DeviceDataLoader(train_probe_dl, device)\n",
        "test_probe_dl = DeviceDataLoader(test_probe_dl, device)\n",
        "valid_probe_dl = DeviceDataLoader(valid_probe_dl, device)"
      ],
      "execution_count": null,
      "outputs": []
    },
    {
      "cell_type": "markdown",
      "metadata": {
        "id": "BCbNKShltD16"
      },
      "source": [
        "## Prepare models"
      ]
    },
    {
      "cell_type": "markdown",
      "metadata": {
        "id": "nbNEAE7TtH9f"
      },
      "source": [
        "### Inference model using BiLSTM"
      ]
    },
    {
      "cell_type": "code",
      "metadata": {
        "execution": {
          "iopub.status.busy": "2021-08-13T22:18:44.890868Z",
          "iopub.execute_input": "2021-08-13T22:18:44.891264Z",
          "iopub.status.idle": "2021-08-13T22:18:44.905505Z",
          "shell.execute_reply.started": "2021-08-13T22:18:44.891228Z",
          "shell.execute_reply": "2021-08-13T22:18:44.904470Z"
        },
        "trusted": true,
        "id": "zzawWVlRj_aU"
      },
      "source": [
        "class Model(nn.Module) :\n",
        "    def __init__(self) :\n",
        "        super().__init__()\n",
        "        self.embeddings = nn.Embedding(vocab_size, 512, padding_idx=0)\n",
        "        self.trans = nn.Linear(512,128)\n",
        "        self.lstm = nn.LSTM(128, 128, batch_first=True,num_layers =2, bidirectional = True)\n",
        "        self.linear1 = nn.Linear(512, 1024)\n",
        "        self.linear2 = nn.Linear(1024, 256)\n",
        "        self.linear3 = nn.Linear(256, 64)\n",
        "        self.linear4 = nn.Linear(64, 16)\n",
        "        self.linear5 = nn.Linear(16, 3)\n",
        "        self.dropout = nn.Dropout(0.2)\n",
        "        self.out = nn.LogSoftmax(dim=1)\n",
        "        \n",
        "    def forward(self, x1, x2):\n",
        "        \n",
        "        x1 = self.embeddings(x1)\n",
        "        x1 = self.trans(x1)\n",
        "        x1 = self.dropout(x1)\n",
        "        _,(x1,_) = self.lstm(x1)\n",
        "        \n",
        "        x2 = self.embeddings(x2)\n",
        "        x2 = self.trans(x2)\n",
        "        x2 = self.dropout(x2)\n",
        "        _,(x2,_) = self.lstm(x2)\n",
        "        \n",
        "        x1 = torch.cat((x1[-1], x1[-2]), dim=-1)\n",
        "        x2 = torch.cat((x2[-1], x2[-2]), dim=-1)\n",
        "\n",
        "        combined = torch.cat((x1, x2), dim=1)\n",
        "        \n",
        "        combined = F.relu(self.linear1(combined))\n",
        "        combined = self.dropout(combined)\n",
        "        \n",
        "        combined = F.relu(self.linear2(combined))\n",
        "        combined = self.dropout(combined)\n",
        "        \n",
        "        combined = F.relu(self.linear3(combined))\n",
        "        combined = self.dropout(combined)\n",
        "        \n",
        "        combined = F.relu(self.linear4(combined))\n",
        "        combined = self.dropout(combined)\n",
        "        \n",
        "        combined = F.relu(self.linear5(combined))\n",
        "        combined = self.out(combined)\n",
        "        \n",
        "        return combined"
      ],
      "execution_count": null,
      "outputs": []
    },
    {
      "cell_type": "code",
      "metadata": {
        "execution": {
          "iopub.status.busy": "2021-08-13T22:18:44.906824Z",
          "iopub.execute_input": "2021-08-13T22:18:44.907491Z",
          "iopub.status.idle": "2021-08-13T22:18:50.286206Z",
          "shell.execute_reply.started": "2021-08-13T22:18:44.907454Z",
          "shell.execute_reply": "2021-08-13T22:18:50.285365Z"
        },
        "trusted": true,
        "id": "ccrb_tfej_aV"
      },
      "source": [
        "model =  Model()\n",
        "model = to_device(model, device)"
      ],
      "execution_count": null,
      "outputs": []
    },
    {
      "cell_type": "markdown",
      "metadata": {
        "id": "9TE0xo6otGbY"
      },
      "source": [
        "#### Load previously trained weights"
      ]
    },
    {
      "cell_type": "code",
      "metadata": {
        "execution": {
          "iopub.status.busy": "2021-08-13T22:18:50.287600Z",
          "iopub.execute_input": "2021-08-13T22:18:50.287936Z",
          "iopub.status.idle": "2021-08-13T22:18:52.423704Z",
          "shell.execute_reply.started": "2021-08-13T22:18:50.287901Z",
          "shell.execute_reply": "2021-08-13T22:18:52.422798Z"
        },
        "trusted": true,
        "id": "4W0wKXBrj_aV"
      },
      "source": [
        "\n",
        "if torch.cuda.is_available():\n",
        "    model.load_state_dict(torch.load('../input/nlp-weight/trained-nlp-model-weigth-79.pt'))\n",
        "else:\n",
        "    model.load_state_dict(torch.load('../input/nlp-weight/trained-nlp-model-weigth-79.pt', map_location=torch.device('cpu')))\n"
      ],
      "execution_count": null,
      "outputs": []
    },
    {
      "cell_type": "markdown",
      "metadata": {
        "id": "z3TSqVA4tYjQ"
      },
      "source": [
        "### Probe Model"
      ]
    },
    {
      "cell_type": "code",
      "metadata": {
        "execution": {
          "iopub.status.busy": "2021-08-13T22:55:43.356591Z",
          "iopub.execute_input": "2021-08-13T22:55:43.356910Z",
          "iopub.status.idle": "2021-08-13T22:55:43.365116Z",
          "shell.execute_reply.started": "2021-08-13T22:55:43.356882Z",
          "shell.execute_reply": "2021-08-13T22:55:43.364053Z"
        },
        "trusted": true,
        "id": "5TG3oX8uj_ab"
      },
      "source": [
        "class ProbeModel(nn.Module) :\n",
        "    def __init__(self) :\n",
        "        super().__init__()\n",
        "        self.embeddings = model.embeddings\n",
        "        for param in model.parameters():\n",
        "            param.requires_grad = False #Freeze embedding parameters from inital model\n",
        "        self.linear1 = nn.Linear(512, 128)\n",
        "        self.linear2 = nn.Linear(128, tag_length)\n",
        "        self.dropout = nn.Dropout(0.2)\n",
        "        self.out = nn.LogSoftmax(dim=1)\n",
        "        \n",
        "    def forward(self, x1):\n",
        "        \n",
        "        x1 = self.embeddings(x1)\n",
        "        \n",
        "        x1 = self.linear1(x1)\n",
        "        x1 = self.dropout(x1)\n",
        "        x1 = self.linear2(x1)\n",
        "        op = self.out(x1)\n",
        "        s = op.shape\n",
        "        op = op.reshape(s[0],s[2],s[1])\n",
        "        return op"
      ],
      "execution_count": null,
      "outputs": []
    },
    {
      "cell_type": "code",
      "metadata": {
        "execution": {
          "iopub.status.busy": "2021-08-13T22:55:43.543792Z",
          "iopub.execute_input": "2021-08-13T22:55:43.544047Z",
          "iopub.status.idle": "2021-08-13T22:55:43.550372Z",
          "shell.execute_reply.started": "2021-08-13T22:55:43.544023Z",
          "shell.execute_reply": "2021-08-13T22:55:43.549476Z"
        },
        "trusted": true,
        "id": "m0eZ4Dzij_ab"
      },
      "source": [
        "model_probe =  ProbeModel()\n",
        "model_probe = to_device(model_probe, device)"
      ],
      "execution_count": null,
      "outputs": []
    },
    {
      "cell_type": "markdown",
      "metadata": {
        "id": "xFcSwlNTtmyz"
      },
      "source": [
        "#### Check output"
      ]
    },
    {
      "cell_type": "code",
      "metadata": {
        "execution": {
          "iopub.status.busy": "2021-08-13T22:55:44.401470Z",
          "iopub.execute_input": "2021-08-13T22:55:44.401761Z",
          "iopub.status.idle": "2021-08-13T22:55:45.021137Z",
          "shell.execute_reply.started": "2021-08-13T22:55:44.401733Z",
          "shell.execute_reply": "2021-08-13T22:55:45.020350Z"
        },
        "trusted": true,
        "id": "8Lev9cjjj_ac",
        "outputId": "00b48eda-31e9-44bf-aa45-ae06873ea952"
      },
      "source": [
        "for batch in train_probe_dl:\n",
        "    with torch.no_grad():\n",
        "        model_probe.eval()\n",
        "        word,labels = batch\n",
        "        word = word.long()\n",
        "        out = (model_probe(word))\n",
        "        print(out.shape)\n",
        "        break\n",
        "        \n",
        "for batch in test_probe_dl:\n",
        "    with torch.no_grad():\n",
        "        model_probe.eval()\n",
        "        word,labels = batch\n",
        "        word = word.long()\n",
        "        out = (model_probe(word))\n",
        "        print(out.shape)\n",
        "        break\n",
        "        \n",
        "for batch in valid_probe_dl:\n",
        "    with torch.no_grad():\n",
        "        model_probe.eval()\n",
        "        word,labels = batch\n",
        "        word = word.long()\n",
        "        out = (model_probe(word))\n",
        "        print(out.shape)\n",
        "        break"
      ],
      "execution_count": null,
      "outputs": [
        {
          "output_type": "stream",
          "text": [
            "torch.Size([8192, 45, 80])\n",
            "torch.Size([8192, 45, 80])\n",
            "torch.Size([8192, 45, 80])\n"
          ],
          "name": "stdout"
        }
      ]
    },
    {
      "cell_type": "markdown",
      "metadata": {
        "id": "dUjTcSYOt42a"
      },
      "source": [
        "#### Choosing loss and optimizer"
      ]
    },
    {
      "cell_type": "code",
      "metadata": {
        "execution": {
          "iopub.status.busy": "2021-08-13T22:55:45.024001Z",
          "iopub.execute_input": "2021-08-13T22:55:45.024250Z",
          "iopub.status.idle": "2021-08-13T22:55:45.031381Z",
          "shell.execute_reply.started": "2021-08-13T22:55:45.024225Z",
          "shell.execute_reply": "2021-08-13T22:55:45.030440Z"
        },
        "trusted": true,
        "id": "irF_HmrCj_ac"
      },
      "source": [
        "criterion = nn.NLLLoss().to(device)\n",
        "parameters = filter(lambda p: p.requires_grad, model_probe.parameters())\n",
        "optimizer = torch.optim.Adam(parameters, lr=0.0005)"
      ],
      "execution_count": null,
      "outputs": []
    },
    {
      "cell_type": "markdown",
      "metadata": {
        "id": "d4e059fQtqak"
      },
      "source": [
        "## Probing"
      ]
    },
    {
      "cell_type": "markdown",
      "metadata": {
        "id": "9LSfYw_gt0MZ"
      },
      "source": [
        "### Defining accuracy, evaluation and training functions"
      ]
    },
    {
      "cell_type": "code",
      "metadata": {
        "execution": {
          "iopub.status.busy": "2021-08-13T22:55:45.036427Z",
          "iopub.execute_input": "2021-08-13T22:55:45.036753Z",
          "iopub.status.idle": "2021-08-13T22:55:45.043290Z",
          "shell.execute_reply.started": "2021-08-13T22:55:45.036714Z",
          "shell.execute_reply": "2021-08-13T22:55:45.042317Z"
        },
        "trusted": true,
        "id": "L1kpoIUAj_ac"
      },
      "source": [
        "def categorical_accuracy(preds, y):\n",
        "    \n",
        "    max_preds = preds.argmax(dim = 1, keepdim = True) # get the index of the max probability\n",
        "    correct = max_preds.squeeze(1).eq(y)\n",
        "    correct = correct.to('cpu')\n",
        "    y = y.to('cpu')\n",
        "    return correct.sum() / ( torch.FloatTensor([y.shape[0]]) * torch.FloatTensor([y.shape[1]]) )"
      ],
      "execution_count": null,
      "outputs": []
    },
    {
      "cell_type": "code",
      "metadata": {
        "execution": {
          "iopub.status.busy": "2021-08-13T22:55:45.544770Z",
          "iopub.execute_input": "2021-08-13T22:55:45.545114Z",
          "iopub.status.idle": "2021-08-13T22:55:45.551673Z",
          "shell.execute_reply.started": "2021-08-13T22:55:45.545083Z",
          "shell.execute_reply": "2021-08-13T22:55:45.550557Z"
        },
        "trusted": true,
        "id": "HqM7szN8j_ad"
      },
      "source": [
        "def evaluate(model, iterator, criterion):\n",
        "    \n",
        "    epoch_loss = 0\n",
        "    epoch_acc = 0\n",
        "    \n",
        "    model.eval()\n",
        "    \n",
        "    with torch.no_grad():\n",
        "        for batch in iterator:\n",
        "\n",
        "            word,labels = batch\n",
        "            word = word.long()\n",
        "            labels = labels.long()\n",
        "        \n",
        "            predictions = model(word)\n",
        "            \n",
        "            loss = criterion(predictions, labels)\n",
        "                \n",
        "            acc = categorical_accuracy(predictions, labels)\n",
        "            \n",
        "            epoch_loss += loss.item()\n",
        "            epoch_acc += acc.item()\n",
        "        \n",
        "    return epoch_loss / len(iterator), epoch_acc / len(iterator)"
      ],
      "execution_count": null,
      "outputs": []
    },
    {
      "cell_type": "code",
      "metadata": {
        "execution": {
          "iopub.status.busy": "2021-08-13T22:55:46.159621Z",
          "iopub.execute_input": "2021-08-13T22:55:46.159973Z",
          "iopub.status.idle": "2021-08-13T22:55:46.168109Z",
          "shell.execute_reply.started": "2021-08-13T22:55:46.159940Z",
          "shell.execute_reply": "2021-08-13T22:55:46.167041Z"
        },
        "trusted": true,
        "id": "gfqwC9vDj_ad"
      },
      "source": [
        "def train(model, iterator, optimizer, criterion):\n",
        "    \n",
        "    epoch_loss = 0\n",
        "    epoch_acc = 0\n",
        "    \n",
        "    model.train()\n",
        "    \n",
        "    for batch in iterator:\n",
        "        \n",
        "        word,labels = batch\n",
        "        word = word.long()\n",
        "        labels = labels.long()\n",
        "        \n",
        "        optimizer.zero_grad()\n",
        "        \n",
        "        #prem = [prem sent len, batch size]\n",
        "        #hypo = [hypo sent len, batch size]\n",
        "        \n",
        "        predictions = model(word)\n",
        "        \n",
        "        #predictions = [batch size, output dim]\n",
        "        #labels = [batch size]\n",
        "        \n",
        "        loss = criterion(predictions, labels)\n",
        "                \n",
        "        acc = categorical_accuracy(predictions, labels)\n",
        "        \n",
        "        loss.backward()\n",
        "        \n",
        "        optimizer.step()\n",
        "        \n",
        "        epoch_loss += loss.item()\n",
        "        epoch_acc += acc.item()\n",
        "        \n",
        "    return epoch_loss / len(iterator), epoch_acc / len(iterator)"
      ],
      "execution_count": null,
      "outputs": []
    },
    {
      "cell_type": "code",
      "metadata": {
        "execution": {
          "iopub.status.busy": "2021-08-13T22:55:46.638566Z",
          "iopub.execute_input": "2021-08-13T22:55:46.638852Z",
          "iopub.status.idle": "2021-08-13T22:55:46.643229Z",
          "shell.execute_reply.started": "2021-08-13T22:55:46.638827Z",
          "shell.execute_reply": "2021-08-13T22:55:46.642169Z"
        },
        "trusted": true,
        "id": "H0fyXP_0j_ad"
      },
      "source": [
        "def epoch_time(start_time, end_time):\n",
        "    elapsed_time = end_time - start_time\n",
        "    elapsed_mins = int(elapsed_time / 60)\n",
        "    elapsed_secs = int(elapsed_time - (elapsed_mins * 60))\n",
        "    return elapsed_mins, elapsed_secs"
      ],
      "execution_count": null,
      "outputs": []
    },
    {
      "cell_type": "markdown",
      "metadata": {
        "id": "cHlTdyiXt2ax"
      },
      "source": [
        "### Training"
      ]
    },
    {
      "cell_type": "code",
      "metadata": {
        "execution": {
          "iopub.status.busy": "2021-08-13T22:55:47.109438Z",
          "iopub.execute_input": "2021-08-13T22:55:47.109727Z",
          "iopub.status.idle": "2021-08-13T23:02:21.125356Z",
          "shell.execute_reply.started": "2021-08-13T22:55:47.109700Z",
          "shell.execute_reply": "2021-08-13T23:02:21.124548Z"
        },
        "trusted": true,
        "id": "ohg5R9zmj_ad",
        "outputId": "05e38dc0-9cbd-469b-fc01-51b48d6a773e"
      },
      "source": [
        "N_EPOCHS = 8\n",
        "tr_loss = []\n",
        "vl_loss = []\n",
        "tr_acc = []\n",
        "vl_acc = []\n",
        "\n",
        "best_valid_loss = float('inf')\n",
        "\n",
        "for epoch in range(N_EPOCHS):\n",
        "\n",
        "    start_time = time.time()\n",
        "    \n",
        "    train_loss, train_acc = train(model_probe, train_probe_dl, optimizer, criterion)\n",
        "    valid_loss, valid_acc = evaluate(model_probe, valid_probe_dl, criterion)\n",
        "    \n",
        "    tr_loss.append(train_loss)\n",
        "    vl_loss.append(valid_loss)\n",
        "    tr_acc.append(train_acc)\n",
        "    vl_acc.append(valid_acc)\n",
        "    \n",
        "    end_time = time.time()\n",
        "\n",
        "    epoch_mins, epoch_secs = epoch_time(start_time, end_time)\n",
        "    \n",
        "    if valid_loss < best_valid_loss:\n",
        "        best_valid_loss = valid_loss\n",
        "        torch.save(model_probe.state_dict(), 'probe1-model.pt')\n",
        "    \n",
        "    print(f'Epoch: {epoch+1:02} | Epoch Time: {epoch_mins}m {epoch_secs}s')\n",
        "    print(f'\\tTrain Loss: {train_loss:.3f} | Train Acc: {train_acc*100:.2f}%')\n",
        "    print(f'\\t Val. Loss: {valid_loss:.3f} |  Val. Acc: {valid_acc*100:.2f}%')"
      ],
      "execution_count": null,
      "outputs": [
        {
          "output_type": "stream",
          "text": [
            "Epoch: 01 | Epoch Time: 0m 49s\n",
            "\tTrain Loss: 2.805 | Train Acc: 51.18%\n",
            "\t Val. Loss: 2.096 |  Val. Acc: 66.70%\n",
            "Epoch: 02 | Epoch Time: 0m 48s\n",
            "\tTrain Loss: 2.274 | Train Acc: 59.74%\n",
            "\t Val. Loss: 2.004 |  Val. Acc: 67.85%\n",
            "Epoch: 03 | Epoch Time: 0m 48s\n",
            "\tTrain Loss: 2.227 | Train Acc: 60.42%\n",
            "\t Val. Loss: 1.993 |  Val. Acc: 67.96%\n",
            "Epoch: 04 | Epoch Time: 0m 49s\n",
            "\tTrain Loss: 2.213 | Train Acc: 60.69%\n",
            "\t Val. Loss: 1.980 |  Val. Acc: 68.19%\n",
            "Epoch: 05 | Epoch Time: 0m 49s\n",
            "\tTrain Loss: 2.207 | Train Acc: 60.83%\n",
            "\t Val. Loss: 1.982 |  Val. Acc: 68.12%\n",
            "Epoch: 06 | Epoch Time: 0m 48s\n",
            "\tTrain Loss: 2.203 | Train Acc: 60.94%\n",
            "\t Val. Loss: 1.980 |  Val. Acc: 68.05%\n",
            "Epoch: 07 | Epoch Time: 0m 48s\n",
            "\tTrain Loss: 2.201 | Train Acc: 61.03%\n",
            "\t Val. Loss: 1.978 |  Val. Acc: 68.26%\n",
            "Epoch: 08 | Epoch Time: 0m 49s\n",
            "\tTrain Loss: 2.199 | Train Acc: 61.11%\n",
            "\t Val. Loss: 1.977 |  Val. Acc: 68.13%\n"
          ],
          "name": "stdout"
        }
      ]
    },
    {
      "cell_type": "code",
      "metadata": {
        "execution": {
          "iopub.status.busy": "2021-08-13T23:02:21.126817Z",
          "iopub.execute_input": "2021-08-13T23:02:21.127138Z",
          "iopub.status.idle": "2021-08-13T23:02:21.605311Z",
          "shell.execute_reply.started": "2021-08-13T23:02:21.127103Z",
          "shell.execute_reply": "2021-08-13T23:02:21.604389Z"
        },
        "trusted": true,
        "id": "ZH4T1aIrj_ad",
        "outputId": "b7dba0d3-52aa-47d1-ad47-0bf8746bf2e1"
      },
      "source": [
        "model_probe.load_state_dict(torch.load('probe1-model.pt'))\n",
        "\n",
        "test_loss, test_acc = evaluate(model_probe, test_probe_dl, criterion)\n",
        "\n",
        "print(f'Test Loss: {test_loss:.3f} |  Test Acc: {test_acc*100:.2f}%')"
      ],
      "execution_count": null,
      "outputs": [
        {
          "output_type": "stream",
          "text": [
            "Test Loss: 2.218 |  Test Acc: 61.09%\n"
          ],
          "name": "stdout"
        }
      ]
    },
    {
      "cell_type": "code",
      "metadata": {
        "execution": {
          "iopub.status.busy": "2021-08-13T23:02:21.607182Z",
          "iopub.execute_input": "2021-08-13T23:02:21.607595Z",
          "iopub.status.idle": "2021-08-13T23:02:21.922166Z",
          "shell.execute_reply.started": "2021-08-13T23:02:21.607553Z",
          "shell.execute_reply": "2021-08-13T23:02:21.921207Z"
        },
        "trusted": true,
        "id": "CJ9cqbi2j_ad",
        "outputId": "af1b3c93-8c1c-4225-84c1-1cf14c69c42c"
      },
      "source": [
        "plt.plot(tr_loss, label = \"Training loss\")\n",
        "plt.plot(vl_loss, label = \"Validation loss\")\n",
        "plt.legend()\n",
        "plt.show()\n",
        "\n",
        "plt.plot(tr_acc, label = \"Training accuracy\")\n",
        "plt.plot(vl_acc, label = \"Validation accuracy\")\n",
        "plt.legend()\n",
        "plt.show()"
      ],
      "execution_count": null,
      "outputs": [
        {
          "output_type": "display_data",
          "data": {
            "text/plain": [
              "<Figure size 432x288 with 1 Axes>"
            ],
            "image/png": "[encoded data removed]"
          },
          "metadata": {
            "tags": [],
            "needs_background": "light"
          }
        },
        {
          "output_type": "display_data",
          "data": {
            "text/plain": [
              "<Figure size 432x288 with 1 Axes>"
            ],
            "image/png": "[encoded data removed]"
          },
          "metadata": {
            "tags": [],
            "needs_background": "light"
          }
        }
      ]
    }
  ]
}