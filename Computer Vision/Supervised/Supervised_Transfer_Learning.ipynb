{
  "nbformat": 4,
  "nbformat_minor": 0,
  "metadata": {
    "colab": {
      "name": "Supervised Transfer Learning.ipynb",
      "provenance": [],
      "collapsed_sections": []
    },
    "kernelspec": {
      "name": "python3",
      "display_name": "Python 3"
    },
    "language_info": {
      "name": "python"
    },
    "accelerator": "GPU"
  },
  "cells": [
    {
      "cell_type": "code",
      "metadata": {
        "id": "CA54A0z355Wc"
      },
      "source": [
        "import pandas as pd"
      ],
      "execution_count": null,
      "outputs": []
    },
    {
      "cell_type": "code",
      "metadata": {
        "id": "gba9XhW9WKL-"
      },
      "source": [
        "from keras.constraints import max_norm"
      ],
      "execution_count": null,
      "outputs": []
    },
    {
      "cell_type": "code",
      "metadata": {
        "id": "JTP9dLqOgdvG",
        "colab": {
          "base_uri": "https://localhost:8080/"
        },
        "outputId": "92e565ba-84b6-4c4d-8614-bd95471a473c"
      },
      "source": [
        "pip install extra-keras-datasets"
      ],
      "execution_count": null,
      "outputs": [
        {
          "output_type": "stream",
          "text": [
            "Requirement already satisfied: extra-keras-datasets in /usr/local/lib/python3.7/dist-packages (1.2.0)\n",
            "Requirement already satisfied: scipy in /usr/local/lib/python3.7/dist-packages (from extra-keras-datasets) (1.4.1)\n",
            "Requirement already satisfied: numpy in /usr/local/lib/python3.7/dist-packages (from extra-keras-datasets) (1.19.5)\n",
            "Requirement already satisfied: scikit-learn in /usr/local/lib/python3.7/dist-packages (from extra-keras-datasets) (0.22.2.post1)\n",
            "Requirement already satisfied: pandas in /usr/local/lib/python3.7/dist-packages (from extra-keras-datasets) (1.1.5)\n",
            "Requirement already satisfied: joblib>=0.11 in /usr/local/lib/python3.7/dist-packages (from scikit-learn->extra-keras-datasets) (1.0.1)\n",
            "Requirement already satisfied: python-dateutil>=2.7.3 in /usr/local/lib/python3.7/dist-packages (from pandas->extra-keras-datasets) (2.8.1)\n",
            "Requirement already satisfied: pytz>=2017.2 in /usr/local/lib/python3.7/dist-packages (from pandas->extra-keras-datasets) (2018.9)\n",
            "Requirement already satisfied: six>=1.5 in /usr/local/lib/python3.7/dist-packages (from python-dateutil>=2.7.3->pandas->extra-keras-datasets) (1.15.0)\n"
          ],
          "name": "stdout"
        }
      ]
    },
    {
      "cell_type": "code",
      "metadata": {
        "colab": {
          "base_uri": "https://localhost:8080/"
        },
        "id": "jODgiybAgnjZ",
        "outputId": "f6142796-9ef8-4815-cb05-6f0a4ccbdcf9"
      },
      "source": [
        "from extra_keras_datasets import stl10\n",
        "(input_train, target_train), (input_test, target_test) = stl10.load_data() #import stl dataset"
      ],
      "execution_count": null,
      "outputs": [
        {
          "output_type": "stream",
          "text": [
            "INFO:root:Loading dataset = stl-10\n",
            "WARNING:root:Please cite the following paper when using or referencing this Extra Keras Dataset:\n",
            "WARNING:root:Coates, A., Ng, A., & Lee, H. (2011, June). An analysis of single-layer networks in unsupervised feature learning. In Proceedings of the fourteenth international conference on artificial intelligence and statistics (pp. 215-223).Retrieved from http://cs.stanford.edu/~acoates/papers/coatesleeng_aistats_2011.pdf\n"
          ],
          "name": "stderr"
        }
      ]
    },
    {
      "cell_type": "code",
      "metadata": {
        "id": "ZxhHFNkK9GWY"
      },
      "source": [
        "from tensorflow import keras\n",
        "base_model = keras.applications.VGG16(weights='imagenet', input_shape=(96,96,3), include_top=False)\n"
      ],
      "execution_count": null,
      "outputs": []
    },
    {
      "cell_type": "markdown",
      "metadata": {
        "id": "wK7H3oDS-Hpb"
      },
      "source": [
        ""
      ]
    },
    {
      "cell_type": "code",
      "metadata": {
        "colab": {
          "base_uri": "https://localhost:8080/"
        },
        "id": "fnkS_lHxVLHt",
        "outputId": "51a46d17-8383-47d6-bca5-2ffb69f9534c"
      },
      "source": [
        "\n",
        "input_train.shape"
      ],
      "execution_count": null,
      "outputs": [
        {
          "output_type": "execute_result",
          "data": {
            "text/plain": [
              "(5000, 96, 96, 3)"
            ]
          },
          "metadata": {
            "tags": []
          },
          "execution_count": 6
        }
      ]
    },
    {
      "cell_type": "code",
      "metadata": {
        "id": "GcQ3S9Lr_Zh1"
      },
      "source": [
        "x_train=input_train/255 #normalize the pixel values"
      ],
      "execution_count": null,
      "outputs": []
    },
    {
      "cell_type": "code",
      "metadata": {
        "colab": {
          "base_uri": "https://localhost:8080/"
        },
        "id": "tzH3KZ3QgAtn",
        "outputId": "2126c057-fcc8-495b-daac-c2673c30c4ae"
      },
      "source": [
        "input_test.shape"
      ],
      "execution_count": null,
      "outputs": [
        {
          "output_type": "execute_result",
          "data": {
            "text/plain": [
              "(8000, 96, 96, 3)"
            ]
          },
          "metadata": {
            "tags": []
          },
          "execution_count": 8
        }
      ]
    },
    {
      "cell_type": "code",
      "metadata": {
        "id": "ypWY09QT_fQL"
      },
      "source": [
        "x_test=input_test/255 #normalize the pixel values"
      ],
      "execution_count": null,
      "outputs": []
    },
    {
      "cell_type": "code",
      "metadata": {
        "colab": {
          "base_uri": "https://localhost:8080/"
        },
        "id": "0S__pElfDm3V",
        "outputId": "f9a36e5f-9a40-4b53-ab77-ad266ebaf151"
      },
      "source": [
        "x_train.shape"
      ],
      "execution_count": null,
      "outputs": [
        {
          "output_type": "execute_result",
          "data": {
            "text/plain": [
              "(5000, 96, 96, 3)"
            ]
          },
          "metadata": {
            "tags": []
          },
          "execution_count": 10
        }
      ]
    },
    {
      "cell_type": "code",
      "metadata": {
        "colab": {
          "base_uri": "https://localhost:8080/"
        },
        "id": "1y_ptX3_DpLr",
        "outputId": "769ed3d4-2a68-46ce-9ba8-18f746a5d3be"
      },
      "source": [
        "x_test.shape"
      ],
      "execution_count": null,
      "outputs": [
        {
          "output_type": "execute_result",
          "data": {
            "text/plain": [
              "(8000, 96, 96, 3)"
            ]
          },
          "metadata": {
            "tags": []
          },
          "execution_count": 11
        }
      ]
    },
    {
      "cell_type": "code",
      "metadata": {
        "colab": {
          "base_uri": "https://localhost:8080/"
        },
        "id": "9QXpJnPfgDCe",
        "outputId": "a79919d2-eaae-43fb-8fe9-388ae6bf50f3"
      },
      "source": [
        "target_train.shape"
      ],
      "execution_count": null,
      "outputs": [
        {
          "output_type": "execute_result",
          "data": {
            "text/plain": [
              "(5000,)"
            ]
          },
          "metadata": {
            "tags": []
          },
          "execution_count": 12
        }
      ]
    },
    {
      "cell_type": "code",
      "metadata": {
        "id": "Sc66spQD5z48"
      },
      "source": [
        "y_train=pd.get_dummies(target_train)"
      ],
      "execution_count": null,
      "outputs": []
    },
    {
      "cell_type": "code",
      "metadata": {
        "colab": {
          "base_uri": "https://localhost:8080/"
        },
        "id": "tfmfqUimgISB",
        "outputId": "ed18b75f-5ce4-40eb-d0b2-58cf07b98fb7"
      },
      "source": [
        "target_test.shape"
      ],
      "execution_count": null,
      "outputs": [
        {
          "output_type": "execute_result",
          "data": {
            "text/plain": [
              "(8000,)"
            ]
          },
          "metadata": {
            "tags": []
          },
          "execution_count": 14
        }
      ]
    },
    {
      "cell_type": "code",
      "metadata": {
        "id": "FRiyCQof5-T8"
      },
      "source": [
        "y_test=pd.get_dummies(target_test)"
      ],
      "execution_count": null,
      "outputs": []
    },
    {
      "cell_type": "code",
      "metadata": {
        "colab": {
          "base_uri": "https://localhost:8080/"
        },
        "id": "M-KGSEJ46CQD",
        "outputId": "dcd33ca5-832e-4bdf-db03-ec0f1d684f51"
      },
      "source": [
        "y_train.shape"
      ],
      "execution_count": null,
      "outputs": [
        {
          "output_type": "execute_result",
          "data": {
            "text/plain": [
              "(5000, 10)"
            ]
          },
          "metadata": {
            "tags": []
          },
          "execution_count": 16
        }
      ]
    },
    {
      "cell_type": "code",
      "metadata": {
        "colab": {
          "base_uri": "https://localhost:8080/"
        },
        "id": "c05Dj_Hr6uqc",
        "outputId": "713617b0-771f-4e3a-bd31-f7de70848ad7"
      },
      "source": [
        "y_test.shape"
      ],
      "execution_count": null,
      "outputs": [
        {
          "output_type": "execute_result",
          "data": {
            "text/plain": [
              "(8000, 10)"
            ]
          },
          "metadata": {
            "tags": []
          },
          "execution_count": 17
        }
      ]
    },
    {
      "cell_type": "code",
      "metadata": {
        "colab": {
          "base_uri": "https://localhost:8080/",
          "height": 419
        },
        "id": "xPvB3V2B8IEz",
        "outputId": "441acdad-4970-40c9-fcec-2b2b1de4630c"
      },
      "source": [
        "y_train"
      ],
      "execution_count": null,
      "outputs": [
        {
          "output_type": "execute_result",
          "data": {
            "text/html": [
              "<div>\n",
              "<style scoped>\n",
              "    .dataframe tbody tr th:only-of-type {\n",
              "        vertical-align: middle;\n",
              "    }\n",
              "\n",
              "    .dataframe tbody tr th {\n",
              "        vertical-align: top;\n",
              "    }\n",
              "\n",
              "    .dataframe thead th {\n",
              "        text-align: right;\n",
              "    }\n",
              "</style>\n",
              "<table border=\"1\" class=\"dataframe\">\n",
              "  <thead>\n",
              "    <tr style=\"text-align: right;\">\n",
              "      <th></th>\n",
              "      <th>1</th>\n",
              "      <th>2</th>\n",
              "      <th>3</th>\n",
              "      <th>4</th>\n",
              "      <th>5</th>\n",
              "      <th>6</th>\n",
              "      <th>7</th>\n",
              "      <th>8</th>\n",
              "      <th>9</th>\n",
              "      <th>10</th>\n",
              "    </tr>\n",
              "  </thead>\n",
              "  <tbody>\n",
              "    <tr>\n",
              "      <th>0</th>\n",
              "      <td>0</td>\n",
              "      <td>1</td>\n",
              "      <td>0</td>\n",
              "      <td>0</td>\n",
              "      <td>0</td>\n",
              "      <td>0</td>\n",
              "      <td>0</td>\n",
              "      <td>0</td>\n",
              "      <td>0</td>\n",
              "      <td>0</td>\n",
              "    </tr>\n",
              "    <tr>\n",
              "      <th>1</th>\n",
              "      <td>0</td>\n",
              "      <td>0</td>\n",
              "      <td>0</td>\n",
              "      <td>0</td>\n",
              "      <td>0</td>\n",
              "      <td>1</td>\n",
              "      <td>0</td>\n",
              "      <td>0</td>\n",
              "      <td>0</td>\n",
              "      <td>0</td>\n",
              "    </tr>\n",
              "    <tr>\n",
              "      <th>2</th>\n",
              "      <td>0</td>\n",
              "      <td>1</td>\n",
              "      <td>0</td>\n",
              "      <td>0</td>\n",
              "      <td>0</td>\n",
              "      <td>0</td>\n",
              "      <td>0</td>\n",
              "      <td>0</td>\n",
              "      <td>0</td>\n",
              "      <td>0</td>\n",
              "    </tr>\n",
              "    <tr>\n",
              "      <th>3</th>\n",
              "      <td>0</td>\n",
              "      <td>0</td>\n",
              "      <td>0</td>\n",
              "      <td>0</td>\n",
              "      <td>0</td>\n",
              "      <td>0</td>\n",
              "      <td>1</td>\n",
              "      <td>0</td>\n",
              "      <td>0</td>\n",
              "      <td>0</td>\n",
              "    </tr>\n",
              "    <tr>\n",
              "      <th>4</th>\n",
              "      <td>0</td>\n",
              "      <td>0</td>\n",
              "      <td>0</td>\n",
              "      <td>1</td>\n",
              "      <td>0</td>\n",
              "      <td>0</td>\n",
              "      <td>0</td>\n",
              "      <td>0</td>\n",
              "      <td>0</td>\n",
              "      <td>0</td>\n",
              "    </tr>\n",
              "    <tr>\n",
              "      <th>...</th>\n",
              "      <td>...</td>\n",
              "      <td>...</td>\n",
              "      <td>...</td>\n",
              "      <td>...</td>\n",
              "      <td>...</td>\n",
              "      <td>...</td>\n",
              "      <td>...</td>\n",
              "      <td>...</td>\n",
              "      <td>...</td>\n",
              "      <td>...</td>\n",
              "    </tr>\n",
              "    <tr>\n",
              "      <th>4995</th>\n",
              "      <td>0</td>\n",
              "      <td>1</td>\n",
              "      <td>0</td>\n",
              "      <td>0</td>\n",
              "      <td>0</td>\n",
              "      <td>0</td>\n",
              "      <td>0</td>\n",
              "      <td>0</td>\n",
              "      <td>0</td>\n",
              "      <td>0</td>\n",
              "    </tr>\n",
              "    <tr>\n",
              "      <th>4996</th>\n",
              "      <td>0</td>\n",
              "      <td>0</td>\n",
              "      <td>0</td>\n",
              "      <td>0</td>\n",
              "      <td>0</td>\n",
              "      <td>1</td>\n",
              "      <td>0</td>\n",
              "      <td>0</td>\n",
              "      <td>0</td>\n",
              "      <td>0</td>\n",
              "    </tr>\n",
              "    <tr>\n",
              "      <th>4997</th>\n",
              "      <td>0</td>\n",
              "      <td>1</td>\n",
              "      <td>0</td>\n",
              "      <td>0</td>\n",
              "      <td>0</td>\n",
              "      <td>0</td>\n",
              "      <td>0</td>\n",
              "      <td>0</td>\n",
              "      <td>0</td>\n",
              "      <td>0</td>\n",
              "    </tr>\n",
              "    <tr>\n",
              "      <th>4998</th>\n",
              "      <td>0</td>\n",
              "      <td>0</td>\n",
              "      <td>0</td>\n",
              "      <td>0</td>\n",
              "      <td>0</td>\n",
              "      <td>0</td>\n",
              "      <td>0</td>\n",
              "      <td>1</td>\n",
              "      <td>0</td>\n",
              "      <td>0</td>\n",
              "    </tr>\n",
              "    <tr>\n",
              "      <th>4999</th>\n",
              "      <td>0</td>\n",
              "      <td>0</td>\n",
              "      <td>0</td>\n",
              "      <td>0</td>\n",
              "      <td>0</td>\n",
              "      <td>1</td>\n",
              "      <td>0</td>\n",
              "      <td>0</td>\n",
              "      <td>0</td>\n",
              "      <td>0</td>\n",
              "    </tr>\n",
              "  </tbody>\n",
              "</table>\n",
              "<p>5000 rows × 10 columns</p>\n",
              "</div>"
            ],
            "text/plain": [
              "      1   2   3   4   5   6   7   8   9   10\n",
              "0      0   1   0   0   0   0   0   0   0   0\n",
              "1      0   0   0   0   0   1   0   0   0   0\n",
              "2      0   1   0   0   0   0   0   0   0   0\n",
              "3      0   0   0   0   0   0   1   0   0   0\n",
              "4      0   0   0   1   0   0   0   0   0   0\n",
              "...   ..  ..  ..  ..  ..  ..  ..  ..  ..  ..\n",
              "4995   0   1   0   0   0   0   0   0   0   0\n",
              "4996   0   0   0   0   0   1   0   0   0   0\n",
              "4997   0   1   0   0   0   0   0   0   0   0\n",
              "4998   0   0   0   0   0   0   0   1   0   0\n",
              "4999   0   0   0   0   0   1   0   0   0   0\n",
              "\n",
              "[5000 rows x 10 columns]"
            ]
          },
          "metadata": {
            "tags": []
          },
          "execution_count": 18
        }
      ]
    },
    {
      "cell_type": "code",
      "metadata": {
        "id": "-1LUod-JcMkn"
      },
      "source": [
        "import matplotlib.pyplot as plt\n",
        "import numpy as np\n"
      ],
      "execution_count": null,
      "outputs": []
    },
    {
      "cell_type": "code",
      "metadata": {
        "colab": {
          "base_uri": "https://localhost:8080/"
        },
        "id": "TdN_pWBoBZJZ",
        "outputId": "b590dc27-9bb0-479d-f89c-651deea2adbb"
      },
      "source": [
        "base_model.summary()"
      ],
      "execution_count": null,
      "outputs": [
        {
          "output_type": "stream",
          "text": [
            "Model: \"vgg16\"\n",
            "_________________________________________________________________\n",
            "Layer (type)                 Output Shape              Param #   \n",
            "=================================================================\n",
            "input_1 (InputLayer)         [(None, 96, 96, 3)]       0         \n",
            "_________________________________________________________________\n",
            "block1_conv1 (Conv2D)        (None, 96, 96, 64)        1792      \n",
            "_________________________________________________________________\n",
            "block1_conv2 (Conv2D)        (None, 96, 96, 64)        36928     \n",
            "_________________________________________________________________\n",
            "block1_pool (MaxPooling2D)   (None, 48, 48, 64)        0         \n",
            "_________________________________________________________________\n",
            "block2_conv1 (Conv2D)        (None, 48, 48, 128)       73856     \n",
            "_________________________________________________________________\n",
            "block2_conv2 (Conv2D)        (None, 48, 48, 128)       147584    \n",
            "_________________________________________________________________\n",
            "block2_pool (MaxPooling2D)   (None, 24, 24, 128)       0         \n",
            "_________________________________________________________________\n",
            "block3_conv1 (Conv2D)        (None, 24, 24, 256)       295168    \n",
            "_________________________________________________________________\n",
            "block3_conv2 (Conv2D)        (None, 24, 24, 256)       590080    \n",
            "_________________________________________________________________\n",
            "block3_conv3 (Conv2D)        (None, 24, 24, 256)       590080    \n",
            "_________________________________________________________________\n",
            "block3_pool (MaxPooling2D)   (None, 12, 12, 256)       0         \n",
            "_________________________________________________________________\n",
            "block4_conv1 (Conv2D)        (None, 12, 12, 512)       1180160   \n",
            "_________________________________________________________________\n",
            "block4_conv2 (Conv2D)        (None, 12, 12, 512)       2359808   \n",
            "_________________________________________________________________\n",
            "block4_conv3 (Conv2D)        (None, 12, 12, 512)       2359808   \n",
            "_________________________________________________________________\n",
            "block4_pool (MaxPooling2D)   (None, 6, 6, 512)         0         \n",
            "_________________________________________________________________\n",
            "block5_conv1 (Conv2D)        (None, 6, 6, 512)         2359808   \n",
            "_________________________________________________________________\n",
            "block5_conv2 (Conv2D)        (None, 6, 6, 512)         2359808   \n",
            "_________________________________________________________________\n",
            "block5_conv3 (Conv2D)        (None, 6, 6, 512)         2359808   \n",
            "_________________________________________________________________\n",
            "block5_pool (MaxPooling2D)   (None, 3, 3, 512)         0         \n",
            "=================================================================\n",
            "Total params: 14,714,688\n",
            "Trainable params: 14,714,688\n",
            "Non-trainable params: 0\n",
            "_________________________________________________________________\n"
          ],
          "name": "stdout"
        }
      ]
    },
    {
      "cell_type": "code",
      "metadata": {
        "id": "IJwRg4LnBmGT"
      },
      "source": [
        "#Add top layers on the base model\n",
        "\n",
        "inputs = keras.Input(shape=(96, 96, 3))\n",
        "x = base_model(inputs, training=False)\n",
        "x = keras.layers.GlobalAveragePooling2D()(x)\n",
        "x = keras.layers.Dense(256, activation = 'relu')(x)\n",
        "x=keras.layers.Dropout(0.3)(x)\n",
        "x = keras.layers.Dense(64, activation = 'relu')(x)\n",
        "x=keras.layers.Dropout(0.3)(x)\n",
        "outputs = keras.layers.Dense(10, activation = 'softmax')(x)\n",
        "model = keras.Model(inputs, outputs)"
      ],
      "execution_count": null,
      "outputs": []
    },
    {
      "cell_type": "code",
      "metadata": {
        "colab": {
          "base_uri": "https://localhost:8080/"
        },
        "id": "odkkqGwwCMEa",
        "outputId": "0a81affb-962f-4554-d38f-fa0be1566fa3"
      },
      "source": [
        "model.summary()\n"
      ],
      "execution_count": null,
      "outputs": [
        {
          "output_type": "stream",
          "text": [
            "Model: \"model\"\n",
            "_________________________________________________________________\n",
            "Layer (type)                 Output Shape              Param #   \n",
            "=================================================================\n",
            "input_2 (InputLayer)         [(None, 96, 96, 3)]       0         \n",
            "_________________________________________________________________\n",
            "vgg16 (Functional)           (None, 3, 3, 512)         14714688  \n",
            "_________________________________________________________________\n",
            "global_average_pooling2d (Gl (None, 512)               0         \n",
            "_________________________________________________________________\n",
            "dense (Dense)                (None, 256)               131328    \n",
            "_________________________________________________________________\n",
            "dropout (Dropout)            (None, 256)               0         \n",
            "_________________________________________________________________\n",
            "dense_1 (Dense)              (None, 64)                16448     \n",
            "_________________________________________________________________\n",
            "dropout_1 (Dropout)          (None, 64)                0         \n",
            "_________________________________________________________________\n",
            "dense_2 (Dense)              (None, 10)                650       \n",
            "=================================================================\n",
            "Total params: 14,863,114\n",
            "Trainable params: 14,863,114\n",
            "Non-trainable params: 0\n",
            "_________________________________________________________________\n"
          ],
          "name": "stdout"
        }
      ]
    },
    {
      "cell_type": "code",
      "metadata": {
        "id": "sYN0JsYiCfUK"
      },
      "source": [
        "opt = keras.optimizers.Adam(learning_rate=0.0001)\n",
        "model.compile(loss='categorical_crossentropy', metrics=[\"accuracy\"], optimizer=opt)"
      ],
      "execution_count": null,
      "outputs": []
    },
    {
      "cell_type": "code",
      "metadata": {
        "colab": {
          "base_uri": "https://localhost:8080/"
        },
        "id": "JpaESxkwgXcw",
        "outputId": "f8594e88-42c5-4506-f7a7-09f87acfa0dc"
      },
      "source": [
        "#train top model\n",
        "history1=model.fit(x_train, y_train, epochs=20, verbose=1, batch_size=64, validation_split=0.25) "
      ],
      "execution_count": null,
      "outputs": [
        {
          "output_type": "stream",
          "text": [
            "Epoch 1/20\n",
            "59/59 [==============================] - 50s 247ms/step - loss: 1.8619 - accuracy: 0.3213 - val_loss: 1.2720 - val_accuracy: 0.5416\n",
            "Epoch 2/20\n",
            "59/59 [==============================] - 10s 168ms/step - loss: 1.2267 - accuracy: 0.5715 - val_loss: 1.0300 - val_accuracy: 0.6288\n",
            "Epoch 3/20\n",
            "59/59 [==============================] - 10s 170ms/step - loss: 0.9446 - accuracy: 0.6813 - val_loss: 0.6893 - val_accuracy: 0.7704\n",
            "Epoch 4/20\n",
            "59/59 [==============================] - 10s 172ms/step - loss: 0.6164 - accuracy: 0.8024 - val_loss: 0.6192 - val_accuracy: 0.8120\n",
            "Epoch 5/20\n",
            "59/59 [==============================] - 10s 174ms/step - loss: 0.5043 - accuracy: 0.8448 - val_loss: 0.5866 - val_accuracy: 0.8096\n",
            "Epoch 6/20\n",
            "59/59 [==============================] - 10s 176ms/step - loss: 0.3995 - accuracy: 0.8741 - val_loss: 0.5194 - val_accuracy: 0.8432\n",
            "Epoch 7/20\n",
            "59/59 [==============================] - 11s 179ms/step - loss: 0.2492 - accuracy: 0.9267 - val_loss: 0.5644 - val_accuracy: 0.8384\n",
            "Epoch 8/20\n",
            "59/59 [==============================] - 11s 181ms/step - loss: 0.2881 - accuracy: 0.9136 - val_loss: 0.5565 - val_accuracy: 0.8344\n",
            "Epoch 9/20\n",
            "59/59 [==============================] - 11s 185ms/step - loss: 0.1624 - accuracy: 0.9541 - val_loss: 0.5819 - val_accuracy: 0.8336\n",
            "Epoch 10/20\n",
            "59/59 [==============================] - 11s 184ms/step - loss: 0.1365 - accuracy: 0.9621 - val_loss: 0.7344 - val_accuracy: 0.8312\n",
            "Epoch 11/20\n",
            "59/59 [==============================] - 11s 180ms/step - loss: 0.1224 - accuracy: 0.9651 - val_loss: 0.6248 - val_accuracy: 0.8496\n",
            "Epoch 12/20\n",
            "59/59 [==============================] - 11s 179ms/step - loss: 0.1124 - accuracy: 0.9717 - val_loss: 0.6094 - val_accuracy: 0.8312\n",
            "Epoch 13/20\n",
            "59/59 [==============================] - 11s 179ms/step - loss: 0.0752 - accuracy: 0.9800 - val_loss: 0.7481 - val_accuracy: 0.8312\n",
            "Epoch 14/20\n",
            "59/59 [==============================] - 11s 179ms/step - loss: 0.0408 - accuracy: 0.9864 - val_loss: 0.6813 - val_accuracy: 0.8568\n",
            "Epoch 15/20\n",
            "59/59 [==============================] - 11s 179ms/step - loss: 0.0901 - accuracy: 0.9757 - val_loss: 0.7342 - val_accuracy: 0.8384\n",
            "Epoch 16/20\n",
            "59/59 [==============================] - 11s 179ms/step - loss: 0.0523 - accuracy: 0.9843 - val_loss: 0.7115 - val_accuracy: 0.8560\n",
            "Epoch 17/20\n",
            "59/59 [==============================] - 11s 179ms/step - loss: 0.0303 - accuracy: 0.9931 - val_loss: 0.6960 - val_accuracy: 0.8536\n",
            "Epoch 18/20\n",
            "59/59 [==============================] - 11s 179ms/step - loss: 0.0274 - accuracy: 0.9928 - val_loss: 0.8841 - val_accuracy: 0.8144\n",
            "Epoch 19/20\n",
            "59/59 [==============================] - 11s 179ms/step - loss: 0.0619 - accuracy: 0.9829 - val_loss: 0.8737 - val_accuracy: 0.8216\n",
            "Epoch 20/20\n",
            "59/59 [==============================] - 11s 179ms/step - loss: 0.0849 - accuracy: 0.9765 - val_loss: 0.5512 - val_accuracy: 0.8448\n"
          ],
          "name": "stdout"
        }
      ]
    },
    {
      "cell_type": "code",
      "metadata": {
        "id": "JfEWe0QJ-xb2"
      },
      "source": [
        "base_model.trainable = True"
      ],
      "execution_count": null,
      "outputs": []
    },
    {
      "cell_type": "code",
      "metadata": {
        "id": "qC0xh8IT-yAI"
      },
      "source": [
        "#fine-tune model \n",
        "opt = keras.optimizers.Adam(learning_rate=0.000005)\n",
        "model.compile(loss='categorical_crossentropy', metrics=[\"accuracy\"], optimizer=opt)"
      ],
      "execution_count": null,
      "outputs": []
    },
    {
      "cell_type": "code",
      "metadata": {
        "colab": {
          "base_uri": "https://localhost:8080/"
        },
        "id": "t4GorGv0--Hb",
        "outputId": "68ca81c1-eee5-486a-bf6d-8c34e286689e"
      },
      "source": [
        "history2=model.fit(x_train, y_train, epochs=20, verbose=1, batch_size=64, validation_split=0.25)"
      ],
      "execution_count": null,
      "outputs": [
        {
          "output_type": "stream",
          "text": [
            "Epoch 1/20\n",
            "59/59 [==============================] - 12s 190ms/step - loss: 0.0203 - accuracy: 0.9957 - val_loss: 0.5778 - val_accuracy: 0.8696\n",
            "Epoch 2/20\n",
            "59/59 [==============================] - 11s 179ms/step - loss: 0.0064 - accuracy: 0.9992 - val_loss: 0.6203 - val_accuracy: 0.8720\n",
            "Epoch 3/20\n",
            "59/59 [==============================] - 11s 179ms/step - loss: 0.0035 - accuracy: 1.0000 - val_loss: 0.6436 - val_accuracy: 0.8752\n",
            "Epoch 4/20\n",
            "59/59 [==============================] - 11s 179ms/step - loss: 0.0025 - accuracy: 1.0000 - val_loss: 0.6916 - val_accuracy: 0.8712\n",
            "Epoch 5/20\n",
            "59/59 [==============================] - 11s 179ms/step - loss: 0.0028 - accuracy: 0.9992 - val_loss: 0.7237 - val_accuracy: 0.8680\n",
            "Epoch 6/20\n",
            "59/59 [==============================] - 11s 179ms/step - loss: 0.0020 - accuracy: 0.9997 - val_loss: 0.7535 - val_accuracy: 0.8704\n",
            "Epoch 7/20\n",
            "59/59 [==============================] - 11s 179ms/step - loss: 0.0029 - accuracy: 0.9997 - val_loss: 0.7849 - val_accuracy: 0.8720\n",
            "Epoch 8/20\n",
            "59/59 [==============================] - 11s 179ms/step - loss: 0.0012 - accuracy: 0.9997 - val_loss: 0.8129 - val_accuracy: 0.8720\n",
            "Epoch 9/20\n",
            "59/59 [==============================] - 11s 179ms/step - loss: 0.0013 - accuracy: 1.0000 - val_loss: 0.8549 - val_accuracy: 0.8712\n",
            "Epoch 10/20\n",
            "59/59 [==============================] - 11s 179ms/step - loss: 0.0026 - accuracy: 0.9995 - val_loss: 0.8424 - val_accuracy: 0.8744\n",
            "Epoch 11/20\n",
            "59/59 [==============================] - 11s 179ms/step - loss: 0.0020 - accuracy: 0.9995 - val_loss: 0.8657 - val_accuracy: 0.8720\n",
            "Epoch 12/20\n",
            "59/59 [==============================] - 11s 179ms/step - loss: 0.0017 - accuracy: 0.9989 - val_loss: 0.8748 - val_accuracy: 0.8672\n",
            "Epoch 13/20\n",
            "59/59 [==============================] - 11s 179ms/step - loss: 0.0058 - accuracy: 0.9989 - val_loss: 0.8137 - val_accuracy: 0.8712\n",
            "Epoch 14/20\n",
            "59/59 [==============================] - 11s 179ms/step - loss: 0.0022 - accuracy: 0.9995 - val_loss: 0.8272 - val_accuracy: 0.8720\n",
            "Epoch 15/20\n",
            "59/59 [==============================] - 11s 179ms/step - loss: 0.0011 - accuracy: 1.0000 - val_loss: 0.8443 - val_accuracy: 0.8712\n",
            "Epoch 16/20\n",
            "59/59 [==============================] - 11s 179ms/step - loss: 0.0019 - accuracy: 0.9995 - val_loss: 0.8995 - val_accuracy: 0.8672\n",
            "Epoch 17/20\n",
            "59/59 [==============================] - 11s 179ms/step - loss: 9.9122e-04 - accuracy: 0.9997 - val_loss: 0.9635 - val_accuracy: 0.8656\n",
            "Epoch 18/20\n",
            "59/59 [==============================] - 11s 179ms/step - loss: 0.0021 - accuracy: 0.9997 - val_loss: 0.9271 - val_accuracy: 0.8688\n",
            "Epoch 19/20\n",
            "59/59 [==============================] - 11s 179ms/step - loss: 0.0018 - accuracy: 0.9995 - val_loss: 0.9373 - val_accuracy: 0.8680\n",
            "Epoch 20/20\n",
            "59/59 [==============================] - 11s 179ms/step - loss: 6.7410e-04 - accuracy: 1.0000 - val_loss: 0.9337 - val_accuracy: 0.8704\n"
          ],
          "name": "stdout"
        }
      ]
    },
    {
      "cell_type": "code",
      "metadata": {
        "colab": {
          "base_uri": "https://localhost:8080/",
          "height": 590
        },
        "id": "LhSZHRo9DV6l",
        "outputId": "d47201e7-a11e-4ac6-a58d-8641ad56a140"
      },
      "source": [
        "print(history1.history.keys())\n",
        "# summarize history for accuracy\n",
        "plt.plot(history1.history['accuracy'])\n",
        "plt.plot(history1.history['val_accuracy'])\n",
        "plt.title('model accuracy')\n",
        "plt.ylabel('accuracy')\n",
        "plt.xlabel('epoch')\n",
        "plt.legend(['train', 'test'], loc='upper left')\n",
        "plt.show()\n",
        "# summarize history for loss\n",
        "plt.plot(history1.history['loss'])\n",
        "plt.plot(history1.history['val_loss'])\n",
        "plt.title('model loss')\n",
        "plt.ylabel('loss')\n",
        "plt.xlabel('epoch')\n",
        "plt.legend(['train', 'test'], loc='upper left')\n",
        "plt.show()\n"
      ],
      "execution_count": null,
      "outputs": [
        {
          "output_type": "stream",
          "text": [
            "dict_keys(['loss', 'accuracy', 'val_loss', 'val_accuracy'])\n"
          ],
          "name": "stdout"
        },
        {
          "output_type": "display_data",
          "data": {
            "image/png": "[encoded data removed]",
            "text/plain": [
              "<Figure size 432x288 with 1 Axes>"
            ]
          },
          "metadata": {
            "tags": [],
            "needs_background": "light"
          }
        },
        {
          "output_type": "display_data",
          "data": {
            "image/png": "[encoded data removed]",
            "text/plain": [
              "<Figure size 432x288 with 1 Axes>"
            ]
          },
          "metadata": {
            "tags": [],
            "needs_background": "light"
          }
        }
      ]
    },
    {
      "cell_type": "code",
      "metadata": {
        "colab": {
          "base_uri": "https://localhost:8080/",
          "height": 590
        },
        "id": "crbf7sTU_QoJ",
        "outputId": "a77c441a-c9f6-40d2-c032-5dabb6359e23"
      },
      "source": [
        "print(history2.history.keys())\n",
        "# summarize history for accuracy\n",
        "plt.plot(history2.history['accuracy'])\n",
        "plt.plot(history2.history['val_accuracy'])\n",
        "plt.title('model accuracy')\n",
        "plt.ylabel('accuracy')\n",
        "plt.xlabel('epoch')\n",
        "plt.legend(['train', 'test'], loc='upper left')\n",
        "plt.show()\n",
        "# summarize history for loss\n",
        "plt.plot(history2.history['loss'])\n",
        "plt.plot(history2.history['val_loss'])\n",
        "plt.title('model loss')\n",
        "plt.ylabel('loss')\n",
        "plt.xlabel('epoch')\n",
        "plt.legend(['train', 'test'], loc='upper left')\n",
        "plt.show()"
      ],
      "execution_count": null,
      "outputs": [
        {
          "output_type": "stream",
          "text": [
            "dict_keys(['loss', 'accuracy', 'val_loss', 'val_accuracy'])\n"
          ],
          "name": "stdout"
        },
        {
          "output_type": "display_data",
          "data": {
            "image/png": "[encoded data removed]",
            "text/plain": [
              "<Figure size 432x288 with 1 Axes>"
            ]
          },
          "metadata": {
            "tags": [],
            "needs_background": "light"
          }
        },
        {
          "output_type": "display_data",
          "data": {
            "image/png": "[encoded data removed]",
            "text/plain": [
              "<Figure size 432x288 with 1 Axes>"
            ]
          },
          "metadata": {
            "tags": [],
            "needs_background": "light"
          }
        }
      ]
    }
  ]
}