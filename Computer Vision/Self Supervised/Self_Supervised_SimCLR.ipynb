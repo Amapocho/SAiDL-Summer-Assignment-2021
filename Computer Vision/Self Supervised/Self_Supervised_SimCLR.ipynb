{
  "nbformat": 4,
  "nbformat_minor": 0,
  "metadata": {
    "kernelspec": {
      "language": "python",
      "display_name": "Python 3",
      "name": "python3"
    },
    "language_info": {
      "name": "python",
      "version": "3.7.10",
      "mimetype": "text/x-python",
      "codemirror_mode": {
        "name": "ipython",
        "version": 3
      },
      "pygments_lexer": "ipython3",
      "nbconvert_exporter": "python",
      "file_extension": ".py"
    },
    "colab": {
      "name": "Self_Supervised_SimCLR.ipynb",
      "provenance": [],
      "collapsed_sections": []
    }
  },
  "cells": [
    {
      "cell_type": "markdown",
      "metadata": {
        "id": "LiSZ08CtQVjH"
      },
      "source": [
        "#Self Supervised with SimCLR"
      ]
    },
    {
      "cell_type": "markdown",
      "metadata": {
        "id": "G57V4e5xQbeT"
      },
      "source": [
        "### Load SimCLR with weights"
      ]
    },
    {
      "cell_type": "code",
      "metadata": {
        "id": "8tZiRPfSphDh",
        "execution": {
          "iopub.status.busy": "2021-08-01T09:59:23.793820Z",
          "iopub.execute_input": "2021-08-01T09:59:23.794349Z",
          "iopub.status.idle": "2021-08-01T09:59:32.970058Z",
          "shell.execute_reply.started": "2021-08-01T09:59:23.794237Z",
          "shell.execute_reply": "2021-08-01T09:59:32.969177Z"
        },
        "trusted": true,
        "outputId": "312a9739-ce8a-493d-90c6-d16d3ec73395"
      },
      "source": [
        "pip install pytorch-lightning-bolts"
      ],
      "execution_count": null,
      "outputs": [
        {
          "output_type": "stream",
          "text": [
            "Collecting pytorch-lightning-bolts\n",
            "  Downloading pytorch_lightning_bolts-0.3.2-py3-none-any.whl (253 kB)\n",
            "\u001b[K     |████████████████████████████████| 253 kB 2.0 MB/s eta 0:00:01\n",
            "\u001b[?25hRequirement already satisfied: torchmetrics>=0.2.0 in /opt/conda/lib/python3.7/site-packages (from pytorch-lightning-bolts) (0.4.1)\n",
            "Requirement already satisfied: pytorch-lightning>=1.1.1 in /opt/conda/lib/python3.7/site-packages (from pytorch-lightning-bolts) (1.3.8)\n",
            "Requirement already satisfied: torch>=1.6 in /opt/conda/lib/python3.7/site-packages (from pytorch-lightning-bolts) (1.7.0)\n",
            "Requirement already satisfied: numpy>=1.17.2 in /opt/conda/lib/python3.7/site-packages (from pytorch-lightning>=1.1.1->pytorch-lightning-bolts) (1.19.5)\n",
            "Requirement already satisfied: pillow!=8.3.0 in /opt/conda/lib/python3.7/site-packages (from pytorch-lightning>=1.1.1->pytorch-lightning-bolts) (8.2.0)\n",
            "Requirement already satisfied: packaging>=17.0 in /opt/conda/lib/python3.7/site-packages (from pytorch-lightning>=1.1.1->pytorch-lightning-bolts) (20.9)\n",
            "Requirement already satisfied: tensorboard!=2.5.0,>=2.2.0 in /opt/conda/lib/python3.7/site-packages (from pytorch-lightning>=1.1.1->pytorch-lightning-bolts) (2.4.1)\n",
            "Requirement already satisfied: pyDeprecate==0.3.0 in /opt/conda/lib/python3.7/site-packages (from pytorch-lightning>=1.1.1->pytorch-lightning-bolts) (0.3.0)\n",
            "Requirement already satisfied: future>=0.17.1 in /opt/conda/lib/python3.7/site-packages (from pytorch-lightning>=1.1.1->pytorch-lightning-bolts) (0.18.2)\n",
            "Requirement already satisfied: PyYAML<=5.4.1,>=5.1 in /opt/conda/lib/python3.7/site-packages (from pytorch-lightning>=1.1.1->pytorch-lightning-bolts) (5.4.1)\n",
            "Requirement already satisfied: fsspec[http]!=2021.06.0,>=2021.05.0 in /opt/conda/lib/python3.7/site-packages (from pytorch-lightning>=1.1.1->pytorch-lightning-bolts) (2021.6.1)\n",
            "Requirement already satisfied: tqdm>=4.41.0 in /opt/conda/lib/python3.7/site-packages (from pytorch-lightning>=1.1.1->pytorch-lightning-bolts) (4.61.1)\n",
            "Requirement already satisfied: requests in /opt/conda/lib/python3.7/site-packages (from fsspec[http]!=2021.06.0,>=2021.05.0->pytorch-lightning>=1.1.1->pytorch-lightning-bolts) (2.25.1)\n",
            "Requirement already satisfied: aiohttp in /opt/conda/lib/python3.7/site-packages (from fsspec[http]!=2021.06.0,>=2021.05.0->pytorch-lightning>=1.1.1->pytorch-lightning-bolts) (3.7.4.post0)\n",
            "Requirement already satisfied: pyparsing>=2.0.2 in /opt/conda/lib/python3.7/site-packages (from packaging>=17.0->pytorch-lightning>=1.1.1->pytorch-lightning-bolts) (2.4.7)\n",
            "Requirement already satisfied: protobuf>=3.6.0 in /opt/conda/lib/python3.7/site-packages (from tensorboard!=2.5.0,>=2.2.0->pytorch-lightning>=1.1.1->pytorch-lightning-bolts) (3.17.3)\n",
            "Requirement already satisfied: google-auth<2,>=1.6.3 in /opt/conda/lib/python3.7/site-packages (from tensorboard!=2.5.0,>=2.2.0->pytorch-lightning>=1.1.1->pytorch-lightning-bolts) (1.30.2)\n",
            "Requirement already satisfied: markdown>=2.6.8 in /opt/conda/lib/python3.7/site-packages (from tensorboard!=2.5.0,>=2.2.0->pytorch-lightning>=1.1.1->pytorch-lightning-bolts) (3.3.4)\n",
            "Requirement already satisfied: werkzeug>=0.11.15 in /opt/conda/lib/python3.7/site-packages (from tensorboard!=2.5.0,>=2.2.0->pytorch-lightning>=1.1.1->pytorch-lightning-bolts) (2.0.1)\n",
            "Requirement already satisfied: six>=1.10.0 in /opt/conda/lib/python3.7/site-packages (from tensorboard!=2.5.0,>=2.2.0->pytorch-lightning>=1.1.1->pytorch-lightning-bolts) (1.15.0)\n",
            "Requirement already satisfied: wheel>=0.26 in /opt/conda/lib/python3.7/site-packages (from tensorboard!=2.5.0,>=2.2.0->pytorch-lightning>=1.1.1->pytorch-lightning-bolts) (0.36.2)\n",
            "Requirement already satisfied: google-auth-oauthlib<0.5,>=0.4.1 in /opt/conda/lib/python3.7/site-packages (from tensorboard!=2.5.0,>=2.2.0->pytorch-lightning>=1.1.1->pytorch-lightning-bolts) (0.4.4)\n",
            "Requirement already satisfied: tensorboard-plugin-wit>=1.6.0 in /opt/conda/lib/python3.7/site-packages (from tensorboard!=2.5.0,>=2.2.0->pytorch-lightning>=1.1.1->pytorch-lightning-bolts) (1.8.0)\n",
            "Requirement already satisfied: setuptools>=41.0.0 in /opt/conda/lib/python3.7/site-packages (from tensorboard!=2.5.0,>=2.2.0->pytorch-lightning>=1.1.1->pytorch-lightning-bolts) (49.6.0.post20210108)\n",
            "Requirement already satisfied: absl-py>=0.4 in /opt/conda/lib/python3.7/site-packages (from tensorboard!=2.5.0,>=2.2.0->pytorch-lightning>=1.1.1->pytorch-lightning-bolts) (0.12.0)\n",
            "Requirement already satisfied: grpcio>=1.24.3 in /opt/conda/lib/python3.7/site-packages (from tensorboard!=2.5.0,>=2.2.0->pytorch-lightning>=1.1.1->pytorch-lightning-bolts) (1.32.0)\n",
            "Requirement already satisfied: pyasn1-modules>=0.2.1 in /opt/conda/lib/python3.7/site-packages (from google-auth<2,>=1.6.3->tensorboard!=2.5.0,>=2.2.0->pytorch-lightning>=1.1.1->pytorch-lightning-bolts) (0.2.7)\n",
            "Requirement already satisfied: rsa<5,>=3.1.4 in /opt/conda/lib/python3.7/site-packages (from google-auth<2,>=1.6.3->tensorboard!=2.5.0,>=2.2.0->pytorch-lightning>=1.1.1->pytorch-lightning-bolts) (4.7.2)\n",
            "Requirement already satisfied: cachetools<5.0,>=2.0.0 in /opt/conda/lib/python3.7/site-packages (from google-auth<2,>=1.6.3->tensorboard!=2.5.0,>=2.2.0->pytorch-lightning>=1.1.1->pytorch-lightning-bolts) (4.2.2)\n",
            "Requirement already satisfied: requests-oauthlib>=0.7.0 in /opt/conda/lib/python3.7/site-packages (from google-auth-oauthlib<0.5,>=0.4.1->tensorboard!=2.5.0,>=2.2.0->pytorch-lightning>=1.1.1->pytorch-lightning-bolts) (1.3.0)\n",
            "Requirement already satisfied: importlib-metadata in /opt/conda/lib/python3.7/site-packages (from markdown>=2.6.8->tensorboard!=2.5.0,>=2.2.0->pytorch-lightning>=1.1.1->pytorch-lightning-bolts) (3.4.0)\n",
            "Requirement already satisfied: pyasn1<0.5.0,>=0.4.6 in /opt/conda/lib/python3.7/site-packages (from pyasn1-modules>=0.2.1->google-auth<2,>=1.6.3->tensorboard!=2.5.0,>=2.2.0->pytorch-lightning>=1.1.1->pytorch-lightning-bolts) (0.4.8)\n",
            "Requirement already satisfied: chardet<5,>=3.0.2 in /opt/conda/lib/python3.7/site-packages (from requests->fsspec[http]!=2021.06.0,>=2021.05.0->pytorch-lightning>=1.1.1->pytorch-lightning-bolts) (4.0.0)\n",
            "Requirement already satisfied: urllib3<1.27,>=1.21.1 in /opt/conda/lib/python3.7/site-packages (from requests->fsspec[http]!=2021.06.0,>=2021.05.0->pytorch-lightning>=1.1.1->pytorch-lightning-bolts) (1.26.5)\n",
            "Requirement already satisfied: idna<3,>=2.5 in /opt/conda/lib/python3.7/site-packages (from requests->fsspec[http]!=2021.06.0,>=2021.05.0->pytorch-lightning>=1.1.1->pytorch-lightning-bolts) (2.10)\n",
            "Requirement already satisfied: certifi>=2017.4.17 in /opt/conda/lib/python3.7/site-packages (from requests->fsspec[http]!=2021.06.0,>=2021.05.0->pytorch-lightning>=1.1.1->pytorch-lightning-bolts) (2021.5.30)\n",
            "Requirement already satisfied: oauthlib>=3.0.0 in /opt/conda/lib/python3.7/site-packages (from requests-oauthlib>=0.7.0->google-auth-oauthlib<0.5,>=0.4.1->tensorboard!=2.5.0,>=2.2.0->pytorch-lightning>=1.1.1->pytorch-lightning-bolts) (3.1.1)\n",
            "Requirement already satisfied: typing_extensions in /opt/conda/lib/python3.7/site-packages (from torch>=1.6->pytorch-lightning-bolts) (3.7.4.3)\n",
            "Requirement already satisfied: dataclasses in /opt/conda/lib/python3.7/site-packages (from torch>=1.6->pytorch-lightning-bolts) (0.6)\n",
            "Requirement already satisfied: multidict<7.0,>=4.5 in /opt/conda/lib/python3.7/site-packages (from aiohttp->fsspec[http]!=2021.06.0,>=2021.05.0->pytorch-lightning>=1.1.1->pytorch-lightning-bolts) (5.1.0)\n",
            "Requirement already satisfied: async-timeout<4.0,>=3.0 in /opt/conda/lib/python3.7/site-packages (from aiohttp->fsspec[http]!=2021.06.0,>=2021.05.0->pytorch-lightning>=1.1.1->pytorch-lightning-bolts) (3.0.1)\n",
            "Requirement already satisfied: attrs>=17.3.0 in /opt/conda/lib/python3.7/site-packages (from aiohttp->fsspec[http]!=2021.06.0,>=2021.05.0->pytorch-lightning>=1.1.1->pytorch-lightning-bolts) (21.2.0)\n",
            "Requirement already satisfied: yarl<2.0,>=1.0 in /opt/conda/lib/python3.7/site-packages (from aiohttp->fsspec[http]!=2021.06.0,>=2021.05.0->pytorch-lightning>=1.1.1->pytorch-lightning-bolts) (1.6.3)\n",
            "Requirement already satisfied: zipp>=0.5 in /opt/conda/lib/python3.7/site-packages (from importlib-metadata->markdown>=2.6.8->tensorboard!=2.5.0,>=2.2.0->pytorch-lightning>=1.1.1->pytorch-lightning-bolts) (3.4.1)\n",
            "Installing collected packages: pytorch-lightning-bolts\n",
            "Successfully installed pytorch-lightning-bolts-0.3.2\n",
            "\u001b[33mWARNING: Running pip as root will break packages and permissions. You should install packages reliably by using venv: https://pip.pypa.io/warnings/venv\u001b[0m\n",
            "Note: you may need to restart the kernel to use updated packages.\n"
          ],
          "name": "stdout"
        }
      ]
    },
    {
      "cell_type": "code",
      "metadata": {
        "_uuid": "8f2839f25d086af736a60e9eeb907d3b93b6e0e5",
        "_cell_guid": "b1076dfc-b9ad-4769-8c92-a6c4dae69d19",
        "id": "rA-dkPXNphDk",
        "execution": {
          "iopub.status.busy": "2021-08-01T09:59:32.972516Z",
          "iopub.execute_input": "2021-08-01T09:59:32.972814Z",
          "iopub.status.idle": "2021-08-01T09:59:58.490766Z",
          "shell.execute_reply.started": "2021-08-01T09:59:32.972770Z",
          "shell.execute_reply": "2021-08-01T09:59:58.489706Z"
        },
        "trusted": true,
        "colab": {
          "referenced_widgets": [
            "75b55af786b04cd6bb5bdf73294f9ea7"
          ]
        },
        "outputId": "2e6538bd-79e4-4145-8a39-03c48616709d"
      },
      "source": [
        "from pl_bolts.models.self_supervised import SimCLR\n",
        "\n",
        "# load resnet50 pretrained using SimCLR on imagenet\n",
        "weight_path = 'https://pl-bolts-weights.s3.us-east-2.amazonaws.com/simclr/bolts_simclr_imagenet/simclr_imagenet.ckpt'\n",
        "simclr = SimCLR.load_from_checkpoint(weight_path, strict=False)\n",
        "\n",
        "simclr_resnet50 = simclr.encoder\n",
        "simclr_resnet50.eval()"
      ],
      "execution_count": null,
      "outputs": [
        {
          "output_type": "stream",
          "text": [
            "Downloading: \"https://pl-bolts-weights.s3.us-east-2.amazonaws.com/simclr/bolts_simclr_imagenet/simclr_imagenet.ckpt\" to /root/.cache/torch/hub/checkpoints/simclr_imagenet.ckpt\n"
          ],
          "name": "stderr"
        },
        {
          "output_type": "display_data",
          "data": {
            "text/plain": [
              "  0%|          | 0.00/229M [00:00<?, ?B/s]"
            ],
            "application/vnd.jupyter.widget-view+json": {
              "version_major": 2,
              "version_minor": 0,
              "model_id": "75b55af786b04cd6bb5bdf73294f9ea7"
            }
          },
          "metadata": {
            "tags": []
          }
        },
        {
          "output_type": "execute_result",
          "data": {
            "text/plain": [
              "ResNet(\n",
              "  (conv1): Conv2d(3, 64, kernel_size=(7, 7), stride=(2, 2), padding=(3, 3), bias=False)\n",
              "  (bn1): BatchNorm2d(64, eps=1e-05, momentum=0.1, affine=True, track_running_stats=True)\n",
              "  (relu): ReLU(inplace=True)\n",
              "  (maxpool): MaxPool2d(kernel_size=3, stride=2, padding=1, dilation=1, ceil_mode=False)\n",
              "  (layer1): Sequential(\n",
              "    (0): Bottleneck(\n",
              "      (conv1): Conv2d(64, 64, kernel_size=(1, 1), stride=(1, 1), bias=False)\n",
              "      (bn1): BatchNorm2d(64, eps=1e-05, momentum=0.1, affine=True, track_running_stats=True)\n",
              "      (conv2): Conv2d(64, 64, kernel_size=(3, 3), stride=(1, 1), padding=(1, 1), bias=False)\n",
              "      (bn2): BatchNorm2d(64, eps=1e-05, momentum=0.1, affine=True, track_running_stats=True)\n",
              "      (conv3): Conv2d(64, 256, kernel_size=(1, 1), stride=(1, 1), bias=False)\n",
              "      (bn3): BatchNorm2d(256, eps=1e-05, momentum=0.1, affine=True, track_running_stats=True)\n",
              "      (relu): ReLU(inplace=True)\n",
              "      (downsample): Sequential(\n",
              "        (0): Conv2d(64, 256, kernel_size=(1, 1), stride=(1, 1), bias=False)\n",
              "        (1): BatchNorm2d(256, eps=1e-05, momentum=0.1, affine=True, track_running_stats=True)\n",
              "      )\n",
              "    )\n",
              "    (1): Bottleneck(\n",
              "      (conv1): Conv2d(256, 64, kernel_size=(1, 1), stride=(1, 1), bias=False)\n",
              "      (bn1): BatchNorm2d(64, eps=1e-05, momentum=0.1, affine=True, track_running_stats=True)\n",
              "      (conv2): Conv2d(64, 64, kernel_size=(3, 3), stride=(1, 1), padding=(1, 1), bias=False)\n",
              "      (bn2): BatchNorm2d(64, eps=1e-05, momentum=0.1, affine=True, track_running_stats=True)\n",
              "      (conv3): Conv2d(64, 256, kernel_size=(1, 1), stride=(1, 1), bias=False)\n",
              "      (bn3): BatchNorm2d(256, eps=1e-05, momentum=0.1, affine=True, track_running_stats=True)\n",
              "      (relu): ReLU(inplace=True)\n",
              "    )\n",
              "    (2): Bottleneck(\n",
              "      (conv1): Conv2d(256, 64, kernel_size=(1, 1), stride=(1, 1), bias=False)\n",
              "      (bn1): BatchNorm2d(64, eps=1e-05, momentum=0.1, affine=True, track_running_stats=True)\n",
              "      (conv2): Conv2d(64, 64, kernel_size=(3, 3), stride=(1, 1), padding=(1, 1), bias=False)\n",
              "      (bn2): BatchNorm2d(64, eps=1e-05, momentum=0.1, affine=True, track_running_stats=True)\n",
              "      (conv3): Conv2d(64, 256, kernel_size=(1, 1), stride=(1, 1), bias=False)\n",
              "      (bn3): BatchNorm2d(256, eps=1e-05, momentum=0.1, affine=True, track_running_stats=True)\n",
              "      (relu): ReLU(inplace=True)\n",
              "    )\n",
              "  )\n",
              "  (layer2): Sequential(\n",
              "    (0): Bottleneck(\n",
              "      (conv1): Conv2d(256, 128, kernel_size=(1, 1), stride=(1, 1), bias=False)\n",
              "      (bn1): BatchNorm2d(128, eps=1e-05, momentum=0.1, affine=True, track_running_stats=True)\n",
              "      (conv2): Conv2d(128, 128, kernel_size=(3, 3), stride=(2, 2), padding=(1, 1), bias=False)\n",
              "      (bn2): BatchNorm2d(128, eps=1e-05, momentum=0.1, affine=True, track_running_stats=True)\n",
              "      (conv3): Conv2d(128, 512, kernel_size=(1, 1), stride=(1, 1), bias=False)\n",
              "      (bn3): BatchNorm2d(512, eps=1e-05, momentum=0.1, affine=True, track_running_stats=True)\n",
              "      (relu): ReLU(inplace=True)\n",
              "      (downsample): Sequential(\n",
              "        (0): Conv2d(256, 512, kernel_size=(1, 1), stride=(2, 2), bias=False)\n",
              "        (1): BatchNorm2d(512, eps=1e-05, momentum=0.1, affine=True, track_running_stats=True)\n",
              "      )\n",
              "    )\n",
              "    (1): Bottleneck(\n",
              "      (conv1): Conv2d(512, 128, kernel_size=(1, 1), stride=(1, 1), bias=False)\n",
              "      (bn1): BatchNorm2d(128, eps=1e-05, momentum=0.1, affine=True, track_running_stats=True)\n",
              "      (conv2): Conv2d(128, 128, kernel_size=(3, 3), stride=(1, 1), padding=(1, 1), bias=False)\n",
              "      (bn2): BatchNorm2d(128, eps=1e-05, momentum=0.1, affine=True, track_running_stats=True)\n",
              "      (conv3): Conv2d(128, 512, kernel_size=(1, 1), stride=(1, 1), bias=False)\n",
              "      (bn3): BatchNorm2d(512, eps=1e-05, momentum=0.1, affine=True, track_running_stats=True)\n",
              "      (relu): ReLU(inplace=True)\n",
              "    )\n",
              "    (2): Bottleneck(\n",
              "      (conv1): Conv2d(512, 128, kernel_size=(1, 1), stride=(1, 1), bias=False)\n",
              "      (bn1): BatchNorm2d(128, eps=1e-05, momentum=0.1, affine=True, track_running_stats=True)\n",
              "      (conv2): Conv2d(128, 128, kernel_size=(3, 3), stride=(1, 1), padding=(1, 1), bias=False)\n",
              "      (bn2): BatchNorm2d(128, eps=1e-05, momentum=0.1, affine=True, track_running_stats=True)\n",
              "      (conv3): Conv2d(128, 512, kernel_size=(1, 1), stride=(1, 1), bias=False)\n",
              "      (bn3): BatchNorm2d(512, eps=1e-05, momentum=0.1, affine=True, track_running_stats=True)\n",
              "      (relu): ReLU(inplace=True)\n",
              "    )\n",
              "    (3): Bottleneck(\n",
              "      (conv1): Conv2d(512, 128, kernel_size=(1, 1), stride=(1, 1), bias=False)\n",
              "      (bn1): BatchNorm2d(128, eps=1e-05, momentum=0.1, affine=True, track_running_stats=True)\n",
              "      (conv2): Conv2d(128, 128, kernel_size=(3, 3), stride=(1, 1), padding=(1, 1), bias=False)\n",
              "      (bn2): BatchNorm2d(128, eps=1e-05, momentum=0.1, affine=True, track_running_stats=True)\n",
              "      (conv3): Conv2d(128, 512, kernel_size=(1, 1), stride=(1, 1), bias=False)\n",
              "      (bn3): BatchNorm2d(512, eps=1e-05, momentum=0.1, affine=True, track_running_stats=True)\n",
              "      (relu): ReLU(inplace=True)\n",
              "    )\n",
              "  )\n",
              "  (layer3): Sequential(\n",
              "    (0): Bottleneck(\n",
              "      (conv1): Conv2d(512, 256, kernel_size=(1, 1), stride=(1, 1), bias=False)\n",
              "      (bn1): BatchNorm2d(256, eps=1e-05, momentum=0.1, affine=True, track_running_stats=True)\n",
              "      (conv2): Conv2d(256, 256, kernel_size=(3, 3), stride=(2, 2), padding=(1, 1), bias=False)\n",
              "      (bn2): BatchNorm2d(256, eps=1e-05, momentum=0.1, affine=True, track_running_stats=True)\n",
              "      (conv3): Conv2d(256, 1024, kernel_size=(1, 1), stride=(1, 1), bias=False)\n",
              "      (bn3): BatchNorm2d(1024, eps=1e-05, momentum=0.1, affine=True, track_running_stats=True)\n",
              "      (relu): ReLU(inplace=True)\n",
              "      (downsample): Sequential(\n",
              "        (0): Conv2d(512, 1024, kernel_size=(1, 1), stride=(2, 2), bias=False)\n",
              "        (1): BatchNorm2d(1024, eps=1e-05, momentum=0.1, affine=True, track_running_stats=True)\n",
              "      )\n",
              "    )\n",
              "    (1): Bottleneck(\n",
              "      (conv1): Conv2d(1024, 256, kernel_size=(1, 1), stride=(1, 1), bias=False)\n",
              "      (bn1): BatchNorm2d(256, eps=1e-05, momentum=0.1, affine=True, track_running_stats=True)\n",
              "      (conv2): Conv2d(256, 256, kernel_size=(3, 3), stride=(1, 1), padding=(1, 1), bias=False)\n",
              "      (bn2): BatchNorm2d(256, eps=1e-05, momentum=0.1, affine=True, track_running_stats=True)\n",
              "      (conv3): Conv2d(256, 1024, kernel_size=(1, 1), stride=(1, 1), bias=False)\n",
              "      (bn3): BatchNorm2d(1024, eps=1e-05, momentum=0.1, affine=True, track_running_stats=True)\n",
              "      (relu): ReLU(inplace=True)\n",
              "    )\n",
              "    (2): Bottleneck(\n",
              "      (conv1): Conv2d(1024, 256, kernel_size=(1, 1), stride=(1, 1), bias=False)\n",
              "      (bn1): BatchNorm2d(256, eps=1e-05, momentum=0.1, affine=True, track_running_stats=True)\n",
              "      (conv2): Conv2d(256, 256, kernel_size=(3, 3), stride=(1, 1), padding=(1, 1), bias=False)\n",
              "      (bn2): BatchNorm2d(256, eps=1e-05, momentum=0.1, affine=True, track_running_stats=True)\n",
              "      (conv3): Conv2d(256, 1024, kernel_size=(1, 1), stride=(1, 1), bias=False)\n",
              "      (bn3): BatchNorm2d(1024, eps=1e-05, momentum=0.1, affine=True, track_running_stats=True)\n",
              "      (relu): ReLU(inplace=True)\n",
              "    )\n",
              "    (3): Bottleneck(\n",
              "      (conv1): Conv2d(1024, 256, kernel_size=(1, 1), stride=(1, 1), bias=False)\n",
              "      (bn1): BatchNorm2d(256, eps=1e-05, momentum=0.1, affine=True, track_running_stats=True)\n",
              "      (conv2): Conv2d(256, 256, kernel_size=(3, 3), stride=(1, 1), padding=(1, 1), bias=False)\n",
              "      (bn2): BatchNorm2d(256, eps=1e-05, momentum=0.1, affine=True, track_running_stats=True)\n",
              "      (conv3): Conv2d(256, 1024, kernel_size=(1, 1), stride=(1, 1), bias=False)\n",
              "      (bn3): BatchNorm2d(1024, eps=1e-05, momentum=0.1, affine=True, track_running_stats=True)\n",
              "      (relu): ReLU(inplace=True)\n",
              "    )\n",
              "    (4): Bottleneck(\n",
              "      (conv1): Conv2d(1024, 256, kernel_size=(1, 1), stride=(1, 1), bias=False)\n",
              "      (bn1): BatchNorm2d(256, eps=1e-05, momentum=0.1, affine=True, track_running_stats=True)\n",
              "      (conv2): Conv2d(256, 256, kernel_size=(3, 3), stride=(1, 1), padding=(1, 1), bias=False)\n",
              "      (bn2): BatchNorm2d(256, eps=1e-05, momentum=0.1, affine=True, track_running_stats=True)\n",
              "      (conv3): Conv2d(256, 1024, kernel_size=(1, 1), stride=(1, 1), bias=False)\n",
              "      (bn3): BatchNorm2d(1024, eps=1e-05, momentum=0.1, affine=True, track_running_stats=True)\n",
              "      (relu): ReLU(inplace=True)\n",
              "    )\n",
              "    (5): Bottleneck(\n",
              "      (conv1): Conv2d(1024, 256, kernel_size=(1, 1), stride=(1, 1), bias=False)\n",
              "      (bn1): BatchNorm2d(256, eps=1e-05, momentum=0.1, affine=True, track_running_stats=True)\n",
              "      (conv2): Conv2d(256, 256, kernel_size=(3, 3), stride=(1, 1), padding=(1, 1), bias=False)\n",
              "      (bn2): BatchNorm2d(256, eps=1e-05, momentum=0.1, affine=True, track_running_stats=True)\n",
              "      (conv3): Conv2d(256, 1024, kernel_size=(1, 1), stride=(1, 1), bias=False)\n",
              "      (bn3): BatchNorm2d(1024, eps=1e-05, momentum=0.1, affine=True, track_running_stats=True)\n",
              "      (relu): ReLU(inplace=True)\n",
              "    )\n",
              "  )\n",
              "  (layer4): Sequential(\n",
              "    (0): Bottleneck(\n",
              "      (conv1): Conv2d(1024, 512, kernel_size=(1, 1), stride=(1, 1), bias=False)\n",
              "      (bn1): BatchNorm2d(512, eps=1e-05, momentum=0.1, affine=True, track_running_stats=True)\n",
              "      (conv2): Conv2d(512, 512, kernel_size=(3, 3), stride=(2, 2), padding=(1, 1), bias=False)\n",
              "      (bn2): BatchNorm2d(512, eps=1e-05, momentum=0.1, affine=True, track_running_stats=True)\n",
              "      (conv3): Conv2d(512, 2048, kernel_size=(1, 1), stride=(1, 1), bias=False)\n",
              "      (bn3): BatchNorm2d(2048, eps=1e-05, momentum=0.1, affine=True, track_running_stats=True)\n",
              "      (relu): ReLU(inplace=True)\n",
              "      (downsample): Sequential(\n",
              "        (0): Conv2d(1024, 2048, kernel_size=(1, 1), stride=(2, 2), bias=False)\n",
              "        (1): BatchNorm2d(2048, eps=1e-05, momentum=0.1, affine=True, track_running_stats=True)\n",
              "      )\n",
              "    )\n",
              "    (1): Bottleneck(\n",
              "      (conv1): Conv2d(2048, 512, kernel_size=(1, 1), stride=(1, 1), bias=False)\n",
              "      (bn1): BatchNorm2d(512, eps=1e-05, momentum=0.1, affine=True, track_running_stats=True)\n",
              "      (conv2): Conv2d(512, 512, kernel_size=(3, 3), stride=(1, 1), padding=(1, 1), bias=False)\n",
              "      (bn2): BatchNorm2d(512, eps=1e-05, momentum=0.1, affine=True, track_running_stats=True)\n",
              "      (conv3): Conv2d(512, 2048, kernel_size=(1, 1), stride=(1, 1), bias=False)\n",
              "      (bn3): BatchNorm2d(2048, eps=1e-05, momentum=0.1, affine=True, track_running_stats=True)\n",
              "      (relu): ReLU(inplace=True)\n",
              "    )\n",
              "    (2): Bottleneck(\n",
              "      (conv1): Conv2d(2048, 512, kernel_size=(1, 1), stride=(1, 1), bias=False)\n",
              "      (bn1): BatchNorm2d(512, eps=1e-05, momentum=0.1, affine=True, track_running_stats=True)\n",
              "      (conv2): Conv2d(512, 512, kernel_size=(3, 3), stride=(1, 1), padding=(1, 1), bias=False)\n",
              "      (bn2): BatchNorm2d(512, eps=1e-05, momentum=0.1, affine=True, track_running_stats=True)\n",
              "      (conv3): Conv2d(512, 2048, kernel_size=(1, 1), stride=(1, 1), bias=False)\n",
              "      (bn3): BatchNorm2d(2048, eps=1e-05, momentum=0.1, affine=True, track_running_stats=True)\n",
              "      (relu): ReLU(inplace=True)\n",
              "    )\n",
              "  )\n",
              "  (avgpool): AdaptiveAvgPool2d(output_size=(1, 1))\n",
              "  (fc): Linear(in_features=2048, out_features=1000, bias=True)\n",
              ")"
            ]
          },
          "metadata": {
            "tags": []
          },
          "execution_count": 2
        }
      ]
    },
    {
      "cell_type": "markdown",
      "metadata": {
        "id": "i39OFgFJQhf9"
      },
      "source": [
        "###Import libraries and define constants"
      ]
    },
    {
      "cell_type": "code",
      "metadata": {
        "id": "fOn_v9mcphDk",
        "execution": {
          "iopub.status.busy": "2021-08-01T10:11:21.180657Z",
          "iopub.execute_input": "2021-08-01T10:11:21.181051Z",
          "iopub.status.idle": "2021-08-01T10:11:21.187061Z",
          "shell.execute_reply.started": "2021-08-01T10:11:21.181013Z",
          "shell.execute_reply": "2021-08-01T10:11:21.185830Z"
        },
        "trusted": true
      },
      "source": [
        "import torchvision.transforms as tt\n",
        "from torch.utils.data import DataLoader\n",
        "from torchvision import datasets\n",
        "import numpy as np\n",
        "import torch\n",
        "from torch import optim\n",
        "import torch.nn as nn\n",
        "import torch.nn.functional as F\n",
        "import matplotlib.pyplot as plt"
      ],
      "execution_count": null,
      "outputs": []
    },
    {
      "cell_type": "code",
      "metadata": {
        "id": "yR5VzH4hphDl",
        "execution": {
          "iopub.status.busy": "2021-08-01T09:59:58.501936Z",
          "iopub.execute_input": "2021-08-01T09:59:58.502421Z",
          "iopub.status.idle": "2021-08-01T09:59:58.516809Z",
          "shell.execute_reply.started": "2021-08-01T09:59:58.502387Z",
          "shell.execute_reply": "2021-08-01T09:59:58.515823Z"
        },
        "trusted": true
      },
      "source": [
        "INPUT_SIZE = 96\n",
        "BATCH_SIZE = 32"
      ],
      "execution_count": null,
      "outputs": []
    },
    {
      "cell_type": "markdown",
      "metadata": {
        "id": "EiZMKb6EQmLB"
      },
      "source": [
        "### Data augmentation"
      ]
    },
    {
      "cell_type": "code",
      "metadata": {
        "id": "Rhu_C47HphDl",
        "execution": {
          "iopub.status.busy": "2021-08-01T09:59:58.518027Z",
          "iopub.execute_input": "2021-08-01T09:59:58.518632Z",
          "iopub.status.idle": "2021-08-01T09:59:58.528619Z",
          "shell.execute_reply.started": "2021-08-01T09:59:58.518595Z",
          "shell.execute_reply": "2021-08-01T09:59:58.527825Z"
        },
        "trusted": true
      },
      "source": [
        "stats = ((0.485, 0.456, 0.406), (0.229, 0.224, 0.225))\n",
        "transforms = tt.Compose([tt.RandomCrop(INPUT_SIZE, padding=4, padding_mode='reflect'), \n",
        "                         tt.RandomHorizontalFlip(), \n",
        "                          tt.RandomRotation(10), \n",
        "                          tt.ColorJitter(brightness=0.2, contrast=0.2, saturation=0.1, hue=0.1),\n",
        "                         tt.ToTensor(), \n",
        "                         tt.Normalize(*stats,inplace=True)])\n",
        "test_transforms = tt.Compose([tt.ToTensor(), tt.Normalize(*stats)])"
      ],
      "execution_count": null,
      "outputs": []
    },
    {
      "cell_type": "markdown",
      "metadata": {
        "id": "u3MsCJr0QozT"
      },
      "source": [
        "### Downloading datasets and setting up data loaders"
      ]
    },
    {
      "cell_type": "code",
      "metadata": {
        "id": "3R1JIrXVphDl",
        "execution": {
          "iopub.status.busy": "2021-08-01T09:59:58.529962Z",
          "iopub.execute_input": "2021-08-01T09:59:58.530719Z",
          "iopub.status.idle": "2021-08-01T10:01:26.341649Z",
          "shell.execute_reply.started": "2021-08-01T09:59:58.530657Z",
          "shell.execute_reply": "2021-08-01T10:01:26.340713Z"
        },
        "trusted": true,
        "colab": {
          "referenced_widgets": [
            "598748165c0f4e838cb9aaee8c219905"
          ]
        },
        "outputId": "a05646a4-96d5-4656-ffab-8a2d14d2a917"
      },
      "source": [
        "ds_train = datasets.STL10(\n",
        "    root=\"data\",\n",
        "    split='train',\n",
        "    download=True,\n",
        "    transform=transforms\n",
        ")"
      ],
      "execution_count": null,
      "outputs": [
        {
          "output_type": "stream",
          "text": [
            "Downloading http://ai.stanford.edu/~acoates/stl10/stl10_binary.tar.gz to data/stl10_binary.tar.gz\n"
          ],
          "name": "stdout"
        },
        {
          "output_type": "display_data",
          "data": {
            "text/plain": [
              "0it [00:00, ?it/s]"
            ],
            "application/vnd.jupyter.widget-view+json": {
              "version_major": 2,
              "version_minor": 0,
              "model_id": "598748165c0f4e838cb9aaee8c219905"
            }
          },
          "metadata": {
            "tags": []
          }
        },
        {
          "output_type": "stream",
          "text": [
            "Extracting data/stl10_binary.tar.gz to data\n"
          ],
          "name": "stdout"
        }
      ]
    },
    {
      "cell_type": "code",
      "metadata": {
        "id": "XPkcUhsVphDm",
        "execution": {
          "iopub.status.busy": "2021-08-01T10:01:26.342797Z",
          "iopub.execute_input": "2021-08-01T10:01:26.343274Z",
          "iopub.status.idle": "2021-08-01T10:01:32.357791Z",
          "shell.execute_reply.started": "2021-08-01T10:01:26.343226Z",
          "shell.execute_reply": "2021-08-01T10:01:32.356925Z"
        },
        "trusted": true,
        "outputId": "d82ccde2-efb0-40f3-89b2-d3187a4f3999"
      },
      "source": [
        "ds_test = datasets.STL10(\n",
        "    root=\"data\",\n",
        "    split='test',\n",
        "    download=True,\n",
        "    transform=test_transforms\n",
        ")"
      ],
      "execution_count": null,
      "outputs": [
        {
          "output_type": "stream",
          "text": [
            "Files already downloaded and verified\n"
          ],
          "name": "stdout"
        }
      ]
    },
    {
      "cell_type": "code",
      "metadata": {
        "id": "HeOAB8qNphDm",
        "execution": {
          "iopub.status.busy": "2021-08-01T10:01:32.359204Z",
          "iopub.execute_input": "2021-08-01T10:01:32.359569Z",
          "iopub.status.idle": "2021-08-01T10:01:32.365947Z",
          "shell.execute_reply.started": "2021-08-01T10:01:32.359522Z",
          "shell.execute_reply": "2021-08-01T10:01:32.364295Z"
        },
        "trusted": true
      },
      "source": [
        "dl_train = DataLoader(ds_train, batch_size=BATCH_SIZE, shuffle=True, num_workers=2, pin_memory=True)\n",
        "dl_test = DataLoader(ds_test, batch_size=BATCH_SIZE, shuffle=True, num_workers=2, pin_memory=True)"
      ],
      "execution_count": null,
      "outputs": []
    },
    {
      "cell_type": "markdown",
      "metadata": {
        "id": "1ZYDx2RjQvT-"
      },
      "source": [
        "### Defining classifier"
      ]
    },
    {
      "cell_type": "code",
      "metadata": {
        "id": "fSHmU4BZphDm",
        "execution": {
          "iopub.status.busy": "2021-08-01T10:01:32.368596Z",
          "iopub.execute_input": "2021-08-01T10:01:32.368955Z",
          "iopub.status.idle": "2021-08-01T10:01:32.715819Z",
          "shell.execute_reply.started": "2021-08-01T10:01:32.368921Z",
          "shell.execute_reply": "2021-08-01T10:01:32.714863Z"
        },
        "trusted": true
      },
      "source": [
        "#Accuracy Function\n",
        "def accuracy(outputs, labels):\n",
        "    _, preds = torch.max(outputs, dim=1)\n",
        "    return torch.tensor(torch.sum(preds == labels).item() / len(preds))"
      ],
      "execution_count": null,
      "outputs": []
    },
    {
      "cell_type": "code",
      "metadata": {
        "id": "Xcdjzv4cphDm",
        "execution": {
          "iopub.status.busy": "2021-08-01T10:01:32.717672Z",
          "iopub.execute_input": "2021-08-01T10:01:32.718020Z",
          "iopub.status.idle": "2021-08-01T10:01:33.141536Z",
          "shell.execute_reply.started": "2021-08-01T10:01:32.717983Z",
          "shell.execute_reply": "2021-08-01T10:01:33.140481Z"
        },
        "trusted": true
      },
      "source": [
        "class Classifier (nn.Module):\n",
        "    def __init__(self, in_sz=2048, classes=10):\n",
        "        super().__init__()\n",
        "        \n",
        "        self.is_compiled = False\n",
        "        \n",
        "        # Dropout #1\n",
        "        self.dropout_1 = nn.Dropout(0.12)\n",
        "        \n",
        "        # Dense #1\n",
        "        self.dense_1 = nn.Linear(in_sz, 512)\n",
        "        \n",
        "        # Dropout #1\n",
        "        self.dropout_2 = nn.Dropout(0.27)\n",
        "        \n",
        "        # Dense #2\n",
        "        self.dense_2 = nn.Linear(512, 64) \n",
        "        \n",
        "        # Dropout #3\n",
        "        self.dropout_3 = nn.Dropout(0.2)\n",
        "\n",
        "        # Out\n",
        "        self.out = nn.Linear(64, classes)\n",
        "        \n",
        "        \n",
        "    def forward(self, input):\n",
        "        out = self.dropout_1(input)\n",
        "        out = self.dense_1(out)\n",
        "        out = self.dropout_2(out)\n",
        "        out = self.dense_2(out)\n",
        "        out = self.dropout_3(out)\n",
        "        out = self.out(out)\n",
        "        return out\n",
        "\n",
        "    def training_step(self, batch):\n",
        "        images, labels = batch\n",
        "        emb = simclr_resnet50(images)\n",
        "        out = self(emb[0])\n",
        "        loss = self.loss_func(out, labels)\n",
        "        return loss\n",
        "    \n",
        "    def validation_step(self, batch):\n",
        "        images, labels = batch\n",
        "        emb = simclr_resnet50(images)\n",
        "        out = self(emb[0])\n",
        "        loss = self.loss_func(out, labels)\n",
        "        acc = self.accuracy(out, labels)\n",
        "        return {'val_loss': loss.detach(), 'val_acc': acc}\n",
        "    \n",
        "    @torch.no_grad()\n",
        "    def evaluate(self, val_loader):\n",
        "        self.eval()\n",
        "        outputs = [self.validation_step(batch) for batch in val_loader]\n",
        "        batch_losses = [x['val_loss'] for x in outputs]\n",
        "        epoch_loss = torch.stack(batch_losses).mean()\n",
        "        batch_accs = [x['val_acc'] for x in outputs]\n",
        "        epoch_acc = torch.stack(batch_accs).mean()\n",
        "        return {'val_loss': epoch_loss.item(), 'val_acc': epoch_acc.item()}\n",
        "    \n",
        "    def compile(self, loss_func=F.cross_entropy, accuracy=accuracy, opt_func=torch.optim.Adam):\n",
        "        self.is_compiled = True\n",
        "        self.loss_func = loss_func\n",
        "        self.accuracy = accuracy\n",
        "        self.opt_func = opt_func\n",
        "\n",
        "    def fit(self, train_loader, test_loader, epochs, start_epoch=1, lr = 0.0004):\n",
        "        if(not self.is_compiled):\n",
        "            self.compile()\n",
        "        history = []\n",
        "        optimizer = self.opt_func(self.parameters(), lr)\n",
        "        for epoch in range(start_epoch, start_epoch+epochs):\n",
        "            # Training Phase \n",
        "            self.train()\n",
        "            train_losses = []\n",
        "            for batch in train_loader:\n",
        "                loss = self.training_step(batch)\n",
        "                train_losses.append(loss)\n",
        "                loss.backward()\n",
        "                optimizer.step()\n",
        "                optimizer.zero_grad(set_to_none = True)\n",
        "   \n",
        "\n",
        "            # Validation phase\n",
        "            result = self.evaluate(test_loader)\n",
        "            result['train_loss'] = torch.stack(train_losses).mean().item()\n",
        "\n",
        "            print(\"Epoch [{}/{}], train_loss: {:.4f}, val_loss: {:.4f}, val_acc: {:.4f}\"\n",
        "                                              .format(epoch, (start_epoch+epochs-1), result['train_loss'], result['val_loss'], result['val_acc']))\n",
        "\n",
        "            history.append(result)\n",
        "        return history\n",
        "    "
      ],
      "execution_count": null,
      "outputs": []
    },
    {
      "cell_type": "code",
      "metadata": {
        "id": "fP1z-vDfphDn",
        "execution": {
          "iopub.status.busy": "2021-08-01T10:16:51.546988Z",
          "iopub.execute_input": "2021-08-01T10:16:51.547340Z",
          "iopub.status.idle": "2021-08-01T10:16:51.564731Z",
          "shell.execute_reply.started": "2021-08-01T10:16:51.547309Z",
          "shell.execute_reply": "2021-08-01T10:16:51.563621Z"
        },
        "trusted": true,
        "outputId": "1ef17eb8-a382-4d3b-cc54-c994e451e59b"
      },
      "source": [
        "model = Classifier()\n",
        "model"
      ],
      "execution_count": null,
      "outputs": [
        {
          "output_type": "execute_result",
          "data": {
            "text/plain": [
              "Classifier(\n",
              "  (dropout_1): Dropout(p=0.12, inplace=False)\n",
              "  (dense_1): Linear(in_features=2048, out_features=512, bias=True)\n",
              "  (dropout_2): Dropout(p=0.27, inplace=False)\n",
              "  (dense_2): Linear(in_features=512, out_features=64, bias=True)\n",
              "  (dropout_3): Dropout(p=0.2, inplace=False)\n",
              "  (out): Linear(in_features=64, out_features=10, bias=True)\n",
              ")"
            ]
          },
          "metadata": {
            "tags": []
          },
          "execution_count": 35
        }
      ]
    },
    {
      "cell_type": "markdown",
      "metadata": {
        "id": "mKhRXWXNQykh"
      },
      "source": [
        "### Setting up GPU and shifting models and dataloaders"
      ]
    },
    {
      "cell_type": "code",
      "metadata": {
        "id": "20hZEgEPphDn",
        "execution": {
          "iopub.status.busy": "2021-08-01T10:16:51.673758Z",
          "iopub.execute_input": "2021-08-01T10:16:51.674047Z",
          "iopub.status.idle": "2021-08-01T10:16:51.681176Z",
          "shell.execute_reply.started": "2021-08-01T10:16:51.674014Z",
          "shell.execute_reply": "2021-08-01T10:16:51.680374Z"
        },
        "trusted": true
      },
      "source": [
        "def get_default_device():\n",
        "    \"\"\"Pick GPU if available, else CPU\"\"\"\n",
        "    if torch.cuda.is_available():\n",
        "        return torch.device('cuda')\n",
        "    else:\n",
        "        return torch.device('cpu')\n",
        "    \n",
        "def to_device(data, device):\n",
        "    \"\"\"Move tensor(s) to chosen device\"\"\"\n",
        "    if isinstance(data, (list,tuple)):\n",
        "        return [to_device(x, device) for x in data]\n",
        "    return data.to(device, non_blocking=True)\n",
        "\n",
        "class DeviceDataLoader():\n",
        "    \"\"\"Wrap a dataloader to move data to a device\"\"\"\n",
        "    def __init__(self, dl, device):\n",
        "        self.dl = dl\n",
        "        self.device = device\n",
        "        \n",
        "    def __iter__(self):\n",
        "        \"\"\"Yield a batch of data after moving it to device\"\"\"\n",
        "        for b in self.dl: \n",
        "            yield to_device(b, self.device)\n",
        "\n",
        "    def __len__(self):\n",
        "        \"\"\"Number of batches\"\"\"\n",
        "        return len(self.dl)"
      ],
      "execution_count": null,
      "outputs": []
    },
    {
      "cell_type": "code",
      "metadata": {
        "id": "r4ZCSeOUphDn",
        "execution": {
          "iopub.status.busy": "2021-08-01T10:16:51.818456Z",
          "iopub.execute_input": "2021-08-01T10:16:51.818759Z",
          "iopub.status.idle": "2021-08-01T10:16:51.827329Z",
          "shell.execute_reply.started": "2021-08-01T10:16:51.818729Z",
          "shell.execute_reply": "2021-08-01T10:16:51.826226Z"
        },
        "trusted": true,
        "outputId": "3870b2f4-5317-4ef8-abc7-3f131d4d0421"
      },
      "source": [
        "device = get_default_device()\n",
        "device"
      ],
      "execution_count": null,
      "outputs": [
        {
          "output_type": "execute_result",
          "data": {
            "text/plain": [
              "device(type='cuda')"
            ]
          },
          "metadata": {
            "tags": []
          },
          "execution_count": 37
        }
      ]
    },
    {
      "cell_type": "code",
      "metadata": {
        "id": "nhRUE7MMphDo",
        "execution": {
          "iopub.status.busy": "2021-08-01T10:16:51.978164Z",
          "iopub.execute_input": "2021-08-01T10:16:51.978428Z",
          "iopub.status.idle": "2021-08-01T10:16:51.995138Z",
          "shell.execute_reply.started": "2021-08-01T10:16:51.978402Z",
          "shell.execute_reply": "2021-08-01T10:16:51.994122Z"
        },
        "trusted": true
      },
      "source": [
        "simclr_resnet50 = to_device(simclr_resnet50, device)\n",
        "model = to_device(model, device)\n",
        "dl_train = DeviceDataLoader(dl_train, device)\n",
        "dl_test = DeviceDataLoader(dl_test, device)\n"
      ],
      "execution_count": null,
      "outputs": []
    },
    {
      "cell_type": "markdown",
      "metadata": {
        "id": "sxdNMbvkQ9DM"
      },
      "source": [
        "### Training classifier"
      ]
    },
    {
      "cell_type": "code",
      "metadata": {
        "id": "ne2obqMhrpXk",
        "execution": {
          "iopub.status.busy": "2021-08-01T10:16:52.127699Z",
          "iopub.execute_input": "2021-08-01T10:16:52.128020Z",
          "iopub.status.idle": "2021-08-01T10:16:52.134375Z",
          "shell.execute_reply.started": "2021-08-01T10:16:52.127989Z",
          "shell.execute_reply": "2021-08-01T10:16:52.133452Z"
        },
        "trusted": true
      },
      "source": [
        "model.compile()"
      ],
      "execution_count": null,
      "outputs": []
    },
    {
      "cell_type": "code",
      "metadata": {
        "id": "9fbS0EZRrst6",
        "execution": {
          "iopub.status.busy": "2021-08-01T10:16:52.594373Z",
          "iopub.execute_input": "2021-08-01T10:16:52.594705Z",
          "iopub.status.idle": "2021-08-01T10:20:06.473074Z",
          "shell.execute_reply.started": "2021-08-01T10:16:52.594675Z",
          "shell.execute_reply": "2021-08-01T10:20:06.471537Z"
        },
        "trusted": true,
        "outputId": "870ef847-d35b-4419-ec04-4023927e8b49"
      },
      "source": [
        "history = model.fit(dl_train, dl_test,8)"
      ],
      "execution_count": null,
      "outputs": [
        {
          "output_type": "stream",
          "text": [
            "Epoch [1/8], train_loss: 1.0547, val_loss: 0.4904, val_acc: 0.8304\n",
            "Epoch [2/8], train_loss: 0.5850, val_loss: 0.3812, val_acc: 0.8668\n",
            "Epoch [3/8], train_loss: 0.5031, val_loss: 0.3710, val_acc: 0.8724\n",
            "Epoch [4/8], train_loss: 0.4549, val_loss: 0.3345, val_acc: 0.8824\n",
            "Epoch [5/8], train_loss: 0.4256, val_loss: 0.3378, val_acc: 0.8863\n",
            "Epoch [6/8], train_loss: 0.3943, val_loss: 0.3358, val_acc: 0.8861\n",
            "Epoch [7/8], train_loss: 0.3781, val_loss: 0.3355, val_acc: 0.8874\n",
            "Epoch [8/8], train_loss: 0.3763, val_loss: 0.3577, val_acc: 0.8813\n"
          ],
          "name": "stdout"
        }
      ]
    },
    {
      "cell_type": "code",
      "metadata": {
        "execution": {
          "iopub.status.busy": "2021-08-01T10:20:06.480762Z",
          "iopub.execute_input": "2021-08-01T10:20:06.481065Z",
          "iopub.status.idle": "2021-08-01T10:20:06.490407Z",
          "shell.execute_reply.started": "2021-08-01T10:20:06.481032Z",
          "shell.execute_reply": "2021-08-01T10:20:06.489442Z"
        },
        "trusted": true,
        "id": "N_GLWNc2QTFO"
      },
      "source": [
        "def plot(history):\n",
        "    # Accuracy plot\n",
        "    accuracies = [x['val_acc'] for x in history]\n",
        "    plt.plot(accuracies, '-x')\n",
        "    plt.xlabel('epoch')\n",
        "    plt.ylabel('accuracy')\n",
        "    plt.title('Accuracy vs. No. of epochs');\n",
        "    plt.show()\n",
        "\n",
        "    # Loss plot\n",
        "    train_losses = [x.get('train_loss') for x in history]\n",
        "    val_losses = [x['val_loss'] for x in history]\n",
        "    plt.plot(train_losses, '-bx')\n",
        "    plt.plot(val_losses, '-rx')\n",
        "    plt.xlabel('epoch')\n",
        "    plt.ylabel('loss')\n",
        "    plt.legend(['Training', 'Validation'])\n",
        "    plt.title('Loss vs. No. of epochs');\n",
        "    plt.show()"
      ],
      "execution_count": null,
      "outputs": []
    },
    {
      "cell_type": "code",
      "metadata": {
        "execution": {
          "iopub.status.busy": "2021-08-01T10:20:06.492379Z",
          "iopub.execute_input": "2021-08-01T10:20:06.492788Z",
          "iopub.status.idle": "2021-08-01T10:20:06.855228Z",
          "shell.execute_reply.started": "2021-08-01T10:20:06.492749Z",
          "shell.execute_reply": "2021-08-01T10:20:06.854281Z"
        },
        "trusted": true,
        "id": "BsUcW5leQTFO",
        "outputId": "8c35aaa7-cded-4744-e095-ae456f6c2f45"
      },
      "source": [
        "plot(history)"
      ],
      "execution_count": null,
      "outputs": [
        {
          "output_type": "display_data",
          "data": {
            "text/plain": [
              "<Figure size 432x288 with 1 Axes>"
            ],
            "image/png": "[encoded data removed]"
          },
          "metadata": {
            "tags": [],
            "needs_background": "light"
          }
        },
        {
          "output_type": "display_data",
          "data": {
            "text/plain": [
              "<Figure size 432x288 with 1 Axes>"
            ],
            "image/png": "[encoded data removed]"
          },
          "metadata": {
            "tags": [],
            "needs_background": "light"
          }
        }
      ]
    }
  ]
}