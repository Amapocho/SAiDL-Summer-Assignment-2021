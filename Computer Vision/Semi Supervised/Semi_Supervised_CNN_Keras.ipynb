{
  "nbformat": 4,
  "nbformat_minor": 0,
  "metadata": {
    "accelerator": "GPU",
    "colab": {
      "name": "Keras SSL.ipynb",
      "provenance": [],
      "collapsed_sections": []
    },
    "kernelspec": {
      "display_name": "Python 3",
      "language": "python",
      "name": "python3"
    },
    "language_info": {
      "codemirror_mode": {
        "name": "ipython",
        "version": 3
      },
      "file_extension": ".py",
      "mimetype": "text/x-python",
      "name": "python",
      "nbconvert_exporter": "python",
      "pygments_lexer": "ipython3",
      "version": "3.7.10"
    }
  },
  "cells": [
    {
      "cell_type": "code",
      "metadata": {
        "id": "5PObtDFrN6ym"
      },
      "source": [
        "from tensorflow.keras.models import Sequential\n",
        "from tensorflow.keras.layers import (\n",
        " Dense,\n",
        " Conv2D,\n",
        " LeakyReLU,\n",
        " MaxPool2D,\n",
        " Flatten,\n",
        " Dropout,\n",
        " BatchNormalization,\n",
        " Lambda\n",
        ")\n",
        "from keras.optimizers import Adam,SGD\n",
        "from tensorflow.keras import regularizers\n",
        "from keras.utils.vis_utils import plot_model\n",
        "from keras.callbacks import EarlyStopping, ModelCheckpoint\n",
        "import tensorflow_datasets as tfds\n",
        "import tensorflow as tf\n",
        "from tensorflow.keras import layers"
      ],
      "execution_count": null,
      "outputs": []
    },
    {
      "cell_type": "code",
      "metadata": {
        "id": "zG4QUZBmWUZ4"
      },
      "source": [
        "import pandas as pd\n",
        "import numpy as np\n",
        "import matplotlib.pyplot as plt"
      ],
      "execution_count": null,
      "outputs": []
    },
    {
      "cell_type": "code",
      "metadata": {
        "id": "5PZS9tD0AJYi",
        "colab": {
          "base_uri": "https://localhost:8080/",
          "height": 204
        },
        "outputId": "24aa9087-2b26-4492-ab9d-18dd50cf6b25"
      },
      "source": [
        "ds_train, info_train = tfds.load('stl10', split='train', with_info=True, shuffle_files=True, as_supervised=True)\n",
        "df_train = tfds.as_dataframe(ds_train.take(5), info_train)\n",
        "df_train.head()"
      ],
      "execution_count": null,
      "outputs": [
        {
          "output_type": "execute_result",
          "data": {
            "text/html": [
              "<div>\n",
              "<style scoped>\n",
              "    .dataframe tbody tr th:only-of-type {\n",
              "        vertical-align: middle;\n",
              "    }\n",
              "\n",
              "    .dataframe tbody tr th {\n",
              "        vertical-align: top;\n",
              "    }\n",
              "\n",
              "    .dataframe thead th {\n",
              "        text-align: right;\n",
              "    }\n",
              "</style>\n",
              "<table border=\"1\" class=\"dataframe\">\n",
              "  <thead>\n",
              "    <tr style=\"text-align: right;\">\n",
              "      <th></th>\n",
              "      <th>image</th>\n",
              "      <th>label</th>\n",
              "    </tr>\n",
              "  </thead>\n",
              "  <tbody>\n",
              "    <tr>\n",
              "      <th>0</th>\n",
              "      <td>[[[136, 144, 153], [125, 127, 136], [125, 126,...</td>\n",
              "      <td>1</td>\n",
              "    </tr>\n",
              "    <tr>\n",
              "      <th>1</th>\n",
              "      <td>[[[70, 132, 186], [81, 139, 189], [143, 176, 2...</td>\n",
              "      <td>0</td>\n",
              "    </tr>\n",
              "    <tr>\n",
              "      <th>2</th>\n",
              "      <td>[[[0, 0, 0], [0, 0, 0], [0, 0, 0], [0, 0, 0], ...</td>\n",
              "      <td>8</td>\n",
              "    </tr>\n",
              "    <tr>\n",
              "      <th>3</th>\n",
              "      <td>[[[104, 90, 69], [101, 87, 66], [103, 88, 67],...</td>\n",
              "      <td>3</td>\n",
              "    </tr>\n",
              "    <tr>\n",
              "      <th>4</th>\n",
              "      <td>[[[169, 186, 206], [169, 185, 208], [169, 185,...</td>\n",
              "      <td>8</td>\n",
              "    </tr>\n",
              "  </tbody>\n",
              "</table>\n",
              "</div>"
            ],
            "text/plain": [
              "                                               image  label\n",
              "0  [[[136, 144, 153], [125, 127, 136], [125, 126,...      1\n",
              "1  [[[70, 132, 186], [81, 139, 189], [143, 176, 2...      0\n",
              "2  [[[0, 0, 0], [0, 0, 0], [0, 0, 0], [0, 0, 0], ...      8\n",
              "3  [[[104, 90, 69], [101, 87, 66], [103, 88, 67],...      3\n",
              "4  [[[169, 186, 206], [169, 185, 208], [169, 185,...      8"
            ]
          },
          "metadata": {
            "tags": []
          },
          "execution_count": 3
        }
      ]
    },
    {
      "cell_type": "code",
      "metadata": {
        "colab": {
          "base_uri": "https://localhost:8080/",
          "height": 204
        },
        "id": "-JN0Fq3iAJGu",
        "outputId": "00011ac1-68ab-43a0-cd66-24d65a13aa4c"
      },
      "source": [
        "ds_test, info_test = tfds.load('stl10', split='test', with_info=True, shuffle_files=True, as_supervised=True)\n",
        "df_test = tfds.as_dataframe(ds_test.take(5), info_test)\n",
        "df_test.head()"
      ],
      "execution_count": null,
      "outputs": [
        {
          "output_type": "execute_result",
          "data": {
            "text/html": [
              "<div>\n",
              "<style scoped>\n",
              "    .dataframe tbody tr th:only-of-type {\n",
              "        vertical-align: middle;\n",
              "    }\n",
              "\n",
              "    .dataframe tbody tr th {\n",
              "        vertical-align: top;\n",
              "    }\n",
              "\n",
              "    .dataframe thead th {\n",
              "        text-align: right;\n",
              "    }\n",
              "</style>\n",
              "<table border=\"1\" class=\"dataframe\">\n",
              "  <thead>\n",
              "    <tr style=\"text-align: right;\">\n",
              "      <th></th>\n",
              "      <th>image</th>\n",
              "      <th>label</th>\n",
              "    </tr>\n",
              "  </thead>\n",
              "  <tbody>\n",
              "    <tr>\n",
              "      <th>0</th>\n",
              "      <td>[[[140, 174, 166], [136, 170, 165], [133, 170,...</td>\n",
              "      <td>6</td>\n",
              "    </tr>\n",
              "    <tr>\n",
              "      <th>1</th>\n",
              "      <td>[[[0, 0, 0], [0, 0, 0], [0, 0, 0], [0, 0, 0], ...</td>\n",
              "      <td>0</td>\n",
              "    </tr>\n",
              "    <tr>\n",
              "      <th>2</th>\n",
              "      <td>[[[0, 0, 0], [0, 0, 0], [0, 0, 0], [0, 0, 0], ...</td>\n",
              "      <td>0</td>\n",
              "    </tr>\n",
              "    <tr>\n",
              "      <th>3</th>\n",
              "      <td>[[[171, 183, 180], [173, 184, 181], [174, 185,...</td>\n",
              "      <td>8</td>\n",
              "    </tr>\n",
              "    <tr>\n",
              "      <th>4</th>\n",
              "      <td>[[[86, 74, 61], [114, 106, 92], [129, 119, 96]...</td>\n",
              "      <td>7</td>\n",
              "    </tr>\n",
              "  </tbody>\n",
              "</table>\n",
              "</div>"
            ],
            "text/plain": [
              "                                               image  label\n",
              "0  [[[140, 174, 166], [136, 170, 165], [133, 170,...      6\n",
              "1  [[[0, 0, 0], [0, 0, 0], [0, 0, 0], [0, 0, 0], ...      0\n",
              "2  [[[0, 0, 0], [0, 0, 0], [0, 0, 0], [0, 0, 0], ...      0\n",
              "3  [[[171, 183, 180], [173, 184, 181], [174, 185,...      8\n",
              "4  [[[86, 74, 61], [114, 106, 92], [129, 119, 96]...      7"
            ]
          },
          "metadata": {
            "tags": []
          },
          "execution_count": 4
        }
      ]
    },
    {
      "cell_type": "code",
      "metadata": {
        "colab": {
          "base_uri": "https://localhost:8080/",
          "height": 204
        },
        "id": "vFY5bdWCAOvn",
        "outputId": "a01330cf-734b-4806-862e-f3800057acc4"
      },
      "source": [
        "ds_unlabelled, info_unlabelled = tfds.load('stl10', split='unlabelled', with_info=True, shuffle_files=True, as_supervised=True)\n",
        "df_unlabelled = tfds.as_dataframe(ds_unlabelled.take(5), info_unlabelled)\n",
        "df_unlabelled.head()"
      ],
      "execution_count": null,
      "outputs": [
        {
          "output_type": "execute_result",
          "data": {
            "text/html": [
              "<div>\n",
              "<style scoped>\n",
              "    .dataframe tbody tr th:only-of-type {\n",
              "        vertical-align: middle;\n",
              "    }\n",
              "\n",
              "    .dataframe tbody tr th {\n",
              "        vertical-align: top;\n",
              "    }\n",
              "\n",
              "    .dataframe thead th {\n",
              "        text-align: right;\n",
              "    }\n",
              "</style>\n",
              "<table border=\"1\" class=\"dataframe\">\n",
              "  <thead>\n",
              "    <tr style=\"text-align: right;\">\n",
              "      <th></th>\n",
              "      <th>image</th>\n",
              "      <th>label</th>\n",
              "    </tr>\n",
              "  </thead>\n",
              "  <tbody>\n",
              "    <tr>\n",
              "      <th>0</th>\n",
              "      <td>[[[0, 0, 0], [0, 0, 0], [0, 0, 0], [0, 0, 0], ...</td>\n",
              "      <td>-1</td>\n",
              "    </tr>\n",
              "    <tr>\n",
              "      <th>1</th>\n",
              "      <td>[[[125, 109, 94], [124, 108, 94], [124, 108, 9...</td>\n",
              "      <td>-1</td>\n",
              "    </tr>\n",
              "    <tr>\n",
              "      <th>2</th>\n",
              "      <td>[[[89, 140, 211], [89, 140, 211], [85, 141, 21...</td>\n",
              "      <td>-1</td>\n",
              "    </tr>\n",
              "    <tr>\n",
              "      <th>3</th>\n",
              "      <td>[[[117, 136, 160], [117, 137, 162], [117, 138,...</td>\n",
              "      <td>-1</td>\n",
              "    </tr>\n",
              "    <tr>\n",
              "      <th>4</th>\n",
              "      <td>[[[252, 240, 205], [252, 233, 191], [251, 218,...</td>\n",
              "      <td>-1</td>\n",
              "    </tr>\n",
              "  </tbody>\n",
              "</table>\n",
              "</div>"
            ],
            "text/plain": [
              "                                               image  label\n",
              "0  [[[0, 0, 0], [0, 0, 0], [0, 0, 0], [0, 0, 0], ...     -1\n",
              "1  [[[125, 109, 94], [124, 108, 94], [124, 108, 9...     -1\n",
              "2  [[[89, 140, 211], [89, 140, 211], [85, 141, 21...     -1\n",
              "3  [[[117, 136, 160], [117, 137, 162], [117, 138,...     -1\n",
              "4  [[[252, 240, 205], [252, 233, 191], [251, 218,...     -1"
            ]
          },
          "metadata": {
            "tags": []
          },
          "execution_count": 5
        }
      ]
    },
    {
      "cell_type": "code",
      "metadata": {
        "id": "VQynzEkUum49"
      },
      "source": [
        "x_train=[]\n",
        "y_train=[]"
      ],
      "execution_count": null,
      "outputs": []
    },
    {
      "cell_type": "code",
      "metadata": {
        "id": "RYGTfZzPkkcQ"
      },
      "source": [
        "for data in ds_train:\n",
        "  x,y = data\n",
        "  x=x.numpy()\n",
        "  y=y.numpy()\n",
        "  x_train.append(x)\n",
        "  y_train.append(y)"
      ],
      "execution_count": null,
      "outputs": []
    },
    {
      "cell_type": "code",
      "metadata": {
        "id": "vOyKAzB_iW0q"
      },
      "source": [
        "x_train = np.array(x_train)"
      ],
      "execution_count": null,
      "outputs": []
    },
    {
      "cell_type": "code",
      "metadata": {
        "id": "gyz-EOfiiol_"
      },
      "source": [
        "y_train = np.array(y_train)"
      ],
      "execution_count": null,
      "outputs": []
    },
    {
      "cell_type": "code",
      "metadata": {
        "colab": {
          "base_uri": "https://localhost:8080/"
        },
        "id": "a7EySFWEirNi",
        "outputId": "eb803dc6-7382-4277-e2f2-7239f135f8af"
      },
      "source": [
        "x_train.shape"
      ],
      "execution_count": null,
      "outputs": [
        {
          "output_type": "execute_result",
          "data": {
            "text/plain": [
              "(5000, 96, 96, 3)"
            ]
          },
          "metadata": {
            "tags": []
          },
          "execution_count": 10
        }
      ]
    },
    {
      "cell_type": "code",
      "metadata": {
        "id": "6upGMpnFtZmA"
      },
      "source": [
        "y_train = pd.get_dummies(y_train)\n",
        "#one hot encoding"
      ],
      "execution_count": null,
      "outputs": []
    },
    {
      "cell_type": "code",
      "metadata": {
        "colab": {
          "base_uri": "https://localhost:8080/"
        },
        "id": "SrK6NYo5tdMY",
        "outputId": "961c4e86-6b41-4d58-d393-d20bfe577f97"
      },
      "source": [
        "y_train.shape"
      ],
      "execution_count": null,
      "outputs": [
        {
          "output_type": "execute_result",
          "data": {
            "text/plain": [
              "(5000, 10)"
            ]
          },
          "metadata": {
            "tags": []
          },
          "execution_count": 12
        }
      ]
    },
    {
      "cell_type": "code",
      "metadata": {
        "id": "_sM3gtmqkttp"
      },
      "source": [
        "x_test=[]\n",
        "y_test=[]\n",
        "\n",
        "for data in ds_test:\n",
        "  x,y = data\n",
        "  x=x.numpy()\n",
        "  y=y.numpy()\n",
        "  x_test.append(x)\n",
        "  y_test.append(y)\n",
        "\n",
        "x_test = np.array(x_test)\n",
        "y_test = np.array(y_test)\n",
        "\n",
        "y_test = pd.get_dummies(y_test)\n",
        "#one hot encoding"
      ],
      "execution_count": null,
      "outputs": []
    },
    {
      "cell_type": "code",
      "metadata": {
        "colab": {
          "base_uri": "https://localhost:8080/"
        },
        "id": "4nhSYo66jSJd",
        "outputId": "4e7aadaf-cc70-4fd4-c062-368a0ff4606c"
      },
      "source": [
        "x_test.shape"
      ],
      "execution_count": null,
      "outputs": [
        {
          "output_type": "execute_result",
          "data": {
            "text/plain": [
              "(8000, 96, 96, 3)"
            ]
          },
          "metadata": {
            "tags": []
          },
          "execution_count": 14
        }
      ]
    },
    {
      "cell_type": "code",
      "metadata": {
        "colab": {
          "base_uri": "https://localhost:8080/"
        },
        "id": "h0siPVJPi0lF",
        "outputId": "1d95dc9f-84cd-441f-c75a-560bc9deb189"
      },
      "source": [
        "y_test.shape"
      ],
      "execution_count": null,
      "outputs": [
        {
          "output_type": "execute_result",
          "data": {
            "text/plain": [
              "(8000, 10)"
            ]
          },
          "metadata": {
            "tags": []
          },
          "execution_count": 15
        }
      ]
    },
    {
      "cell_type": "code",
      "metadata": {
        "id": "PtMdA5pUi0Rb"
      },
      "source": [
        "#only images\n",
        "x_unlab=[]\n",
        "\n",
        "for data in ds_unlabelled:\n",
        "  x,_ = data\n",
        "  x=x.numpy()\n",
        "  x_unlab.append(x)\n",
        "\n",
        "x_unlab = np.array(x_unlab)\n",
        "\n"
      ],
      "execution_count": null,
      "outputs": []
    },
    {
      "cell_type": "code",
      "metadata": {
        "colab": {
          "base_uri": "https://localhost:8080/"
        },
        "id": "jutCfFWcjn6x",
        "outputId": "9ba5c983-0630-4460-cefc-4c409fe9b032"
      },
      "source": [
        "x_unlab.shape"
      ],
      "execution_count": null,
      "outputs": [
        {
          "output_type": "execute_result",
          "data": {
            "text/plain": [
              "(100000, 96, 96, 3)"
            ]
          },
          "metadata": {
            "tags": []
          },
          "execution_count": 18
        }
      ]
    },
    {
      "cell_type": "code",
      "metadata": {
        "id": "WHWlGZ_rVFNo"
      },
      "source": [
        "ds_test = None\n",
        "ds_train = None\n",
        "ds_unlabelled = None\n",
        "#free up space"
      ],
      "execution_count": null,
      "outputs": []
    },
    {
      "cell_type": "code",
      "metadata": {
        "id": "q5kDK_3DefUN"
      },
      "source": [
        "from tensorflow.keras.preprocessing.image import ImageDataGenerator\n",
        "datagen = ImageDataGenerator(\n",
        "rotation_range=10, # randomly rotate images in the range (degrees, 0 to 10)\n",
        "zoom_range=0.1, # Randomly zoom image\n",
        "width_shift_range=0.1, # randomly shift images horizontally (fraction of total width)\n",
        "height_shift_range=0.1, # randomly shift images vertically (fraction of total heihht)\n",
        "horizontal_flip=True, # randomly flip images horizontally\n",
        "vertical_flip=False, # Don't randomly flip images vertically\n",
        ") "
      ],
      "execution_count": null,
      "outputs": []
    },
    {
      "cell_type": "code",
      "metadata": {
        "id": "JvPuablQet9K"
      },
      "source": [
        "img_iter = datagen.flow(x_train, y_train, batch_size=64)\n",
        "#pass images through generator"
      ],
      "execution_count": null,
      "outputs": []
    },
    {
      "cell_type": "code",
      "metadata": {
        "id": "hTSSb8F8PA6D"
      },
      "source": [
        "# Creating the model\n",
        "input_size = (96, 96, 3)\n",
        "\n",
        "# Input\n",
        "inputs = layers.Input(input_size, name='input')\n",
        "# Data Augmentation\n",
        "\n",
        "x = (Conv2D(200, (3, 3), strides=1, padding=\"same\"))(inputs)\n",
        "x = (BatchNormalization())(x)\n",
        "x = (MaxPool2D((2, 2), strides=2, padding=\"same\"))(x)\n",
        "x = (Conv2D(100, (3, 3), strides=1, padding=\"same\", activation=\"relu\",bias_regularizer=regularizers.l2(1e-4)))(x)\n",
        "x = (Dropout(0.2))(x)\n",
        "x = (BatchNormalization())(x)\n",
        "x = (MaxPool2D((2, 2), strides=2, padding=\"same\"))(x)\n",
        "x = (Conv2D(50, (3, 3), strides=1, padding=\"same\", activation=\"relu\",bias_regularizer=regularizers.l2(1e-4)))(x)\n",
        "x = (Dropout(0.3))(x)\n",
        "x = (BatchNormalization())(x)\n",
        "x = (MaxPool2D((2, 2), strides=2, padding=\"same\"))(x)\n",
        "x = (Flatten())(x)\n",
        "x = (Dense(64, activation = 'relu'))(x)\n",
        "x = (Dropout(0.3))(x)\n",
        "outputs = (Dense(units=10,activation = 'softmax'))(x)\n",
        "\n",
        "model = tf.keras.Model(inputs=inputs, outputs=outputs, name='stl10-Supervised')"
      ],
      "execution_count": null,
      "outputs": []
    },
    {
      "cell_type": "code",
      "metadata": {
        "id": "EgCBtupYQC3i"
      },
      "source": [
        "from keras.utils.vis_utils import plot_model"
      ],
      "execution_count": null,
      "outputs": []
    },
    {
      "cell_type": "code",
      "metadata": {
        "colab": {
          "base_uri": "https://localhost:8080/",
          "height": 1000
        },
        "id": "Rf8B9E79QCZZ",
        "outputId": "90ca70d9-96d7-4c5a-ef37-479e5e1ba4ae"
      },
      "source": [
        "plot_model(model, 'stl10-Supervised.png', show_shapes=True)"
      ],
      "execution_count": null,
      "outputs": [
        {
          "output_type": "execute_result",
          "data": {
            "image/png": "[encoded data removed]",
            "text/plain": [
              "<IPython.core.display.Image object>"
            ]
          },
          "metadata": {
            "tags": []
          },
          "execution_count": 25
        }
      ]
    },
    {
      "cell_type": "code",
      "metadata": {
        "id": "FlXOebymAXQh"
      },
      "source": [
        "opt = Adam(learning_rate=0.00004)\n",
        "earlyStopping = EarlyStopping(monitor='val_loss', patience=15, verbose=0, mode='min')\n",
        "model.compile(loss='categorical_crossentropy', metrics=[\"accuracy\"], optimizer=opt)\n",
        "mcp_save = ModelCheckpoint('mdl_wts.hdf5', save_best_only=True,monitor='val_loss', mode='min')"
      ],
      "execution_count": null,
      "outputs": []
    },
    {
      "cell_type": "code",
      "metadata": {
        "colab": {
          "base_uri": "https://localhost:8080/"
        },
        "id": "zI_rsjGAQV0u",
        "outputId": "64e38aa4-8127-4fc3-a42a-b7f036b0eb7d"
      },
      "source": [
        "model.summary()"
      ],
      "execution_count": null,
      "outputs": [
        {
          "output_type": "stream",
          "text": [
            "Model: \"stl10-Supervised\"\n",
            "_________________________________________________________________\n",
            "Layer (type)                 Output Shape              Param #   \n",
            "=================================================================\n",
            "input (InputLayer)           [(None, 96, 96, 3)]       0         \n",
            "_________________________________________________________________\n",
            "conv2d (Conv2D)              (None, 96, 96, 200)       5600      \n",
            "_________________________________________________________________\n",
            "batch_normalization (BatchNo (None, 96, 96, 200)       800       \n",
            "_________________________________________________________________\n",
            "max_pooling2d (MaxPooling2D) (None, 48, 48, 200)       0         \n",
            "_________________________________________________________________\n",
            "conv2d_1 (Conv2D)            (None, 48, 48, 100)       180100    \n",
            "_________________________________________________________________\n",
            "dropout (Dropout)            (None, 48, 48, 100)       0         \n",
            "_________________________________________________________________\n",
            "batch_normalization_1 (Batch (None, 48, 48, 100)       400       \n",
            "_________________________________________________________________\n",
            "max_pooling2d_1 (MaxPooling2 (None, 24, 24, 100)       0         \n",
            "_________________________________________________________________\n",
            "conv2d_2 (Conv2D)            (None, 24, 24, 50)        45050     \n",
            "_________________________________________________________________\n",
            "dropout_1 (Dropout)          (None, 24, 24, 50)        0         \n",
            "_________________________________________________________________\n",
            "batch_normalization_2 (Batch (None, 24, 24, 50)        200       \n",
            "_________________________________________________________________\n",
            "max_pooling2d_2 (MaxPooling2 (None, 12, 12, 50)        0         \n",
            "_________________________________________________________________\n",
            "flatten (Flatten)            (None, 7200)              0         \n",
            "_________________________________________________________________\n",
            "dense (Dense)                (None, 64)                460864    \n",
            "_________________________________________________________________\n",
            "dropout_2 (Dropout)          (None, 64)                0         \n",
            "_________________________________________________________________\n",
            "dense_1 (Dense)              (None, 10)                650       \n",
            "=================================================================\n",
            "Total params: 693,664\n",
            "Trainable params: 692,964\n",
            "Non-trainable params: 700\n",
            "_________________________________________________________________\n"
          ],
          "name": "stdout"
        }
      ]
    },
    {
      "cell_type": "code",
      "metadata": {
        "colab": {
          "base_uri": "https://localhost:8080/"
        },
        "id": "J9QRuQWeAaKl",
        "outputId": "d276fbc8-5a16-4518-a609-0952c76c19ea"
      },
      "source": [
        "history=model.fit(img_iter, epochs=120, verbose=1, validation_data=(x_test,y_test),batch_size=64, callbacks=[earlyStopping, mcp_save])"
      ],
      "execution_count": null,
      "outputs": [
        {
          "output_type": "stream",
          "text": [
            "Epoch 1/120\n",
            "79/79 [==============================] - 48s 203ms/step - loss: 2.6011 - accuracy: 0.1666 - val_loss: 2.1793 - val_accuracy: 0.2189\n",
            "Epoch 2/120\n",
            "79/79 [==============================] - 16s 201ms/step - loss: 2.0712 - accuracy: 0.2364 - val_loss: 1.9528 - val_accuracy: 0.3090\n",
            "Epoch 3/120\n",
            "79/79 [==============================] - 18s 226ms/step - loss: 1.9550 - accuracy: 0.2736 - val_loss: 1.8001 - val_accuracy: 0.3585\n",
            "Epoch 4/120\n",
            "79/79 [==============================] - 16s 198ms/step - loss: 1.9119 - accuracy: 0.3026 - val_loss: 1.7294 - val_accuracy: 0.3814\n",
            "Epoch 5/120\n",
            "79/79 [==============================] - 15s 193ms/step - loss: 1.8344 - accuracy: 0.3272 - val_loss: 1.6617 - val_accuracy: 0.4059\n",
            "Epoch 6/120\n",
            "79/79 [==============================] - 17s 219ms/step - loss: 1.7773 - accuracy: 0.3454 - val_loss: 1.6135 - val_accuracy: 0.4216\n",
            "Epoch 7/120\n",
            "79/79 [==============================] - 18s 226ms/step - loss: 1.7344 - accuracy: 0.3700 - val_loss: 1.5847 - val_accuracy: 0.4355\n",
            "Epoch 8/120\n",
            "79/79 [==============================] - 16s 200ms/step - loss: 1.7049 - accuracy: 0.3724 - val_loss: 1.5416 - val_accuracy: 0.4406\n",
            "Epoch 9/120\n",
            "79/79 [==============================] - 15s 192ms/step - loss: 1.6610 - accuracy: 0.3806 - val_loss: 1.5162 - val_accuracy: 0.4521\n",
            "Epoch 10/120\n",
            "79/79 [==============================] - 17s 218ms/step - loss: 1.6502 - accuracy: 0.4028 - val_loss: 1.5003 - val_accuracy: 0.4630\n",
            "Epoch 11/120\n",
            "79/79 [==============================] - 18s 226ms/step - loss: 1.6110 - accuracy: 0.4170 - val_loss: 1.4697 - val_accuracy: 0.4745\n",
            "Epoch 12/120\n",
            "79/79 [==============================] - 16s 198ms/step - loss: 1.5666 - accuracy: 0.4212 - val_loss: 1.4488 - val_accuracy: 0.4810\n",
            "Epoch 13/120\n",
            "79/79 [==============================] - 15s 194ms/step - loss: 1.5735 - accuracy: 0.4252 - val_loss: 1.4294 - val_accuracy: 0.4835\n",
            "Epoch 14/120\n",
            "79/79 [==============================] - 15s 193ms/step - loss: 1.5795 - accuracy: 0.4268 - val_loss: 1.4157 - val_accuracy: 0.4913\n",
            "Epoch 15/120\n",
            "79/79 [==============================] - 18s 227ms/step - loss: 1.5165 - accuracy: 0.4464 - val_loss: 1.3736 - val_accuracy: 0.5059\n",
            "Epoch 16/120\n",
            "79/79 [==============================] - 18s 227ms/step - loss: 1.5077 - accuracy: 0.4508 - val_loss: 1.3593 - val_accuracy: 0.5130\n",
            "Epoch 17/120\n",
            "79/79 [==============================] - 17s 220ms/step - loss: 1.4763 - accuracy: 0.4528 - val_loss: 1.3504 - val_accuracy: 0.5203\n",
            "Epoch 18/120\n",
            "79/79 [==============================] - 15s 192ms/step - loss: 1.4661 - accuracy: 0.4702 - val_loss: 1.3403 - val_accuracy: 0.5148\n",
            "Epoch 19/120\n",
            "79/79 [==============================] - 18s 228ms/step - loss: 1.4410 - accuracy: 0.4788 - val_loss: 1.3258 - val_accuracy: 0.5271\n",
            "Epoch 20/120\n",
            "79/79 [==============================] - 16s 199ms/step - loss: 1.4147 - accuracy: 0.4816 - val_loss: 1.3124 - val_accuracy: 0.5260\n",
            "Epoch 21/120\n",
            "79/79 [==============================] - 18s 227ms/step - loss: 1.4134 - accuracy: 0.4938 - val_loss: 1.2982 - val_accuracy: 0.5381\n",
            "Epoch 22/120\n",
            "79/79 [==============================] - 16s 198ms/step - loss: 1.3886 - accuracy: 0.4924 - val_loss: 1.2947 - val_accuracy: 0.5374\n",
            "Epoch 23/120\n",
            "79/79 [==============================] - 15s 193ms/step - loss: 1.3651 - accuracy: 0.5050 - val_loss: 1.2688 - val_accuracy: 0.5389\n",
            "Epoch 24/120\n",
            "79/79 [==============================] - 15s 195ms/step - loss: 1.3534 - accuracy: 0.5120 - val_loss: 1.2649 - val_accuracy: 0.5412\n",
            "Epoch 25/120\n",
            "79/79 [==============================] - 16s 200ms/step - loss: 1.3536 - accuracy: 0.5122 - val_loss: 1.2543 - val_accuracy: 0.5545\n",
            "Epoch 26/120\n",
            "79/79 [==============================] - 18s 227ms/step - loss: 1.3428 - accuracy: 0.5098 - val_loss: 1.2518 - val_accuracy: 0.5576\n",
            "Epoch 27/120\n",
            "79/79 [==============================] - 15s 195ms/step - loss: 1.3333 - accuracy: 0.5200 - val_loss: 1.2311 - val_accuracy: 0.5619\n",
            "Epoch 28/120\n",
            "79/79 [==============================] - 15s 192ms/step - loss: 1.3048 - accuracy: 0.5322 - val_loss: 1.2431 - val_accuracy: 0.5472\n",
            "Epoch 29/120\n",
            "79/79 [==============================] - 16s 201ms/step - loss: 1.2957 - accuracy: 0.5324 - val_loss: 1.2500 - val_accuracy: 0.5520\n",
            "Epoch 30/120\n",
            "79/79 [==============================] - 16s 202ms/step - loss: 1.2827 - accuracy: 0.5340 - val_loss: 1.1999 - val_accuracy: 0.5707\n",
            "Epoch 31/120\n",
            "79/79 [==============================] - 17s 221ms/step - loss: 1.2768 - accuracy: 0.5330 - val_loss: 1.1931 - val_accuracy: 0.5729\n",
            "Epoch 32/120\n",
            "79/79 [==============================] - 17s 220ms/step - loss: 1.2684 - accuracy: 0.5432 - val_loss: 1.2070 - val_accuracy: 0.5660\n",
            "Epoch 33/120\n",
            "79/79 [==============================] - 18s 226ms/step - loss: 1.2608 - accuracy: 0.5404 - val_loss: 1.1790 - val_accuracy: 0.5834\n",
            "Epoch 34/120\n",
            "79/79 [==============================] - 18s 226ms/step - loss: 1.2500 - accuracy: 0.5524 - val_loss: 1.2026 - val_accuracy: 0.5716\n",
            "Epoch 35/120\n",
            "79/79 [==============================] - 17s 219ms/step - loss: 1.2208 - accuracy: 0.5542 - val_loss: 1.2004 - val_accuracy: 0.5680\n",
            "Epoch 36/120\n",
            "79/79 [==============================] - 15s 193ms/step - loss: 1.2402 - accuracy: 0.5524 - val_loss: 1.1668 - val_accuracy: 0.5791\n",
            "Epoch 37/120\n",
            "79/79 [==============================] - 16s 202ms/step - loss: 1.2105 - accuracy: 0.5610 - val_loss: 1.2013 - val_accuracy: 0.5713\n",
            "Epoch 38/120\n",
            "79/79 [==============================] - 16s 198ms/step - loss: 1.2037 - accuracy: 0.5644 - val_loss: 1.1644 - val_accuracy: 0.5826\n",
            "Epoch 39/120\n",
            "79/79 [==============================] - 17s 220ms/step - loss: 1.2172 - accuracy: 0.5558 - val_loss: 1.1709 - val_accuracy: 0.5786\n",
            "Epoch 40/120\n",
            "79/79 [==============================] - 15s 192ms/step - loss: 1.1820 - accuracy: 0.5660 - val_loss: 1.1458 - val_accuracy: 0.5920\n",
            "Epoch 41/120\n",
            "79/79 [==============================] - 16s 202ms/step - loss: 1.1778 - accuracy: 0.5712 - val_loss: 1.1514 - val_accuracy: 0.5871\n",
            "Epoch 42/120\n",
            "79/79 [==============================] - 18s 224ms/step - loss: 1.1810 - accuracy: 0.5730 - val_loss: 1.1684 - val_accuracy: 0.5867\n",
            "Epoch 43/120\n",
            "79/79 [==============================] - 16s 203ms/step - loss: 1.1769 - accuracy: 0.5686 - val_loss: 1.1430 - val_accuracy: 0.5929\n",
            "Epoch 44/120\n",
            "79/79 [==============================] - 18s 225ms/step - loss: 1.1555 - accuracy: 0.5792 - val_loss: 1.1819 - val_accuracy: 0.5756\n",
            "Epoch 45/120\n",
            "79/79 [==============================] - 15s 194ms/step - loss: 1.1573 - accuracy: 0.5738 - val_loss: 1.1324 - val_accuracy: 0.5972\n",
            "Epoch 46/120\n",
            "79/79 [==============================] - 15s 192ms/step - loss: 1.1547 - accuracy: 0.5824 - val_loss: 1.1188 - val_accuracy: 0.6020\n",
            "Epoch 47/120\n",
            "79/79 [==============================] - 16s 202ms/step - loss: 1.1407 - accuracy: 0.5906 - val_loss: 1.1068 - val_accuracy: 0.6044\n",
            "Epoch 48/120\n",
            "79/79 [==============================] - 16s 199ms/step - loss: 1.1087 - accuracy: 0.6048 - val_loss: 1.1286 - val_accuracy: 0.5915\n",
            "Epoch 49/120\n",
            "79/79 [==============================] - 17s 221ms/step - loss: 1.1261 - accuracy: 0.5946 - val_loss: 1.1109 - val_accuracy: 0.6033\n",
            "Epoch 50/120\n",
            "79/79 [==============================] - 15s 193ms/step - loss: 1.1257 - accuracy: 0.5896 - val_loss: 1.1060 - val_accuracy: 0.6015\n",
            "Epoch 51/120\n",
            "79/79 [==============================] - 16s 202ms/step - loss: 1.1161 - accuracy: 0.5926 - val_loss: 1.1048 - val_accuracy: 0.6071\n",
            "Epoch 52/120\n",
            "79/79 [==============================] - 16s 200ms/step - loss: 1.1137 - accuracy: 0.5966 - val_loss: 1.0979 - val_accuracy: 0.6062\n",
            "Epoch 53/120\n",
            "79/79 [==============================] - 15s 195ms/step - loss: 1.0944 - accuracy: 0.6084 - val_loss: 1.0818 - val_accuracy: 0.6134\n",
            "Epoch 54/120\n",
            "79/79 [==============================] - 17s 219ms/step - loss: 1.0945 - accuracy: 0.5992 - val_loss: 1.1269 - val_accuracy: 0.6012\n",
            "Epoch 55/120\n",
            "79/79 [==============================] - 18s 228ms/step - loss: 1.0875 - accuracy: 0.6004 - val_loss: 1.1198 - val_accuracy: 0.6050\n",
            "Epoch 56/120\n",
            "79/79 [==============================] - 18s 227ms/step - loss: 1.0808 - accuracy: 0.6130 - val_loss: 1.0775 - val_accuracy: 0.6140\n",
            "Epoch 57/120\n",
            "79/79 [==============================] - 15s 193ms/step - loss: 1.0713 - accuracy: 0.6114 - val_loss: 1.0862 - val_accuracy: 0.6135\n",
            "Epoch 58/120\n",
            "79/79 [==============================] - 17s 220ms/step - loss: 1.0582 - accuracy: 0.6076 - val_loss: 1.1172 - val_accuracy: 0.6033\n",
            "Epoch 59/120\n",
            "79/79 [==============================] - 16s 203ms/step - loss: 1.0796 - accuracy: 0.6094 - val_loss: 1.1010 - val_accuracy: 0.6089\n",
            "Epoch 60/120\n",
            "79/79 [==============================] - 16s 199ms/step - loss: 1.0344 - accuracy: 0.6234 - val_loss: 1.1110 - val_accuracy: 0.6102\n",
            "Epoch 61/120\n",
            "79/79 [==============================] - 16s 202ms/step - loss: 1.0496 - accuracy: 0.6192 - val_loss: 1.1004 - val_accuracy: 0.6091\n",
            "Epoch 62/120\n",
            "79/79 [==============================] - 16s 203ms/step - loss: 1.0563 - accuracy: 0.6160 - val_loss: 1.0794 - val_accuracy: 0.6162\n",
            "Epoch 63/120\n",
            "79/79 [==============================] - 17s 219ms/step - loss: 1.0405 - accuracy: 0.6224 - val_loss: 1.0607 - val_accuracy: 0.6240\n",
            "Epoch 64/120\n",
            "79/79 [==============================] - 15s 193ms/step - loss: 1.0210 - accuracy: 0.6352 - val_loss: 1.0725 - val_accuracy: 0.6199\n",
            "Epoch 65/120\n",
            "79/79 [==============================] - 18s 228ms/step - loss: 1.0337 - accuracy: 0.6174 - val_loss: 1.0447 - val_accuracy: 0.6311\n",
            "Epoch 66/120\n",
            "79/79 [==============================] - 18s 225ms/step - loss: 1.0134 - accuracy: 0.6250 - val_loss: 1.0810 - val_accuracy: 0.6162\n",
            "Epoch 67/120\n",
            "79/79 [==============================] - 15s 195ms/step - loss: 0.9981 - accuracy: 0.6416 - val_loss: 1.0390 - val_accuracy: 0.6291\n",
            "Epoch 68/120\n",
            "79/79 [==============================] - 15s 194ms/step - loss: 0.9994 - accuracy: 0.6342 - val_loss: 1.1150 - val_accuracy: 0.6109\n",
            "Epoch 69/120\n",
            "79/79 [==============================] - 16s 203ms/step - loss: 1.0118 - accuracy: 0.6322 - val_loss: 1.0461 - val_accuracy: 0.6321\n",
            "Epoch 70/120\n",
            "79/79 [==============================] - 18s 227ms/step - loss: 0.9973 - accuracy: 0.6374 - val_loss: 1.0648 - val_accuracy: 0.6259\n",
            "Epoch 71/120\n",
            "79/79 [==============================] - 17s 220ms/step - loss: 0.9919 - accuracy: 0.6466 - val_loss: 1.0678 - val_accuracy: 0.6260\n",
            "Epoch 72/120\n",
            "79/79 [==============================] - 17s 218ms/step - loss: 0.9807 - accuracy: 0.6464 - val_loss: 1.0145 - val_accuracy: 0.6407\n",
            "Epoch 73/120\n",
            "79/79 [==============================] - 18s 229ms/step - loss: 0.9780 - accuracy: 0.6452 - val_loss: 1.0439 - val_accuracy: 0.6313\n",
            "Epoch 74/120\n",
            "79/79 [==============================] - 15s 196ms/step - loss: 0.9722 - accuracy: 0.6492 - val_loss: 1.0647 - val_accuracy: 0.6286\n",
            "Epoch 75/120\n",
            "79/79 [==============================] - 17s 219ms/step - loss: 0.9756 - accuracy: 0.6470 - val_loss: 1.0490 - val_accuracy: 0.6329\n",
            "Epoch 76/120\n",
            "79/79 [==============================] - 15s 194ms/step - loss: 0.9626 - accuracy: 0.6496 - val_loss: 1.0418 - val_accuracy: 0.6338\n",
            "Epoch 77/120\n",
            "79/79 [==============================] - 18s 229ms/step - loss: 0.9679 - accuracy: 0.6432 - val_loss: 1.0611 - val_accuracy: 0.6251\n",
            "Epoch 78/120\n",
            "79/79 [==============================] - 15s 194ms/step - loss: 0.9509 - accuracy: 0.6558 - val_loss: 1.0245 - val_accuracy: 0.6411\n",
            "Epoch 79/120\n",
            "79/79 [==============================] - 15s 193ms/step - loss: 0.9588 - accuracy: 0.6554 - val_loss: 0.9883 - val_accuracy: 0.6503\n",
            "Epoch 80/120\n",
            "79/79 [==============================] - 17s 219ms/step - loss: 0.9766 - accuracy: 0.6516 - val_loss: 1.0161 - val_accuracy: 0.6440\n",
            "Epoch 81/120\n",
            "79/79 [==============================] - 18s 229ms/step - loss: 0.9394 - accuracy: 0.6596 - val_loss: 1.0729 - val_accuracy: 0.6196\n",
            "Epoch 82/120\n",
            "79/79 [==============================] - 18s 224ms/step - loss: 0.9280 - accuracy: 0.6594 - val_loss: 1.0089 - val_accuracy: 0.6431\n",
            "Epoch 83/120\n",
            "79/79 [==============================] - 18s 229ms/step - loss: 0.9318 - accuracy: 0.6620 - val_loss: 1.0005 - val_accuracy: 0.6453\n",
            "Epoch 84/120\n",
            "79/79 [==============================] - 17s 219ms/step - loss: 0.9391 - accuracy: 0.6622 - val_loss: 1.0557 - val_accuracy: 0.6276\n",
            "Epoch 85/120\n",
            "79/79 [==============================] - 15s 194ms/step - loss: 0.9089 - accuracy: 0.6754 - val_loss: 0.9907 - val_accuracy: 0.6521\n",
            "Epoch 86/120\n",
            "79/79 [==============================] - 18s 223ms/step - loss: 0.8984 - accuracy: 0.6756 - val_loss: 1.0159 - val_accuracy: 0.6405\n",
            "Epoch 87/120\n",
            "79/79 [==============================] - 16s 203ms/step - loss: 0.9151 - accuracy: 0.6704 - val_loss: 0.9916 - val_accuracy: 0.6484\n",
            "Epoch 88/120\n",
            "79/79 [==============================] - 15s 193ms/step - loss: 0.8935 - accuracy: 0.6742 - val_loss: 0.9807 - val_accuracy: 0.6586\n",
            "Epoch 89/120\n",
            "79/79 [==============================] - 15s 192ms/step - loss: 0.9015 - accuracy: 0.6682 - val_loss: 1.0686 - val_accuracy: 0.6274\n",
            "Epoch 90/120\n",
            "79/79 [==============================] - 15s 196ms/step - loss: 0.9129 - accuracy: 0.6704 - val_loss: 0.9919 - val_accuracy: 0.6514\n",
            "Epoch 91/120\n",
            "79/79 [==============================] - 16s 203ms/step - loss: 0.9025 - accuracy: 0.6746 - val_loss: 1.0153 - val_accuracy: 0.6375\n",
            "Epoch 92/120\n",
            "79/79 [==============================] - 18s 222ms/step - loss: 0.8923 - accuracy: 0.6696 - val_loss: 1.0259 - val_accuracy: 0.6369\n",
            "Epoch 93/120\n",
            "79/79 [==============================] - 17s 219ms/step - loss: 0.9003 - accuracy: 0.6648 - val_loss: 1.0477 - val_accuracy: 0.6305\n",
            "Epoch 94/120\n",
            "79/79 [==============================] - 15s 196ms/step - loss: 0.8813 - accuracy: 0.6768 - val_loss: 1.0040 - val_accuracy: 0.6465\n",
            "Epoch 95/120\n",
            "79/79 [==============================] - 16s 203ms/step - loss: 0.8790 - accuracy: 0.6824 - val_loss: 1.0094 - val_accuracy: 0.6410\n",
            "Epoch 96/120\n",
            "79/79 [==============================] - 18s 223ms/step - loss: 0.8658 - accuracy: 0.6878 - val_loss: 1.0148 - val_accuracy: 0.6449\n",
            "Epoch 97/120\n",
            "79/79 [==============================] - 15s 194ms/step - loss: 0.8693 - accuracy: 0.6846 - val_loss: 0.9729 - val_accuracy: 0.6605\n",
            "Epoch 98/120\n",
            "79/79 [==============================] - 15s 195ms/step - loss: 0.8656 - accuracy: 0.6804 - val_loss: 1.0583 - val_accuracy: 0.6336\n",
            "Epoch 99/120\n",
            "79/79 [==============================] - 18s 229ms/step - loss: 0.8698 - accuracy: 0.6874 - val_loss: 0.9688 - val_accuracy: 0.6599\n",
            "Epoch 100/120\n",
            "79/79 [==============================] - 16s 199ms/step - loss: 0.8508 - accuracy: 0.6942 - val_loss: 0.9791 - val_accuracy: 0.6591\n",
            "Epoch 101/120\n",
            "79/79 [==============================] - 16s 203ms/step - loss: 0.8535 - accuracy: 0.6902 - val_loss: 1.0161 - val_accuracy: 0.6467\n",
            "Epoch 102/120\n",
            "79/79 [==============================] - 15s 196ms/step - loss: 0.8696 - accuracy: 0.6882 - val_loss: 1.0516 - val_accuracy: 0.6319\n",
            "Epoch 103/120\n",
            "79/79 [==============================] - 17s 221ms/step - loss: 0.8428 - accuracy: 0.6940 - val_loss: 0.9702 - val_accuracy: 0.6565\n",
            "Epoch 104/120\n",
            "79/79 [==============================] - 15s 194ms/step - loss: 0.8414 - accuracy: 0.6874 - val_loss: 0.9794 - val_accuracy: 0.6550\n",
            "Epoch 105/120\n",
            "79/79 [==============================] - 18s 228ms/step - loss: 0.8338 - accuracy: 0.6996 - val_loss: 0.9742 - val_accuracy: 0.6586\n",
            "Epoch 106/120\n",
            "79/79 [==============================] - 15s 196ms/step - loss: 0.8301 - accuracy: 0.6944 - val_loss: 1.0047 - val_accuracy: 0.6479\n",
            "Epoch 107/120\n",
            "79/79 [==============================] - 15s 195ms/step - loss: 0.8286 - accuracy: 0.6958 - val_loss: 0.9594 - val_accuracy: 0.6634\n",
            "Epoch 108/120\n",
            "79/79 [==============================] - 15s 195ms/step - loss: 0.8441 - accuracy: 0.6910 - val_loss: 0.9910 - val_accuracy: 0.6544\n",
            "Epoch 109/120\n",
            "79/79 [==============================] - 18s 229ms/step - loss: 0.8228 - accuracy: 0.6968 - val_loss: 0.9894 - val_accuracy: 0.6515\n",
            "Epoch 110/120\n",
            "79/79 [==============================] - 16s 197ms/step - loss: 0.8221 - accuracy: 0.7056 - val_loss: 1.1113 - val_accuracy: 0.6135\n",
            "Epoch 111/120\n",
            "79/79 [==============================] - 17s 221ms/step - loss: 0.8289 - accuracy: 0.6968 - val_loss: 1.0000 - val_accuracy: 0.6536\n",
            "Epoch 112/120\n",
            "79/79 [==============================] - 15s 194ms/step - loss: 0.8041 - accuracy: 0.7128 - val_loss: 1.0811 - val_accuracy: 0.6208\n",
            "Epoch 113/120\n",
            "79/79 [==============================] - 16s 203ms/step - loss: 0.8297 - accuracy: 0.7002 - val_loss: 0.9861 - val_accuracy: 0.6547\n",
            "Epoch 114/120\n",
            "79/79 [==============================] - 18s 226ms/step - loss: 0.8166 - accuracy: 0.7034 - val_loss: 0.9337 - val_accuracy: 0.6683\n",
            "Epoch 115/120\n",
            "79/79 [==============================] - 15s 194ms/step - loss: 0.7970 - accuracy: 0.7082 - val_loss: 0.9981 - val_accuracy: 0.6530\n",
            "Epoch 116/120\n",
            "79/79 [==============================] - 17s 220ms/step - loss: 0.8000 - accuracy: 0.7026 - val_loss: 1.0099 - val_accuracy: 0.6494\n",
            "Epoch 117/120\n",
            "79/79 [==============================] - 18s 230ms/step - loss: 0.7837 - accuracy: 0.7222 - val_loss: 1.0026 - val_accuracy: 0.6572\n",
            "Epoch 118/120\n",
            "79/79 [==============================] - 18s 225ms/step - loss: 0.8161 - accuracy: 0.7050 - val_loss: 0.9757 - val_accuracy: 0.6593\n",
            "Epoch 119/120\n",
            "79/79 [==============================] - 18s 229ms/step - loss: 0.8033 - accuracy: 0.7130 - val_loss: 1.0697 - val_accuracy: 0.6370\n",
            "Epoch 120/120\n",
            "79/79 [==============================] - 15s 195ms/step - loss: 0.8006 - accuracy: 0.7082 - val_loss: 0.9479 - val_accuracy: 0.6649\n"
          ],
          "name": "stdout"
        }
      ]
    },
    {
      "cell_type": "code",
      "metadata": {
        "colab": {
          "base_uri": "https://localhost:8080/",
          "height": 591
        },
        "id": "xpJZFUiteXKv",
        "outputId": "91566a5c-638e-49ca-8a6e-c168efc008cb"
      },
      "source": [
        "print(history.history.keys())\n",
        "# summarize history for accuracy\n",
        "plt.plot(history.history['accuracy'])\n",
        "plt.plot(history.history['val_accuracy'])\n",
        "plt.title('model accuracy')\n",
        "plt.ylabel('accuracy')\n",
        "plt.xlabel('epoch')\n",
        "plt.legend(['train', 'test'], loc='upper left')\n",
        "plt.show()\n",
        "# summarize history for loss\n",
        "plt.plot(history.history['loss'])\n",
        "plt.plot(history.history['val_loss'])\n",
        "plt.title('model loss')\n",
        "plt.ylabel('loss')\n",
        "plt.xlabel('epoch')\n",
        "plt.legend(['train', 'test'], loc='upper left')\n",
        "plt.show()"
      ],
      "execution_count": null,
      "outputs": [
        {
          "output_type": "stream",
          "text": [
            "dict_keys(['loss', 'accuracy', 'val_loss', 'val_accuracy'])\n"
          ],
          "name": "stdout"
        },
        {
          "output_type": "display_data",
          "data": {
            "image/png": "[encoded data removed]",
            "text/plain": [
              "<Figure size 432x288 with 1 Axes>"
            ]
          },
          "metadata": {
            "tags": [],
            "needs_background": "light"
          }
        },
        {
          "output_type": "display_data",
          "data": {
            "image/png": "[encoded data removed]",
            "text/plain": [
              "<Figure size 432x288 with 1 Axes>"
            ]
          },
          "metadata": {
            "tags": [],
            "needs_background": "light"
          }
        }
      ]
    },
    {
      "cell_type": "code",
      "metadata": {
        "id": "WKLInpip_aSF"
      },
      "source": [
        "model.load_weights(filepath = 'mdl_wts.hdf5')"
      ],
      "execution_count": null,
      "outputs": []
    },
    {
      "cell_type": "code",
      "metadata": {
        "id": "Gxjk9nZmeXKv"
      },
      "source": [
        "prob = model.predict(x_unlab)\n",
        "pred = np.argmax(prob, axis=1)"
      ],
      "execution_count": null,
      "outputs": []
    },
    {
      "cell_type": "code",
      "metadata": {
        "colab": {
          "base_uri": "https://localhost:8080/"
        },
        "id": "n2XwyxcTeXKw",
        "scrolled": true,
        "outputId": "1ef612c4-7bc5-48bb-fc4a-73448841f3dd"
      },
      "source": [
        "print(pred.shape)"
      ],
      "execution_count": null,
      "outputs": [
        {
          "output_type": "stream",
          "text": [
            "(100000,)\n"
          ],
          "name": "stdout"
        }
      ]
    },
    {
      "cell_type": "code",
      "metadata": {
        "id": "Roe9TZ_-vm3W"
      },
      "source": [
        "for i, val in enumerate(prob):\n",
        "    if (max(val)) < 0.93:\n",
        "        pred[i]=-1\n",
        "      "
      ],
      "execution_count": null,
      "outputs": []
    },
    {
      "cell_type": "code",
      "metadata": {
        "id": "XYTrjGNceXKw"
      },
      "source": [
        "idx_pred_0 = (np.where(pred==0))\n",
        "idx_pred_1 = (np.where(pred==1))\n",
        "idx_pred_2 = (np.where(pred==2))\n",
        "idx_pred_3 = (np.where(pred==3))\n",
        "idx_pred_4 = (np.where(pred==4))\n",
        "idx_pred_5 = (np.where(pred==5))\n",
        "idx_pred_6 = (np.where(pred==6))\n",
        "idx_pred_7 = (np.where(pred==7))\n",
        "idx_pred_8 = (np.where(pred==8))\n",
        "idx_pred_9 = (np.where(pred==9))"
      ],
      "execution_count": null,
      "outputs": []
    },
    {
      "cell_type": "code",
      "metadata": {
        "id": "DZigDkXiov1G"
      },
      "source": [
        "new_y_train = y_train.idxmax(axis=1)"
      ],
      "execution_count": null,
      "outputs": []
    },
    {
      "cell_type": "code",
      "metadata": {
        "colab": {
          "base_uri": "https://localhost:8080/"
        },
        "id": "eBsF_fkYo05y",
        "outputId": "2e1d06bb-5bef-4bc8-8703-f25f6dda10cb"
      },
      "source": [
        "new_y_train.shape"
      ],
      "execution_count": null,
      "outputs": [
        {
          "output_type": "execute_result",
          "data": {
            "text/plain": [
              "(5000,)"
            ]
          },
          "metadata": {
            "tags": []
          },
          "execution_count": 37
        }
      ]
    },
    {
      "cell_type": "code",
      "metadata": {
        "id": "Zq3VZexHeXKw"
      },
      "source": [
        "y_train_pred = new_y_train"
      ],
      "execution_count": null,
      "outputs": []
    },
    {
      "cell_type": "code",
      "metadata": {
        "colab": {
          "base_uri": "https://localhost:8080/"
        },
        "id": "z3Ia3ZFbeXKw",
        "outputId": "02b6ffa2-5572-48ed-ee0d-ed3b710aa691"
      },
      "source": [
        "y_train_pred"
      ],
      "execution_count": null,
      "outputs": [
        {
          "output_type": "execute_result",
          "data": {
            "text/plain": [
              "0       1\n",
              "1       0\n",
              "2       8\n",
              "3       3\n",
              "4       9\n",
              "       ..\n",
              "4995    9\n",
              "4996    8\n",
              "4997    7\n",
              "4998    7\n",
              "4999    7\n",
              "Length: 5000, dtype: int64"
            ]
          },
          "metadata": {
            "tags": []
          },
          "execution_count": 39
        }
      ]
    },
    {
      "cell_type": "code",
      "metadata": {
        "colab": {
          "base_uri": "https://localhost:8080/"
        },
        "id": "5y0DBTCWeXKw",
        "outputId": "f136ba4c-d51b-482f-89cf-ebb125315af7"
      },
      "source": [
        "min(y_train_pred)"
      ],
      "execution_count": null,
      "outputs": [
        {
          "output_type": "execute_result",
          "data": {
            "text/plain": [
              "0"
            ]
          },
          "metadata": {
            "tags": []
          },
          "execution_count": 40
        }
      ]
    },
    {
      "cell_type": "code",
      "metadata": {
        "colab": {
          "base_uri": "https://localhost:8080/"
        },
        "id": "xe4TX0DO0sbe",
        "outputId": "5ab87e14-ba0a-4554-e2f2-ebf0c135ab87"
      },
      "source": [
        "max(y_train_pred)"
      ],
      "execution_count": null,
      "outputs": [
        {
          "output_type": "execute_result",
          "data": {
            "text/plain": [
              "9"
            ]
          },
          "metadata": {
            "tags": []
          },
          "execution_count": 41
        }
      ]
    },
    {
      "cell_type": "code",
      "metadata": {
        "colab": {
          "base_uri": "https://localhost:8080/"
        },
        "id": "4ifi0EJReXKw",
        "outputId": "e8be9bf6-837b-4c13-f4bf-79ee7e53bfd5"
      },
      "source": [
        "y_train_pred.shape"
      ],
      "execution_count": null,
      "outputs": [
        {
          "output_type": "execute_result",
          "data": {
            "text/plain": [
              "(5000,)"
            ]
          },
          "metadata": {
            "tags": []
          },
          "execution_count": 42
        }
      ]
    },
    {
      "cell_type": "code",
      "metadata": {
        "id": "kVvzqMKGeXKw"
      },
      "source": [
        "xt1 = np.concatenate((x_unlab[idx_pred_0[0],...],x_unlab[idx_pred_1[0],...],x_unlab[idx_pred_2[0],...],x_unlab[idx_pred_3[0],...],x_unlab[idx_pred_4[0],...],x_unlab[idx_pred_5[0],...],x_unlab[idx_pred_6[0],...],x_unlab[idx_pred_7[0],...],x_unlab[idx_pred_8[0],...],x_unlab[idx_pred_9[0],...]))\n",
        "yt1 = np.concatenate((np.zeros(idx_pred_0[0].shape[0]),np.ones(idx_pred_1[0].shape[0]),np.ones(idx_pred_2[0].shape[0])*2,np.ones(idx_pred_3[0].shape[0])*3,np.ones(idx_pred_4[0].shape[0])*4,np.ones(idx_pred_5[0].shape[0])*5,np.ones(idx_pred_6[0].shape[0])*6,np.ones(idx_pred_7[0].shape[0])*7,np.ones(idx_pred_8[0].shape[0])*8,np.ones(idx_pred_9[0].shape[0])*9))"
      ],
      "execution_count": null,
      "outputs": []
    },
    {
      "cell_type": "code",
      "metadata": {
        "id": "J_Sr9H5IGTwm"
      },
      "source": [
        "xt2=np.concatenate((xt1,xt1))\n",
        "yt2=np.concatenate((yt1,yt1))"
      ],
      "execution_count": null,
      "outputs": []
    },
    {
      "cell_type": "code",
      "metadata": {
        "id": "HXoEtgY-GUBa"
      },
      "source": [
        "Xtrain=np.concatenate((xt2,x_train))\n",
        "Ytrain=np.concatenate((yt2,y_train_pred))"
      ],
      "execution_count": null,
      "outputs": []
    },
    {
      "cell_type": "code",
      "metadata": {
        "colab": {
          "base_uri": "https://localhost:8080/"
        },
        "id": "yQY4vzEaeXKx",
        "outputId": "d00b4769-9ea3-4482-d051-c23b854810ba"
      },
      "source": [
        "Xtrain.shape"
      ],
      "execution_count": null,
      "outputs": [
        {
          "output_type": "execute_result",
          "data": {
            "text/plain": [
              "(32850, 96, 96, 3)"
            ]
          },
          "metadata": {
            "tags": []
          },
          "execution_count": 46
        }
      ]
    },
    {
      "cell_type": "code",
      "metadata": {
        "colab": {
          "base_uri": "https://localhost:8080/"
        },
        "id": "8utcPu-5eXKx",
        "outputId": "0c457d20-9ad2-4fef-a37c-7edc5a53c61f"
      },
      "source": [
        "Ytrain.shape"
      ],
      "execution_count": null,
      "outputs": [
        {
          "output_type": "execute_result",
          "data": {
            "text/plain": [
              "(32850,)"
            ]
          },
          "metadata": {
            "tags": []
          },
          "execution_count": 47
        }
      ]
    },
    {
      "cell_type": "code",
      "metadata": {
        "id": "A1TqyEAbeXKx"
      },
      "source": [
        "Ytrain_shaped = pd.get_dummies(Ytrain)\n",
        "#one hot encoding"
      ],
      "execution_count": null,
      "outputs": []
    },
    {
      "cell_type": "code",
      "metadata": {
        "colab": {
          "base_uri": "https://localhost:8080/"
        },
        "id": "XHyjLGbNeXKx",
        "outputId": "2486250a-bf6f-4953-83de-1c8a8ba577d0"
      },
      "source": [
        "Ytrain_shaped.shape"
      ],
      "execution_count": null,
      "outputs": [
        {
          "output_type": "execute_result",
          "data": {
            "text/plain": [
              "(32850, 10)"
            ]
          },
          "metadata": {
            "tags": []
          },
          "execution_count": 49
        }
      ]
    },
    {
      "cell_type": "code",
      "metadata": {
        "id": "4YOt_u7Sgm5r"
      },
      "source": [
        "img_iter2 = datagen.flow(Xtrain, Ytrain_shaped , batch_size=32)"
      ],
      "execution_count": null,
      "outputs": []
    },
    {
      "cell_type": "code",
      "metadata": {
        "id": "0_IRgk_vuPMK"
      },
      "source": [
        "opt = SGD(learning_rate=0.000025)\n",
        "earlyStopping = EarlyStopping(monitor='val_loss', patience=15, verbose=0, mode='min')\n",
        "mcp_save = ModelCheckpoint('mdl_wtsPL.hdf5', save_best_only=True, monitor='val_loss', mode='min')\n",
        "model.compile(loss='categorical_crossentropy', metrics=[\"accuracy\"], optimizer=opt)"
      ],
      "execution_count": null,
      "outputs": []
    },
    {
      "cell_type": "code",
      "metadata": {
        "colab": {
          "base_uri": "https://localhost:8080/"
        },
        "id": "3B5M9WBaAxx1",
        "outputId": "f4b5ca49-3a4a-4043-dc74-8d7463450c27"
      },
      "source": [
        "history2 = model.fit(img_iter2, batch_size=32, epochs=100, verbose=1, callbacks=[mcp_save,earlyStopping], validation_data=(x_test, y_test))"
      ],
      "execution_count": null,
      "outputs": [
        {
          "output_type": "stream",
          "text": [
            "Epoch 1/100\n",
            "1027/1027 [==============================] - 89s 86ms/step - loss: 0.4236 - accuracy: 0.8648 - val_loss: 1.0483 - val_accuracy: 0.6446\n",
            "Epoch 2/100\n",
            "1027/1027 [==============================] - 90s 87ms/step - loss: 0.3588 - accuracy: 0.8840 - val_loss: 1.0237 - val_accuracy: 0.6507\n",
            "Epoch 3/100\n",
            "1027/1027 [==============================] - 89s 86ms/step - loss: 0.3391 - accuracy: 0.8891 - val_loss: 1.0508 - val_accuracy: 0.6459\n",
            "Epoch 4/100\n",
            "1027/1027 [==============================] - 89s 87ms/step - loss: 0.3286 - accuracy: 0.8930 - val_loss: 1.0301 - val_accuracy: 0.6509\n",
            "Epoch 5/100\n",
            "1027/1027 [==============================] - 90s 88ms/step - loss: 0.3211 - accuracy: 0.8966 - val_loss: 1.0733 - val_accuracy: 0.6371\n",
            "Epoch 6/100\n",
            "1027/1027 [==============================] - 89s 86ms/step - loss: 0.3156 - accuracy: 0.8965 - val_loss: 1.0487 - val_accuracy: 0.6447\n",
            "Epoch 7/100\n",
            "1027/1027 [==============================] - 87s 85ms/step - loss: 0.3100 - accuracy: 0.8981 - val_loss: 1.0581 - val_accuracy: 0.6457\n",
            "Epoch 8/100\n",
            "1027/1027 [==============================] - 90s 88ms/step - loss: 0.2984 - accuracy: 0.9038 - val_loss: 1.0556 - val_accuracy: 0.6449\n",
            "Epoch 9/100\n",
            "1027/1027 [==============================] - 91s 89ms/step - loss: 0.2987 - accuracy: 0.9019 - val_loss: 1.0703 - val_accuracy: 0.6431\n",
            "Epoch 10/100\n",
            "1027/1027 [==============================] - 88s 86ms/step - loss: 0.2952 - accuracy: 0.9015 - val_loss: 1.0493 - val_accuracy: 0.6474\n",
            "Epoch 11/100\n",
            "1027/1027 [==============================] - 87s 85ms/step - loss: 0.2895 - accuracy: 0.9038 - val_loss: 1.0412 - val_accuracy: 0.6501\n",
            "Epoch 12/100\n",
            "1027/1027 [==============================] - 87s 85ms/step - loss: 0.2911 - accuracy: 0.9048 - val_loss: 1.0555 - val_accuracy: 0.6466\n",
            "Epoch 13/100\n",
            "1027/1027 [==============================] - 88s 86ms/step - loss: 0.2874 - accuracy: 0.9058 - val_loss: 1.0635 - val_accuracy: 0.6472\n",
            "Epoch 14/100\n",
            "1027/1027 [==============================] - 90s 88ms/step - loss: 0.2905 - accuracy: 0.9044 - val_loss: 1.1064 - val_accuracy: 0.6313\n",
            "Epoch 15/100\n",
            "1027/1027 [==============================] - 88s 86ms/step - loss: 0.2848 - accuracy: 0.9067 - val_loss: 1.1301 - val_accuracy: 0.6286\n",
            "Epoch 16/100\n",
            "1027/1027 [==============================] - 88s 85ms/step - loss: 0.2784 - accuracy: 0.9100 - val_loss: 1.0634 - val_accuracy: 0.6460\n",
            "Epoch 17/100\n",
            "1027/1027 [==============================] - 90s 87ms/step - loss: 0.2808 - accuracy: 0.9080 - val_loss: 1.0641 - val_accuracy: 0.6479\n"
          ],
          "name": "stdout"
        }
      ]
    },
    {
      "cell_type": "code",
      "metadata": {
        "id": "3R_G9wIRs245",
        "colab": {
          "base_uri": "https://localhost:8080/",
          "height": 591
        },
        "outputId": "65cf7609-6a60-490b-a63a-8a1ffbbaef32"
      },
      "source": [
        "print(history2.history.keys())\n",
        "# summarize history for accuracy\n",
        "plt.plot(history2.history['accuracy'])\n",
        "plt.plot(history2.history['val_accuracy'])\n",
        "plt.title('model accuracy')\n",
        "plt.ylabel('accuracy')\n",
        "plt.xlabel('epoch')\n",
        "plt.legend(['train', 'test'], loc='upper left')\n",
        "plt.show()\n",
        "# summarize history for loss\n",
        "plt.plot(history2.history['loss'])\n",
        "plt.plot(history2.history['val_loss'])\n",
        "plt.title('model loss')\n",
        "plt.ylabel('loss')\n",
        "plt.xlabel('epoch')\n",
        "plt.legend(['train', 'test'], loc='upper left')\n",
        "plt.show()"
      ],
      "execution_count": null,
      "outputs": [
        {
          "output_type": "stream",
          "text": [
            "dict_keys(['loss', 'accuracy', 'val_loss', 'val_accuracy'])\n"
          ],
          "name": "stdout"
        },
        {
          "output_type": "display_data",
          "data": {
            "image/png": "[encoded data removed]",
            "text/plain": [
              "<Figure size 432x288 with 1 Axes>"
            ]
          },
          "metadata": {
            "tags": [],
            "needs_background": "light"
          }
        },
        {
          "output_type": "display_data",
          "data": {
            "image/png": "[encoded data removed]",
            "text/plain": [
              "<Figure size 432x288 with 1 Axes>"
            ]
          },
          "metadata": {
            "tags": [],
            "needs_background": "light"
          }
        }
      ]
    },
    {
      "cell_type": "code",
      "metadata": {
        "id": "SHIY1xXp2RjX",
        "colab": {
          "base_uri": "https://localhost:8080/"
        },
        "outputId": "76ee9d12-9904-4b71-dfc1-9f5e0e117a9d"
      },
      "source": [
        "model.load_weights(filepath = 'mdl_wtsPL.hdf5')\n",
        "scoretr = model.evaluate(x_train, y_train, verbose=0)\n",
        "print('Train PL CV score:', scoretr[0])\n",
        "print('Train PL CV accuracy:', scoretr[1])\n",
        "\n",
        "score = model.evaluate(x_test, y_test, verbose=0)\n",
        "print('Test score:', score[0])\n",
        "print('Test accuracy:', score[1])"
      ],
      "execution_count": null,
      "outputs": [
        {
          "output_type": "stream",
          "text": [
            "Train PL CV score: 0.6724172234535217\n",
            "Train PL CV accuracy: 0.7545999884605408\n",
            "Test score: 1.0236568450927734\n",
            "Test accuracy: 0.6507499814033508\n"
          ],
          "name": "stdout"
        }
      ]
    }
  ]
}